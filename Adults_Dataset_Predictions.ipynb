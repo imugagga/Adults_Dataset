{
  "cells": [
    {
      "cell_type": "markdown",
      "metadata": {
        "id": "view-in-github",
        "colab_type": "text"
      },
      "source": [
        "<a href=\"https://colab.research.google.com/github/imugagga/Adults_Dataset/blob/main/Adults_Dataset_Predictions.ipynb\" target=\"_parent\"><img src=\"https://colab.research.google.com/assets/colab-badge.svg\" alt=\"Open In Colab\"/></a>"
      ]
    },
    {
      "cell_type": "markdown",
      "metadata": {
        "id": "WWt2KqDdOdnL"
      },
      "source": [
        "# **Dataset: Adult Data Set**\n",
        "\n",
        "**Task**\n",
        "\n",
        "*Prediction task is to determine whether a person makes over 50K in a year.*"
      ]
    },
    {
      "cell_type": "markdown",
      "metadata": {
        "id": "8ENnY415fKdA"
      },
      "source": [
        "#Part 1: About the Dateset\n",
        "---"
      ]
    },
    {
      "cell_type": "markdown",
      "metadata": {
        "id": "gSUhBx7I0TI5"
      },
      "source": [
        "1) Source of data\n",
        "```\n",
        "https://archive.ics.uci.edu/ml/datasets/Adult\n",
        "```\n",
        "\n",
        "***2) Brief description of data***\n",
        "```\n",
        "\n",
        "This data was extracted from the census bureau database found at\n",
        "| http://www.census.gov/ftp/pub/DES/www/welcome.html\n",
        "aimed to determined whether income exceeds $50K/yr based on census data. Also known as \"Census Income\" dataset.\n",
        "\n",
        "```\n",
        "***3) What is the target?***\n",
        "```\n",
        "Annual salary of the Individuals\n",
        "Prediction task is to determine whether a person makes over 50K in a year.\n",
        "```\n",
        "\n",
        "*4) Is this a classification or regression problem?*\n",
        "```\n",
        "Classification Problem \n",
        "```\n",
        "5) How many features?\n",
        "```\n",
        "There are 14 Features.\n",
        "```\n",
        "6) How many rows of data.\n",
        "```\n",
        "Rows: 32561\n",
        "```\n",
        "7) What, if any, challenges do your foresee in cleaning, exploring, or modeling with this dataset?\n",
        "```\n",
        "Missing Values\n",
        "```\n"
      ]
    },
    {
      "cell_type": "code",
      "execution_count": 2,
      "metadata": {
        "colab": {
          "base_uri": "https://localhost:8080/"
        },
        "id": "2UJYVFSpHIbl",
        "outputId": "47a111eb-d8fc-4964-8b80-3259658a2ccf"
      },
      "outputs": [
        {
          "output_type": "stream",
          "name": "stdout",
          "text": [
            "Drive already mounted at /content/drive; to attempt to forcibly remount, call drive.mount(\"/content/drive\", force_remount=True).\n"
          ]
        }
      ],
      "source": [
        "#Mount data\n",
        "from google.colab import drive\n",
        "drive.mount('/content/drive')"
      ]
    },
    {
      "cell_type": "code",
      "execution_count": 4,
      "metadata": {
        "id": "SAEXSXZ2B4BQ"
      },
      "outputs": [],
      "source": [
        "#Import libraries\n",
        "import pandas as pd\n",
        "import numpy as np\n",
        "import seaborn as sns\n",
        "import matplotlib.pyplot as plt\n",
        "import warnings\n",
        "warnings.filterwarnings('ignore')\n",
        "from sklearn import set_config\n",
        "set_config(display='diagram')\n",
        "from xgboost import XGBClassifier\n",
        "from sklearn.decomposition import PCA\n",
        "from sklearn.impute import SimpleImputer\n",
        "from sklearn.pipeline import make_pipeline\n",
        "from sklearn.tree import DecisionTreeClassifier\n",
        "from sklearn.neighbors import KNeighborsClassifier\n",
        "from sklearn.ensemble import RandomForestClassifier\n",
        "from sklearn.linear_model import LogisticRegression\n",
        "from sklearn.preprocessing import StandardScaler,OneHotEncoder\n",
        "from sklearn.model_selection import train_test_split, GridSearchCV, cross_val_score\n",
        "from sklearn.metrics import ConfusionMatrixDisplay\n",
        "from sklearn.compose import make_column_selector, make_column_transformer\n",
        "from sklearn.metrics import accuracy_score, precision_score, recall_score, classification_report, ConfusionMatrixDisplay"
      ]
    },
    {
      "cell_type": "code",
      "execution_count": 5,
      "metadata": {
        "colab": {
          "base_uri": "https://localhost:8080/",
          "height": 357
        },
        "id": "CdaZwC7VwZdB",
        "outputId": "26dd05d6-aafe-4c1e-a3a6-7d750d84b2e3"
      },
      "outputs": [
        {
          "output_type": "execute_result",
          "data": {
            "text/plain": [
              "   Age          Workclass  Final_Weight   Education  Education_Num  \\\n",
              "0   39          State-gov         77516   Bachelors             13   \n",
              "1   50   Self-emp-not-inc         83311   Bachelors             13   \n",
              "2   38            Private        215646     HS-grad              9   \n",
              "3   53            Private        234721        11th              7   \n",
              "4   28            Private        338409   Bachelors             13   \n",
              "\n",
              "        Marital_Status          Occupation    Relationship    Race      Sex  \\\n",
              "0        Never-married        Adm-clerical   Not-in-family   White     Male   \n",
              "1   Married-civ-spouse     Exec-managerial         Husband   White     Male   \n",
              "2             Divorced   Handlers-cleaners   Not-in-family   White     Male   \n",
              "3   Married-civ-spouse   Handlers-cleaners         Husband   Black     Male   \n",
              "4   Married-civ-spouse      Prof-specialty            Wife   Black   Female   \n",
              "\n",
              "   Capital_Gain  Capital_Loss  Hours_Per_Week  Native_Country Annual_Salary  \n",
              "0          2174             0              40   United-States         <=50K  \n",
              "1             0             0              13   United-States         <=50K  \n",
              "2             0             0              40   United-States         <=50K  \n",
              "3             0             0              40   United-States         <=50K  \n",
              "4             0             0              40            Cuba         <=50K  "
            ],
            "text/html": [
              "\n",
              "  <div id=\"df-e5e46a0f-b828-4b9d-aa9b-dc322b48c4c7\">\n",
              "    <div class=\"colab-df-container\">\n",
              "      <div>\n",
              "<style scoped>\n",
              "    .dataframe tbody tr th:only-of-type {\n",
              "        vertical-align: middle;\n",
              "    }\n",
              "\n",
              "    .dataframe tbody tr th {\n",
              "        vertical-align: top;\n",
              "    }\n",
              "\n",
              "    .dataframe thead th {\n",
              "        text-align: right;\n",
              "    }\n",
              "</style>\n",
              "<table border=\"1\" class=\"dataframe\">\n",
              "  <thead>\n",
              "    <tr style=\"text-align: right;\">\n",
              "      <th></th>\n",
              "      <th>Age</th>\n",
              "      <th>Workclass</th>\n",
              "      <th>Final_Weight</th>\n",
              "      <th>Education</th>\n",
              "      <th>Education_Num</th>\n",
              "      <th>Marital_Status</th>\n",
              "      <th>Occupation</th>\n",
              "      <th>Relationship</th>\n",
              "      <th>Race</th>\n",
              "      <th>Sex</th>\n",
              "      <th>Capital_Gain</th>\n",
              "      <th>Capital_Loss</th>\n",
              "      <th>Hours_Per_Week</th>\n",
              "      <th>Native_Country</th>\n",
              "      <th>Annual_Salary</th>\n",
              "    </tr>\n",
              "  </thead>\n",
              "  <tbody>\n",
              "    <tr>\n",
              "      <th>0</th>\n",
              "      <td>39</td>\n",
              "      <td>State-gov</td>\n",
              "      <td>77516</td>\n",
              "      <td>Bachelors</td>\n",
              "      <td>13</td>\n",
              "      <td>Never-married</td>\n",
              "      <td>Adm-clerical</td>\n",
              "      <td>Not-in-family</td>\n",
              "      <td>White</td>\n",
              "      <td>Male</td>\n",
              "      <td>2174</td>\n",
              "      <td>0</td>\n",
              "      <td>40</td>\n",
              "      <td>United-States</td>\n",
              "      <td>&lt;=50K</td>\n",
              "    </tr>\n",
              "    <tr>\n",
              "      <th>1</th>\n",
              "      <td>50</td>\n",
              "      <td>Self-emp-not-inc</td>\n",
              "      <td>83311</td>\n",
              "      <td>Bachelors</td>\n",
              "      <td>13</td>\n",
              "      <td>Married-civ-spouse</td>\n",
              "      <td>Exec-managerial</td>\n",
              "      <td>Husband</td>\n",
              "      <td>White</td>\n",
              "      <td>Male</td>\n",
              "      <td>0</td>\n",
              "      <td>0</td>\n",
              "      <td>13</td>\n",
              "      <td>United-States</td>\n",
              "      <td>&lt;=50K</td>\n",
              "    </tr>\n",
              "    <tr>\n",
              "      <th>2</th>\n",
              "      <td>38</td>\n",
              "      <td>Private</td>\n",
              "      <td>215646</td>\n",
              "      <td>HS-grad</td>\n",
              "      <td>9</td>\n",
              "      <td>Divorced</td>\n",
              "      <td>Handlers-cleaners</td>\n",
              "      <td>Not-in-family</td>\n",
              "      <td>White</td>\n",
              "      <td>Male</td>\n",
              "      <td>0</td>\n",
              "      <td>0</td>\n",
              "      <td>40</td>\n",
              "      <td>United-States</td>\n",
              "      <td>&lt;=50K</td>\n",
              "    </tr>\n",
              "    <tr>\n",
              "      <th>3</th>\n",
              "      <td>53</td>\n",
              "      <td>Private</td>\n",
              "      <td>234721</td>\n",
              "      <td>11th</td>\n",
              "      <td>7</td>\n",
              "      <td>Married-civ-spouse</td>\n",
              "      <td>Handlers-cleaners</td>\n",
              "      <td>Husband</td>\n",
              "      <td>Black</td>\n",
              "      <td>Male</td>\n",
              "      <td>0</td>\n",
              "      <td>0</td>\n",
              "      <td>40</td>\n",
              "      <td>United-States</td>\n",
              "      <td>&lt;=50K</td>\n",
              "    </tr>\n",
              "    <tr>\n",
              "      <th>4</th>\n",
              "      <td>28</td>\n",
              "      <td>Private</td>\n",
              "      <td>338409</td>\n",
              "      <td>Bachelors</td>\n",
              "      <td>13</td>\n",
              "      <td>Married-civ-spouse</td>\n",
              "      <td>Prof-specialty</td>\n",
              "      <td>Wife</td>\n",
              "      <td>Black</td>\n",
              "      <td>Female</td>\n",
              "      <td>0</td>\n",
              "      <td>0</td>\n",
              "      <td>40</td>\n",
              "      <td>Cuba</td>\n",
              "      <td>&lt;=50K</td>\n",
              "    </tr>\n",
              "  </tbody>\n",
              "</table>\n",
              "</div>\n",
              "      <button class=\"colab-df-convert\" onclick=\"convertToInteractive('df-e5e46a0f-b828-4b9d-aa9b-dc322b48c4c7')\"\n",
              "              title=\"Convert this dataframe to an interactive table.\"\n",
              "              style=\"display:none;\">\n",
              "        \n",
              "  <svg xmlns=\"http://www.w3.org/2000/svg\" height=\"24px\"viewBox=\"0 0 24 24\"\n",
              "       width=\"24px\">\n",
              "    <path d=\"M0 0h24v24H0V0z\" fill=\"none\"/>\n",
              "    <path d=\"M18.56 5.44l.94 2.06.94-2.06 2.06-.94-2.06-.94-.94-2.06-.94 2.06-2.06.94zm-11 1L8.5 8.5l.94-2.06 2.06-.94-2.06-.94L8.5 2.5l-.94 2.06-2.06.94zm10 10l.94 2.06.94-2.06 2.06-.94-2.06-.94-.94-2.06-.94 2.06-2.06.94z\"/><path d=\"M17.41 7.96l-1.37-1.37c-.4-.4-.92-.59-1.43-.59-.52 0-1.04.2-1.43.59L10.3 9.45l-7.72 7.72c-.78.78-.78 2.05 0 2.83L4 21.41c.39.39.9.59 1.41.59.51 0 1.02-.2 1.41-.59l7.78-7.78 2.81-2.81c.8-.78.8-2.07 0-2.86zM5.41 20L4 18.59l7.72-7.72 1.47 1.35L5.41 20z\"/>\n",
              "  </svg>\n",
              "      </button>\n",
              "      \n",
              "  <style>\n",
              "    .colab-df-container {\n",
              "      display:flex;\n",
              "      flex-wrap:wrap;\n",
              "      gap: 12px;\n",
              "    }\n",
              "\n",
              "    .colab-df-convert {\n",
              "      background-color: #E8F0FE;\n",
              "      border: none;\n",
              "      border-radius: 50%;\n",
              "      cursor: pointer;\n",
              "      display: none;\n",
              "      fill: #1967D2;\n",
              "      height: 32px;\n",
              "      padding: 0 0 0 0;\n",
              "      width: 32px;\n",
              "    }\n",
              "\n",
              "    .colab-df-convert:hover {\n",
              "      background-color: #E2EBFA;\n",
              "      box-shadow: 0px 1px 2px rgba(60, 64, 67, 0.3), 0px 1px 3px 1px rgba(60, 64, 67, 0.15);\n",
              "      fill: #174EA6;\n",
              "    }\n",
              "\n",
              "    [theme=dark] .colab-df-convert {\n",
              "      background-color: #3B4455;\n",
              "      fill: #D2E3FC;\n",
              "    }\n",
              "\n",
              "    [theme=dark] .colab-df-convert:hover {\n",
              "      background-color: #434B5C;\n",
              "      box-shadow: 0px 1px 3px 1px rgba(0, 0, 0, 0.15);\n",
              "      filter: drop-shadow(0px 1px 2px rgba(0, 0, 0, 0.3));\n",
              "      fill: #FFFFFF;\n",
              "    }\n",
              "  </style>\n",
              "\n",
              "      <script>\n",
              "        const buttonEl =\n",
              "          document.querySelector('#df-e5e46a0f-b828-4b9d-aa9b-dc322b48c4c7 button.colab-df-convert');\n",
              "        buttonEl.style.display =\n",
              "          google.colab.kernel.accessAllowed ? 'block' : 'none';\n",
              "\n",
              "        async function convertToInteractive(key) {\n",
              "          const element = document.querySelector('#df-e5e46a0f-b828-4b9d-aa9b-dc322b48c4c7');\n",
              "          const dataTable =\n",
              "            await google.colab.kernel.invokeFunction('convertToInteractive',\n",
              "                                                     [key], {});\n",
              "          if (!dataTable) return;\n",
              "\n",
              "          const docLinkHtml = 'Like what you see? Visit the ' +\n",
              "            '<a target=\"_blank\" href=https://colab.research.google.com/notebooks/data_table.ipynb>data table notebook</a>'\n",
              "            + ' to learn more about interactive tables.';\n",
              "          element.innerHTML = '';\n",
              "          dataTable['output_type'] = 'display_data';\n",
              "          await google.colab.output.renderOutput(dataTable, element);\n",
              "          const docLink = document.createElement('div');\n",
              "          docLink.innerHTML = docLinkHtml;\n",
              "          element.appendChild(docLink);\n",
              "        }\n",
              "      </script>\n",
              "    </div>\n",
              "  </div>\n",
              "  "
            ]
          },
          "metadata": {},
          "execution_count": 5
        }
      ],
      "source": [
        "#Read the file \n",
        "df = pd.read_csv('/content/drive/MyDrive/Colab Notebooks/Supervised Machine Learning/Week 7/Uploads/adult.data',header=None)\n",
        "\n",
        "df.columns=[ 'Age',\t'Workclass',\t'Final_Weight',\t'Education','Education_Num',\n",
        "            'Marital_Status',\t'Occupation',\t'Relationship',\t'Race',\t'Sex',\t\n",
        "            'Capital_Gain',\t'Capital_Loss',\t'Hours_Per_Week',\t'Native_Country','Annual_Salary']\n",
        "df.head()"
      ]
    },
    {
      "cell_type": "markdown",
      "metadata": {
        "id": "eG4zERXaxALr"
      },
      "source": [
        "**Attribute Information:**"
      ]
    },
    {
      "cell_type": "code",
      "execution_count": 6,
      "metadata": {
        "colab": {
          "base_uri": "https://localhost:8080/"
        },
        "id": "LQB1vmIHxiQO",
        "outputId": "5119bc00-1b31-48fc-d5f8-cecc109b3d91"
      },
      "outputs": [
        {
          "output_type": "stream",
          "name": "stdout",
          "text": [
            "No. Features: 14\n"
          ]
        }
      ],
      "source": [
        "#Features\n",
        "print(f'No. Features: {len(list(df.columns))-1}')"
      ]
    },
    {
      "cell_type": "code",
      "execution_count": 7,
      "metadata": {
        "colab": {
          "base_uri": "https://localhost:8080/"
        },
        "id": "JNvOxn6kxkdC",
        "outputId": "4269d4ae-18cf-4ced-f624-4088f1c35d12"
      },
      "outputs": [
        {
          "output_type": "execute_result",
          "data": {
            "text/plain": [
              "(32561, 15)"
            ]
          },
          "metadata": {},
          "execution_count": 7
        }
      ],
      "source": [
        "#Data Shape\n",
        "df.shape"
      ]
    },
    {
      "cell_type": "markdown",
      "metadata": {
        "id": "2Cz_VGS-JF7t"
      },
      "source": [
        "***Data Cleaning***"
      ]
    },
    {
      "cell_type": "code",
      "execution_count": 8,
      "metadata": {
        "id": "YTPVtxnUDdu3"
      },
      "outputs": [],
      "source": [
        "#Remove the whitespaces from the data.\n",
        "df = df.applymap(lambda x: x.strip() if isinstance(x, str) else x)"
      ]
    },
    {
      "cell_type": "code",
      "execution_count": 9,
      "metadata": {
        "colab": {
          "base_uri": "https://localhost:8080/"
        },
        "id": "cMFVMcPrJJXN",
        "outputId": "4ed20885-f455-461c-faee-d022d6ad2df5"
      },
      "outputs": [
        {
          "output_type": "execute_result",
          "data": {
            "text/plain": [
              "24"
            ]
          },
          "metadata": {},
          "execution_count": 9
        }
      ],
      "source": [
        "#Check for Duplicates\n",
        "df.duplicated().sum()"
      ]
    },
    {
      "cell_type": "code",
      "execution_count": 10,
      "metadata": {
        "colab": {
          "base_uri": "https://localhost:8080/"
        },
        "id": "xlBq0-wVI9NQ",
        "outputId": "29b1d82a-05e2-406b-fcb8-448a7bde3a9a"
      },
      "outputs": [
        {
          "output_type": "execute_result",
          "data": {
            "text/plain": [
              "0"
            ]
          },
          "metadata": {},
          "execution_count": 10
        }
      ],
      "source": [
        "#Drop Duplicates\n",
        "df.drop_duplicates(inplace=True)\n",
        "df.duplicated().sum()"
      ]
    },
    {
      "cell_type": "code",
      "execution_count": 11,
      "metadata": {
        "colab": {
          "base_uri": "https://localhost:8080/"
        },
        "id": "LN6_U-m8KTSt",
        "outputId": "4446d65f-975e-4486-a05a-eba0b44c2694"
      },
      "outputs": [
        {
          "output_type": "execute_result",
          "data": {
            "text/plain": [
              "Age                  73\n",
              "Workclass             9\n",
              "Final_Weight      21648\n",
              "Education            16\n",
              "Education_Num        16\n",
              "Marital_Status        7\n",
              "Occupation           15\n",
              "Relationship          6\n",
              "Race                  5\n",
              "Sex                   2\n",
              "Capital_Gain        119\n",
              "Capital_Loss         92\n",
              "Hours_Per_Week       94\n",
              "Native_Country       42\n",
              "Annual_Salary         2\n",
              "dtype: int64"
            ]
          },
          "metadata": {},
          "execution_count": 11
        }
      ],
      "source": [
        "#Checking for data Inconsistences\n",
        "df.nunique()"
      ]
    },
    {
      "cell_type": "code",
      "execution_count": 12,
      "metadata": {
        "colab": {
          "base_uri": "https://localhost:8080/"
        },
        "id": "JfS1qNciKuDm",
        "outputId": "fbc76385-913b-439a-ebc1-87e5cb000eb5"
      },
      "outputs": [
        {
          "output_type": "stream",
          "name": "stdout",
          "text": [
            "<class 'pandas.core.frame.DataFrame'>\n",
            "Int64Index: 32537 entries, 0 to 32560\n",
            "Data columns (total 15 columns):\n",
            " #   Column          Non-Null Count  Dtype \n",
            "---  ------          --------------  ----- \n",
            " 0   Age             32537 non-null  int64 \n",
            " 1   Workclass       32537 non-null  object\n",
            " 2   Final_Weight    32537 non-null  int64 \n",
            " 3   Education       32537 non-null  object\n",
            " 4   Education_Num   32537 non-null  int64 \n",
            " 5   Marital_Status  32537 non-null  object\n",
            " 6   Occupation      32537 non-null  object\n",
            " 7   Relationship    32537 non-null  object\n",
            " 8   Race            32537 non-null  object\n",
            " 9   Sex             32537 non-null  object\n",
            " 10  Capital_Gain    32537 non-null  int64 \n",
            " 11  Capital_Loss    32537 non-null  int64 \n",
            " 12  Hours_Per_Week  32537 non-null  int64 \n",
            " 13  Native_Country  32537 non-null  object\n",
            " 14  Annual_Salary   32537 non-null  object\n",
            "dtypes: int64(6), object(9)\n",
            "memory usage: 4.0+ MB\n"
          ]
        }
      ],
      "source": [
        "#Check Data types and Data shape\n",
        "df.info()"
      ]
    },
    {
      "cell_type": "code",
      "execution_count": 13,
      "metadata": {
        "colab": {
          "base_uri": "https://localhost:8080/"
        },
        "id": "pgt7t20PianL",
        "outputId": "eebf56fd-370d-4147-a096-0d5c94008eb3"
      },
      "outputs": [
        {
          "output_type": "execute_result",
          "data": {
            "text/plain": [
              "Private             22673\n",
              "Self-emp-not-inc     2540\n",
              "Local-gov            2093\n",
              "?                    1836\n",
              "State-gov            1298\n",
              "Self-emp-inc         1116\n",
              "Federal-gov           960\n",
              "Without-pay            14\n",
              "Never-worked            7\n",
              "Name: Workclass, dtype: int64"
            ]
          },
          "metadata": {},
          "execution_count": 13
        }
      ],
      "source": [
        "#View Column Contents\n",
        "df['Workclass'].value_counts()"
      ]
    },
    {
      "cell_type": "code",
      "execution_count": 14,
      "metadata": {
        "colab": {
          "base_uri": "https://localhost:8080/"
        },
        "id": "Uzrcu_YZODDG",
        "outputId": "70c27a7d-5e41-4325-8213-f1c40e7231dd"
      },
      "outputs": [
        {
          "output_type": "execute_result",
          "data": {
            "text/plain": [
              "Age                  0\n",
              "Workclass         1836\n",
              "Final_Weight         0\n",
              "Education            0\n",
              "Education_Num        0\n",
              "Marital_Status       0\n",
              "Occupation        1843\n",
              "Relationship         0\n",
              "Race                 0\n",
              "Sex                  0\n",
              "Capital_Gain         0\n",
              "Capital_Loss         0\n",
              "Hours_Per_Week       0\n",
              "Native_Country     582\n",
              "Annual_Salary        0\n",
              "dtype: int64"
            ]
          },
          "metadata": {},
          "execution_count": 14
        }
      ],
      "source": [
        "#In the dataset the missing values are represented as ' ?', \n",
        "#Thus i will replace this with a Nan to have a better view of the column with the missing values\n",
        "df.replace('?',np.nan,inplace=True)\n",
        "\n",
        "#Identify and addressed missing values\n",
        "df.isnull().sum()"
      ]
    },
    {
      "cell_type": "code",
      "execution_count": 15,
      "metadata": {
        "colab": {
          "base_uri": "https://localhost:8080/"
        },
        "id": "n6PxOMAvQ3YY",
        "outputId": "d74092fe-f64b-4791-994f-92b321a46919"
      },
      "outputs": [
        {
          "output_type": "stream",
          "name": "stdout",
          "text": [
            "Column       Missing Values   Full Column_Length\n",
            "Workclass:       1836         32537\n",
            "Occupation:       1843         32537\n",
            "Native_Country:       582         32537\n"
          ]
        }
      ],
      "source": [
        "#Filter Columns with Missing Values\n",
        "dfm = df[df.isnull().sum()[df.isnull().sum() > 0].index]\n",
        "\n",
        "#Compare Minning Values with the length of the dataframe column\n",
        "print('Column       Missing Values   Full Column_Length')\n",
        "for col in dfm:\n",
        "  print(f'{col}:       {df[col].isnull().sum()}         {len(df)}')"
      ]
    },
    {
      "cell_type": "code",
      "execution_count": 16,
      "metadata": {
        "colab": {
          "base_uri": "https://localhost:8080/"
        },
        "id": "y75dixanQFRI",
        "outputId": "f23242a3-0455-4ccb-aa7b-8d45937826b6"
      },
      "outputs": [
        {
          "output_type": "stream",
          "name": "stdout",
          "text": [
            "Workclass: Missing Values are 5.64% of the Column Length\n",
            "Occupation: Missing Values are 5.66% of the Column Length\n",
            "Native_Country: Missing Values are 1.79% of the Column Length\n"
          ]
        }
      ],
      "source": [
        "#Compare Missing Values with the length of the dataframe column\n",
        "for col in dfm:\n",
        "  print(f'{col}: Missing Values are {(df[col].isnull().sum()/len(df)*100).round(2)}% of the Column Length')"
      ]
    },
    {
      "cell_type": "markdown",
      "metadata": {
        "id": "WaiUorqLzrQi"
      },
      "source": [
        "***Imputing Missing values.***\n",
        "\n",
        "The Missing values are a small percentage of the data, as indicated above.\n",
        "Since these are also object data type columns.\n",
        "\n",
        "Each of these columns with missing values will be imputed with the most common element in the column."
      ]
    },
    {
      "cell_type": "code",
      "execution_count": 17,
      "metadata": {
        "id": "X9KYdSbuMPBJ"
      },
      "outputs": [],
      "source": [
        "#Imputation\n",
        "Mode_Workclass  = df['Workclass'].mode()[0]\n",
        "df['Workclass'].fillna(Mode_Workclass,inplace=True)\n",
        "\n",
        "Mode_Occupation  = df['Occupation'].mode()[0]\n",
        "df['Occupation'].fillna(Mode_Occupation,inplace=True)\n",
        "\n",
        "Mode_Native_Country  = df['Native_Country'].mode()[0]\n",
        "df['Native_Country'].fillna(Mode_Native_Country,inplace=True)"
      ]
    },
    {
      "cell_type": "code",
      "execution_count": 18,
      "metadata": {
        "colab": {
          "base_uri": "https://localhost:8080/"
        },
        "id": "4NhbVTtgqPfg",
        "outputId": "bcb20115-5772-4c51-c858-fdc7753d5efa"
      },
      "outputs": [
        {
          "output_type": "stream",
          "name": "stdout",
          "text": [
            "Workclass: ['State-gov' 'Self-emp-not-inc' 'Private' 'Federal-gov' 'Local-gov'\n",
            " 'Self-emp-inc' 'Without-pay' 'Never-worked'] \n",
            "\n",
            "Education: ['Bachelors' 'HS-grad' '11th' 'Masters' '9th' 'Some-college' 'Assoc-acdm'\n",
            " 'Assoc-voc' '7th-8th' 'Doctorate' 'Prof-school' '5th-6th' '10th'\n",
            " '1st-4th' 'Preschool' '12th'] \n",
            "\n",
            "Marital_Status: ['Never-married' 'Married-civ-spouse' 'Divorced' 'Married-spouse-absent'\n",
            " 'Separated' 'Married-AF-spouse' 'Widowed'] \n",
            "\n",
            "Occupation: ['Adm-clerical' 'Exec-managerial' 'Handlers-cleaners' 'Prof-specialty'\n",
            " 'Other-service' 'Sales' 'Craft-repair' 'Transport-moving'\n",
            " 'Farming-fishing' 'Machine-op-inspct' 'Tech-support' 'Protective-serv'\n",
            " 'Armed-Forces' 'Priv-house-serv'] \n",
            "\n",
            "Relationship: ['Not-in-family' 'Husband' 'Wife' 'Own-child' 'Unmarried' 'Other-relative'] \n",
            "\n",
            "Race: ['White' 'Black' 'Asian-Pac-Islander' 'Amer-Indian-Eskimo' 'Other'] \n",
            "\n",
            "Sex: ['Male' 'Female'] \n",
            "\n",
            "Native_Country: ['United-States' 'Cuba' 'Jamaica' 'India' 'Mexico' 'South' 'Puerto-Rico'\n",
            " 'Honduras' 'England' 'Canada' 'Germany' 'Iran' 'Philippines' 'Italy'\n",
            " 'Poland' 'Columbia' 'Cambodia' 'Thailand' 'Ecuador' 'Laos' 'Taiwan'\n",
            " 'Haiti' 'Portugal' 'Dominican-Republic' 'El-Salvador' 'France'\n",
            " 'Guatemala' 'China' 'Japan' 'Yugoslavia' 'Peru'\n",
            " 'Outlying-US(Guam-USVI-etc)' 'Scotland' 'Trinadad&Tobago' 'Greece'\n",
            " 'Nicaragua' 'Vietnam' 'Hong' 'Ireland' 'Hungary' 'Holand-Netherlands'] \n",
            "\n",
            "Annual_Salary: ['<=50K' '>50K'] \n",
            "\n"
          ]
        }
      ],
      "source": [
        "#Check for data Consistences\n",
        "\n",
        "df1 = df.select_dtypes(include='object')\n",
        "for col in df1:\n",
        "  print(f'{col}: {df[col].unique()} \\n')\n",
        "\n",
        "#All the data is consistent and no incosistences identified"
      ]
    },
    {
      "cell_type": "code",
      "execution_count": 19,
      "metadata": {
        "colab": {
          "base_uri": "https://localhost:8080/",
          "height": 357
        },
        "id": "-M1BZH1Xu4A-",
        "outputId": "c1102031-9a79-4146-99b3-571f3478053b"
      },
      "outputs": [
        {
          "output_type": "execute_result",
          "data": {
            "text/plain": [
              "   Age         Workclass  Final_Weight  Education  Education_Num  \\\n",
              "0   39         State-gov         77516  Bachelors             13   \n",
              "1   50  Self-emp-not-inc         83311  Bachelors             13   \n",
              "2   38           Private        215646    HS-grad              9   \n",
              "3   53           Private        234721       11th              7   \n",
              "4   28           Private        338409  Bachelors             13   \n",
              "\n",
              "       Marital_Status         Occupation   Relationship   Race     Sex  \\\n",
              "0       Never-married       Adm-clerical  Not-in-family  White    Male   \n",
              "1  Married-civ-spouse    Exec-managerial        Husband  White    Male   \n",
              "2            Divorced  Handlers-cleaners  Not-in-family  White    Male   \n",
              "3  Married-civ-spouse  Handlers-cleaners        Husband  Black    Male   \n",
              "4  Married-civ-spouse     Prof-specialty           Wife  Black  Female   \n",
              "\n",
              "   Capital_Gain  Capital_Loss  Hours_Per_Week Native_Country Annual_Salary  \n",
              "0          2174             0              40  United-States         <=50K  \n",
              "1             0             0              13  United-States         <=50K  \n",
              "2             0             0              40  United-States         <=50K  \n",
              "3             0             0              40  United-States         <=50K  \n",
              "4             0             0              40           Cuba         <=50K  "
            ],
            "text/html": [
              "\n",
              "  <div id=\"df-26d0b548-3831-4a4f-8bb8-55dc9b3f773c\">\n",
              "    <div class=\"colab-df-container\">\n",
              "      <div>\n",
              "<style scoped>\n",
              "    .dataframe tbody tr th:only-of-type {\n",
              "        vertical-align: middle;\n",
              "    }\n",
              "\n",
              "    .dataframe tbody tr th {\n",
              "        vertical-align: top;\n",
              "    }\n",
              "\n",
              "    .dataframe thead th {\n",
              "        text-align: right;\n",
              "    }\n",
              "</style>\n",
              "<table border=\"1\" class=\"dataframe\">\n",
              "  <thead>\n",
              "    <tr style=\"text-align: right;\">\n",
              "      <th></th>\n",
              "      <th>Age</th>\n",
              "      <th>Workclass</th>\n",
              "      <th>Final_Weight</th>\n",
              "      <th>Education</th>\n",
              "      <th>Education_Num</th>\n",
              "      <th>Marital_Status</th>\n",
              "      <th>Occupation</th>\n",
              "      <th>Relationship</th>\n",
              "      <th>Race</th>\n",
              "      <th>Sex</th>\n",
              "      <th>Capital_Gain</th>\n",
              "      <th>Capital_Loss</th>\n",
              "      <th>Hours_Per_Week</th>\n",
              "      <th>Native_Country</th>\n",
              "      <th>Annual_Salary</th>\n",
              "    </tr>\n",
              "  </thead>\n",
              "  <tbody>\n",
              "    <tr>\n",
              "      <th>0</th>\n",
              "      <td>39</td>\n",
              "      <td>State-gov</td>\n",
              "      <td>77516</td>\n",
              "      <td>Bachelors</td>\n",
              "      <td>13</td>\n",
              "      <td>Never-married</td>\n",
              "      <td>Adm-clerical</td>\n",
              "      <td>Not-in-family</td>\n",
              "      <td>White</td>\n",
              "      <td>Male</td>\n",
              "      <td>2174</td>\n",
              "      <td>0</td>\n",
              "      <td>40</td>\n",
              "      <td>United-States</td>\n",
              "      <td>&lt;=50K</td>\n",
              "    </tr>\n",
              "    <tr>\n",
              "      <th>1</th>\n",
              "      <td>50</td>\n",
              "      <td>Self-emp-not-inc</td>\n",
              "      <td>83311</td>\n",
              "      <td>Bachelors</td>\n",
              "      <td>13</td>\n",
              "      <td>Married-civ-spouse</td>\n",
              "      <td>Exec-managerial</td>\n",
              "      <td>Husband</td>\n",
              "      <td>White</td>\n",
              "      <td>Male</td>\n",
              "      <td>0</td>\n",
              "      <td>0</td>\n",
              "      <td>13</td>\n",
              "      <td>United-States</td>\n",
              "      <td>&lt;=50K</td>\n",
              "    </tr>\n",
              "    <tr>\n",
              "      <th>2</th>\n",
              "      <td>38</td>\n",
              "      <td>Private</td>\n",
              "      <td>215646</td>\n",
              "      <td>HS-grad</td>\n",
              "      <td>9</td>\n",
              "      <td>Divorced</td>\n",
              "      <td>Handlers-cleaners</td>\n",
              "      <td>Not-in-family</td>\n",
              "      <td>White</td>\n",
              "      <td>Male</td>\n",
              "      <td>0</td>\n",
              "      <td>0</td>\n",
              "      <td>40</td>\n",
              "      <td>United-States</td>\n",
              "      <td>&lt;=50K</td>\n",
              "    </tr>\n",
              "    <tr>\n",
              "      <th>3</th>\n",
              "      <td>53</td>\n",
              "      <td>Private</td>\n",
              "      <td>234721</td>\n",
              "      <td>11th</td>\n",
              "      <td>7</td>\n",
              "      <td>Married-civ-spouse</td>\n",
              "      <td>Handlers-cleaners</td>\n",
              "      <td>Husband</td>\n",
              "      <td>Black</td>\n",
              "      <td>Male</td>\n",
              "      <td>0</td>\n",
              "      <td>0</td>\n",
              "      <td>40</td>\n",
              "      <td>United-States</td>\n",
              "      <td>&lt;=50K</td>\n",
              "    </tr>\n",
              "    <tr>\n",
              "      <th>4</th>\n",
              "      <td>28</td>\n",
              "      <td>Private</td>\n",
              "      <td>338409</td>\n",
              "      <td>Bachelors</td>\n",
              "      <td>13</td>\n",
              "      <td>Married-civ-spouse</td>\n",
              "      <td>Prof-specialty</td>\n",
              "      <td>Wife</td>\n",
              "      <td>Black</td>\n",
              "      <td>Female</td>\n",
              "      <td>0</td>\n",
              "      <td>0</td>\n",
              "      <td>40</td>\n",
              "      <td>Cuba</td>\n",
              "      <td>&lt;=50K</td>\n",
              "    </tr>\n",
              "  </tbody>\n",
              "</table>\n",
              "</div>\n",
              "      <button class=\"colab-df-convert\" onclick=\"convertToInteractive('df-26d0b548-3831-4a4f-8bb8-55dc9b3f773c')\"\n",
              "              title=\"Convert this dataframe to an interactive table.\"\n",
              "              style=\"display:none;\">\n",
              "        \n",
              "  <svg xmlns=\"http://www.w3.org/2000/svg\" height=\"24px\"viewBox=\"0 0 24 24\"\n",
              "       width=\"24px\">\n",
              "    <path d=\"M0 0h24v24H0V0z\" fill=\"none\"/>\n",
              "    <path d=\"M18.56 5.44l.94 2.06.94-2.06 2.06-.94-2.06-.94-.94-2.06-.94 2.06-2.06.94zm-11 1L8.5 8.5l.94-2.06 2.06-.94-2.06-.94L8.5 2.5l-.94 2.06-2.06.94zm10 10l.94 2.06.94-2.06 2.06-.94-2.06-.94-.94-2.06-.94 2.06-2.06.94z\"/><path d=\"M17.41 7.96l-1.37-1.37c-.4-.4-.92-.59-1.43-.59-.52 0-1.04.2-1.43.59L10.3 9.45l-7.72 7.72c-.78.78-.78 2.05 0 2.83L4 21.41c.39.39.9.59 1.41.59.51 0 1.02-.2 1.41-.59l7.78-7.78 2.81-2.81c.8-.78.8-2.07 0-2.86zM5.41 20L4 18.59l7.72-7.72 1.47 1.35L5.41 20z\"/>\n",
              "  </svg>\n",
              "      </button>\n",
              "      \n",
              "  <style>\n",
              "    .colab-df-container {\n",
              "      display:flex;\n",
              "      flex-wrap:wrap;\n",
              "      gap: 12px;\n",
              "    }\n",
              "\n",
              "    .colab-df-convert {\n",
              "      background-color: #E8F0FE;\n",
              "      border: none;\n",
              "      border-radius: 50%;\n",
              "      cursor: pointer;\n",
              "      display: none;\n",
              "      fill: #1967D2;\n",
              "      height: 32px;\n",
              "      padding: 0 0 0 0;\n",
              "      width: 32px;\n",
              "    }\n",
              "\n",
              "    .colab-df-convert:hover {\n",
              "      background-color: #E2EBFA;\n",
              "      box-shadow: 0px 1px 2px rgba(60, 64, 67, 0.3), 0px 1px 3px 1px rgba(60, 64, 67, 0.15);\n",
              "      fill: #174EA6;\n",
              "    }\n",
              "\n",
              "    [theme=dark] .colab-df-convert {\n",
              "      background-color: #3B4455;\n",
              "      fill: #D2E3FC;\n",
              "    }\n",
              "\n",
              "    [theme=dark] .colab-df-convert:hover {\n",
              "      background-color: #434B5C;\n",
              "      box-shadow: 0px 1px 3px 1px rgba(0, 0, 0, 0.15);\n",
              "      filter: drop-shadow(0px 1px 2px rgba(0, 0, 0, 0.3));\n",
              "      fill: #FFFFFF;\n",
              "    }\n",
              "  </style>\n",
              "\n",
              "      <script>\n",
              "        const buttonEl =\n",
              "          document.querySelector('#df-26d0b548-3831-4a4f-8bb8-55dc9b3f773c button.colab-df-convert');\n",
              "        buttonEl.style.display =\n",
              "          google.colab.kernel.accessAllowed ? 'block' : 'none';\n",
              "\n",
              "        async function convertToInteractive(key) {\n",
              "          const element = document.querySelector('#df-26d0b548-3831-4a4f-8bb8-55dc9b3f773c');\n",
              "          const dataTable =\n",
              "            await google.colab.kernel.invokeFunction('convertToInteractive',\n",
              "                                                     [key], {});\n",
              "          if (!dataTable) return;\n",
              "\n",
              "          const docLinkHtml = 'Like what you see? Visit the ' +\n",
              "            '<a target=\"_blank\" href=https://colab.research.google.com/notebooks/data_table.ipynb>data table notebook</a>'\n",
              "            + ' to learn more about interactive tables.';\n",
              "          element.innerHTML = '';\n",
              "          dataTable['output_type'] = 'display_data';\n",
              "          await google.colab.output.renderOutput(dataTable, element);\n",
              "          const docLink = document.createElement('div');\n",
              "          docLink.innerHTML = docLinkHtml;\n",
              "          element.appendChild(docLink);\n",
              "        }\n",
              "      </script>\n",
              "    </div>\n",
              "  </div>\n",
              "  "
            ]
          },
          "metadata": {},
          "execution_count": 19
        }
      ],
      "source": [
        "df.head()"
      ]
    },
    {
      "cell_type": "markdown",
      "metadata": {
        "id": "3C-Zzgv_fEfu"
      },
      "source": [
        "#Part 2: Exploratory Data Analysis\n",
        "---"
      ]
    },
    {
      "cell_type": "code",
      "execution_count": 20,
      "metadata": {
        "id": "x93c5abqiwn5"
      },
      "outputs": [],
      "source": [
        "#Numerize the Target Column\n",
        "salary_map = {'<=50K': 0, '>50K': 1}\n",
        "df['Annual_Salary'] = df['Annual_Salary'].map(salary_map)"
      ]
    },
    {
      "cell_type": "code",
      "execution_count": 21,
      "metadata": {
        "colab": {
          "base_uri": "https://localhost:8080/",
          "height": 522
        },
        "id": "3eCnan00izvX",
        "outputId": "28485d0d-6034-4f36-855b-5ae92e63ea20"
      },
      "outputs": [
        {
          "output_type": "display_data",
          "data": {
            "text/plain": [
              "<Figure size 600x600 with 1 Axes>"
            ],
            "image/png": "[encoded data removed]"
          },
          "metadata": {}
        }
      ],
      "source": [
        "plt.style.use('ggplot')\n",
        "fig, ax = plt.subplots(figsize=(6, 6))\n",
        "labels = ['Below $50k', 'Above $50k']\n",
        "colors = ['green', 'pink']\n",
        "ax.pie(df['Annual_Salary'].value_counts(), labels=labels, colors=colors, autopct='%1.1f%%')\n",
        "ax.set_title('Distribution of Annual Salary')\n",
        "plt.show()"
      ]
    },
    {
      "cell_type": "markdown",
      "metadata": {
        "id": "3rQ1Pp7N71Qg"
      },
      "source": [
        "*From the visualisation.*\n",
        "\n",
        "The dataset is unbalanced as 75.9% of the data set are Below $50k  while only 24.1% are Above 50k Dollars\n",
        "\n"
      ]
    },
    {
      "cell_type": "code",
      "execution_count": 22,
      "metadata": {
        "colab": {
          "base_uri": "https://localhost:8080/"
        },
        "id": "izAGjIMpucHK",
        "outputId": "60a3f702-52ff-4171-f565-cc6b6d00f3e5"
      },
      "outputs": [
        {
          "output_type": "execute_result",
          "data": {
            "text/plain": [
              "<module 'matplotlib.pyplot' from '/usr/local/lib/python3.9/dist-packages/matplotlib/pyplot.py'>"
            ]
          },
          "metadata": {},
          "execution_count": 22
        }
      ],
      "source": [
        "plt"
      ]
    },
    {
      "cell_type": "code",
      "execution_count": 23,
      "metadata": {
        "colab": {
          "base_uri": "https://localhost:8080/",
          "height": 553
        },
        "id": "FFnxm6m-7Alr",
        "outputId": "57794085-9bf2-4c5b-e9fe-ec7cd0747cc1"
      },
      "outputs": [
        {
          "output_type": "execute_result",
          "data": {
            "text/plain": [
              "<Axes: >"
            ]
          },
          "metadata": {},
          "execution_count": 23
        },
        {
          "output_type": "display_data",
          "data": {
            "text/plain": [
              "<Figure size 640x480 with 2 Axes>"
            ],
            "image/png": "[encoded data removed]"
          },
          "metadata": {}
        }
      ],
      "source": [
        "#View Correlations between the Various Features.\n",
        "corr_df = df.corr()\n",
        "Corr_matrix = sns.heatmap(corr_df,annot=True, cmap='Greens')\n",
        "Corr_matrix"
      ]
    },
    {
      "cell_type": "markdown",
      "metadata": {
        "id": "RPuHJLV7F7h-"
      },
      "source": [
        "***Observation***\n",
        "\n",
        "There are weak correlations of the numerical; columns to the target, however the age and and education Num havce slightly higher correlatiuons than the other columns."
      ]
    },
    {
      "cell_type": "code",
      "execution_count": 24,
      "metadata": {
        "colab": {
          "base_uri": "https://localhost:8080/",
          "height": 357
        },
        "id": "VnMjCsoPCmud",
        "outputId": "20b5041d-ede1-44a4-eddb-21ea42a325c2"
      },
      "outputs": [
        {
          "output_type": "execute_result",
          "data": {
            "text/plain": [
              "   Age         Workclass  Final_Weight  Education  Education_Num  \\\n",
              "0   39         State-gov         77516  Bachelors             13   \n",
              "1   50  Self-emp-not-inc         83311  Bachelors             13   \n",
              "2   38           Private        215646    HS-grad              9   \n",
              "3   53           Private        234721       11th              7   \n",
              "4   28           Private        338409  Bachelors             13   \n",
              "\n",
              "       Marital_Status         Occupation   Relationship   Race     Sex  \\\n",
              "0       Never-married       Adm-clerical  Not-in-family  White    Male   \n",
              "1  Married-civ-spouse    Exec-managerial        Husband  White    Male   \n",
              "2            Divorced  Handlers-cleaners  Not-in-family  White    Male   \n",
              "3  Married-civ-spouse  Handlers-cleaners        Husband  Black    Male   \n",
              "4  Married-civ-spouse     Prof-specialty           Wife  Black  Female   \n",
              "\n",
              "   Capital_Gain  Capital_Loss  Hours_Per_Week Native_Country  Annual_Salary  \\\n",
              "0          2174             0              40  United-States              0   \n",
              "1             0             0              13  United-States              0   \n",
              "2             0             0              40  United-States              0   \n",
              "3             0             0              40  United-States              0   \n",
              "4             0             0              40           Cuba              0   \n",
              "\n",
              "   Count  \n",
              "0      1  \n",
              "1      1  \n",
              "2      1  \n",
              "3      1  \n",
              "4      1  "
            ],
            "text/html": [
              "\n",
              "  <div id=\"df-d9430358-df1c-47b8-87e3-19604419ff1d\">\n",
              "    <div class=\"colab-df-container\">\n",
              "      <div>\n",
              "<style scoped>\n",
              "    .dataframe tbody tr th:only-of-type {\n",
              "        vertical-align: middle;\n",
              "    }\n",
              "\n",
              "    .dataframe tbody tr th {\n",
              "        vertical-align: top;\n",
              "    }\n",
              "\n",
              "    .dataframe thead th {\n",
              "        text-align: right;\n",
              "    }\n",
              "</style>\n",
              "<table border=\"1\" class=\"dataframe\">\n",
              "  <thead>\n",
              "    <tr style=\"text-align: right;\">\n",
              "      <th></th>\n",
              "      <th>Age</th>\n",
              "      <th>Workclass</th>\n",
              "      <th>Final_Weight</th>\n",
              "      <th>Education</th>\n",
              "      <th>Education_Num</th>\n",
              "      <th>Marital_Status</th>\n",
              "      <th>Occupation</th>\n",
              "      <th>Relationship</th>\n",
              "      <th>Race</th>\n",
              "      <th>Sex</th>\n",
              "      <th>Capital_Gain</th>\n",
              "      <th>Capital_Loss</th>\n",
              "      <th>Hours_Per_Week</th>\n",
              "      <th>Native_Country</th>\n",
              "      <th>Annual_Salary</th>\n",
              "      <th>Count</th>\n",
              "    </tr>\n",
              "  </thead>\n",
              "  <tbody>\n",
              "    <tr>\n",
              "      <th>0</th>\n",
              "      <td>39</td>\n",
              "      <td>State-gov</td>\n",
              "      <td>77516</td>\n",
              "      <td>Bachelors</td>\n",
              "      <td>13</td>\n",
              "      <td>Never-married</td>\n",
              "      <td>Adm-clerical</td>\n",
              "      <td>Not-in-family</td>\n",
              "      <td>White</td>\n",
              "      <td>Male</td>\n",
              "      <td>2174</td>\n",
              "      <td>0</td>\n",
              "      <td>40</td>\n",
              "      <td>United-States</td>\n",
              "      <td>0</td>\n",
              "      <td>1</td>\n",
              "    </tr>\n",
              "    <tr>\n",
              "      <th>1</th>\n",
              "      <td>50</td>\n",
              "      <td>Self-emp-not-inc</td>\n",
              "      <td>83311</td>\n",
              "      <td>Bachelors</td>\n",
              "      <td>13</td>\n",
              "      <td>Married-civ-spouse</td>\n",
              "      <td>Exec-managerial</td>\n",
              "      <td>Husband</td>\n",
              "      <td>White</td>\n",
              "      <td>Male</td>\n",
              "      <td>0</td>\n",
              "      <td>0</td>\n",
              "      <td>13</td>\n",
              "      <td>United-States</td>\n",
              "      <td>0</td>\n",
              "      <td>1</td>\n",
              "    </tr>\n",
              "    <tr>\n",
              "      <th>2</th>\n",
              "      <td>38</td>\n",
              "      <td>Private</td>\n",
              "      <td>215646</td>\n",
              "      <td>HS-grad</td>\n",
              "      <td>9</td>\n",
              "      <td>Divorced</td>\n",
              "      <td>Handlers-cleaners</td>\n",
              "      <td>Not-in-family</td>\n",
              "      <td>White</td>\n",
              "      <td>Male</td>\n",
              "      <td>0</td>\n",
              "      <td>0</td>\n",
              "      <td>40</td>\n",
              "      <td>United-States</td>\n",
              "      <td>0</td>\n",
              "      <td>1</td>\n",
              "    </tr>\n",
              "    <tr>\n",
              "      <th>3</th>\n",
              "      <td>53</td>\n",
              "      <td>Private</td>\n",
              "      <td>234721</td>\n",
              "      <td>11th</td>\n",
              "      <td>7</td>\n",
              "      <td>Married-civ-spouse</td>\n",
              "      <td>Handlers-cleaners</td>\n",
              "      <td>Husband</td>\n",
              "      <td>Black</td>\n",
              "      <td>Male</td>\n",
              "      <td>0</td>\n",
              "      <td>0</td>\n",
              "      <td>40</td>\n",
              "      <td>United-States</td>\n",
              "      <td>0</td>\n",
              "      <td>1</td>\n",
              "    </tr>\n",
              "    <tr>\n",
              "      <th>4</th>\n",
              "      <td>28</td>\n",
              "      <td>Private</td>\n",
              "      <td>338409</td>\n",
              "      <td>Bachelors</td>\n",
              "      <td>13</td>\n",
              "      <td>Married-civ-spouse</td>\n",
              "      <td>Prof-specialty</td>\n",
              "      <td>Wife</td>\n",
              "      <td>Black</td>\n",
              "      <td>Female</td>\n",
              "      <td>0</td>\n",
              "      <td>0</td>\n",
              "      <td>40</td>\n",
              "      <td>Cuba</td>\n",
              "      <td>0</td>\n",
              "      <td>1</td>\n",
              "    </tr>\n",
              "  </tbody>\n",
              "</table>\n",
              "</div>\n",
              "      <button class=\"colab-df-convert\" onclick=\"convertToInteractive('df-d9430358-df1c-47b8-87e3-19604419ff1d')\"\n",
              "              title=\"Convert this dataframe to an interactive table.\"\n",
              "              style=\"display:none;\">\n",
              "        \n",
              "  <svg xmlns=\"http://www.w3.org/2000/svg\" height=\"24px\"viewBox=\"0 0 24 24\"\n",
              "       width=\"24px\">\n",
              "    <path d=\"M0 0h24v24H0V0z\" fill=\"none\"/>\n",
              "    <path d=\"M18.56 5.44l.94 2.06.94-2.06 2.06-.94-2.06-.94-.94-2.06-.94 2.06-2.06.94zm-11 1L8.5 8.5l.94-2.06 2.06-.94-2.06-.94L8.5 2.5l-.94 2.06-2.06.94zm10 10l.94 2.06.94-2.06 2.06-.94-2.06-.94-.94-2.06-.94 2.06-2.06.94z\"/><path d=\"M17.41 7.96l-1.37-1.37c-.4-.4-.92-.59-1.43-.59-.52 0-1.04.2-1.43.59L10.3 9.45l-7.72 7.72c-.78.78-.78 2.05 0 2.83L4 21.41c.39.39.9.59 1.41.59.51 0 1.02-.2 1.41-.59l7.78-7.78 2.81-2.81c.8-.78.8-2.07 0-2.86zM5.41 20L4 18.59l7.72-7.72 1.47 1.35L5.41 20z\"/>\n",
              "  </svg>\n",
              "      </button>\n",
              "      \n",
              "  <style>\n",
              "    .colab-df-container {\n",
              "      display:flex;\n",
              "      flex-wrap:wrap;\n",
              "      gap: 12px;\n",
              "    }\n",
              "\n",
              "    .colab-df-convert {\n",
              "      background-color: #E8F0FE;\n",
              "      border: none;\n",
              "      border-radius: 50%;\n",
              "      cursor: pointer;\n",
              "      display: none;\n",
              "      fill: #1967D2;\n",
              "      height: 32px;\n",
              "      padding: 0 0 0 0;\n",
              "      width: 32px;\n",
              "    }\n",
              "\n",
              "    .colab-df-convert:hover {\n",
              "      background-color: #E2EBFA;\n",
              "      box-shadow: 0px 1px 2px rgba(60, 64, 67, 0.3), 0px 1px 3px 1px rgba(60, 64, 67, 0.15);\n",
              "      fill: #174EA6;\n",
              "    }\n",
              "\n",
              "    [theme=dark] .colab-df-convert {\n",
              "      background-color: #3B4455;\n",
              "      fill: #D2E3FC;\n",
              "    }\n",
              "\n",
              "    [theme=dark] .colab-df-convert:hover {\n",
              "      background-color: #434B5C;\n",
              "      box-shadow: 0px 1px 3px 1px rgba(0, 0, 0, 0.15);\n",
              "      filter: drop-shadow(0px 1px 2px rgba(0, 0, 0, 0.3));\n",
              "      fill: #FFFFFF;\n",
              "    }\n",
              "  </style>\n",
              "\n",
              "      <script>\n",
              "        const buttonEl =\n",
              "          document.querySelector('#df-d9430358-df1c-47b8-87e3-19604419ff1d button.colab-df-convert');\n",
              "        buttonEl.style.display =\n",
              "          google.colab.kernel.accessAllowed ? 'block' : 'none';\n",
              "\n",
              "        async function convertToInteractive(key) {\n",
              "          const element = document.querySelector('#df-d9430358-df1c-47b8-87e3-19604419ff1d');\n",
              "          const dataTable =\n",
              "            await google.colab.kernel.invokeFunction('convertToInteractive',\n",
              "                                                     [key], {});\n",
              "          if (!dataTable) return;\n",
              "\n",
              "          const docLinkHtml = 'Like what you see? Visit the ' +\n",
              "            '<a target=\"_blank\" href=https://colab.research.google.com/notebooks/data_table.ipynb>data table notebook</a>'\n",
              "            + ' to learn more about interactive tables.';\n",
              "          element.innerHTML = '';\n",
              "          dataTable['output_type'] = 'display_data';\n",
              "          await google.colab.output.renderOutput(dataTable, element);\n",
              "          const docLink = document.createElement('div');\n",
              "          docLink.innerHTML = docLinkHtml;\n",
              "          element.appendChild(docLink);\n",
              "        }\n",
              "      </script>\n",
              "    </div>\n",
              "  </div>\n",
              "  "
            ]
          },
          "metadata": {},
          "execution_count": 24
        }
      ],
      "source": [
        "#Visualise the Cleaned Dataframe\n",
        "df['Count'] = 1\n",
        "df.head()"
      ]
    },
    {
      "cell_type": "code",
      "execution_count": 25,
      "metadata": {
        "colab": {
          "base_uri": "https://localhost:8080/",
          "height": 300
        },
        "id": "a1NQXX2TD3jP",
        "outputId": "5bec2638-9cda-4926-a126-b1aac2ab0789"
      },
      "outputs": [
        {
          "output_type": "execute_result",
          "data": {
            "text/plain": [
              "           Age  Final_Weight  Education_Num  Capital_Gain  Capital_Loss  \\\n",
              "count  32537.0       32537.0        32537.0       32537.0       32537.0   \n",
              "mean      39.0      189781.0           10.0        1078.0          87.0   \n",
              "std       14.0      105556.0            3.0        7388.0         403.0   \n",
              "min       17.0       12285.0            1.0           0.0           0.0   \n",
              "25%       28.0      117827.0            9.0           0.0           0.0   \n",
              "50%       37.0      178356.0           10.0           0.0           0.0   \n",
              "75%       48.0      236993.0           12.0           0.0           0.0   \n",
              "max       90.0     1484705.0           16.0       99999.0        4356.0   \n",
              "\n",
              "       Hours_Per_Week  Annual_Salary    Count  \n",
              "count         32537.0        32537.0  32537.0  \n",
              "mean             40.0            0.0      1.0  \n",
              "std              12.0            0.0      0.0  \n",
              "min               1.0            0.0      1.0  \n",
              "25%              40.0            0.0      1.0  \n",
              "50%              40.0            0.0      1.0  \n",
              "75%              45.0            0.0      1.0  \n",
              "max              99.0            1.0      1.0  "
            ],
            "text/html": [
              "\n",
              "  <div id=\"df-91e8d8ef-8781-4df0-bc45-b08fbe4e8f4f\">\n",
              "    <div class=\"colab-df-container\">\n",
              "      <div>\n",
              "<style scoped>\n",
              "    .dataframe tbody tr th:only-of-type {\n",
              "        vertical-align: middle;\n",
              "    }\n",
              "\n",
              "    .dataframe tbody tr th {\n",
              "        vertical-align: top;\n",
              "    }\n",
              "\n",
              "    .dataframe thead th {\n",
              "        text-align: right;\n",
              "    }\n",
              "</style>\n",
              "<table border=\"1\" class=\"dataframe\">\n",
              "  <thead>\n",
              "    <tr style=\"text-align: right;\">\n",
              "      <th></th>\n",
              "      <th>Age</th>\n",
              "      <th>Final_Weight</th>\n",
              "      <th>Education_Num</th>\n",
              "      <th>Capital_Gain</th>\n",
              "      <th>Capital_Loss</th>\n",
              "      <th>Hours_Per_Week</th>\n",
              "      <th>Annual_Salary</th>\n",
              "      <th>Count</th>\n",
              "    </tr>\n",
              "  </thead>\n",
              "  <tbody>\n",
              "    <tr>\n",
              "      <th>count</th>\n",
              "      <td>32537.0</td>\n",
              "      <td>32537.0</td>\n",
              "      <td>32537.0</td>\n",
              "      <td>32537.0</td>\n",
              "      <td>32537.0</td>\n",
              "      <td>32537.0</td>\n",
              "      <td>32537.0</td>\n",
              "      <td>32537.0</td>\n",
              "    </tr>\n",
              "    <tr>\n",
              "      <th>mean</th>\n",
              "      <td>39.0</td>\n",
              "      <td>189781.0</td>\n",
              "      <td>10.0</td>\n",
              "      <td>1078.0</td>\n",
              "      <td>87.0</td>\n",
              "      <td>40.0</td>\n",
              "      <td>0.0</td>\n",
              "      <td>1.0</td>\n",
              "    </tr>\n",
              "    <tr>\n",
              "      <th>std</th>\n",
              "      <td>14.0</td>\n",
              "      <td>105556.0</td>\n",
              "      <td>3.0</td>\n",
              "      <td>7388.0</td>\n",
              "      <td>403.0</td>\n",
              "      <td>12.0</td>\n",
              "      <td>0.0</td>\n",
              "      <td>0.0</td>\n",
              "    </tr>\n",
              "    <tr>\n",
              "      <th>min</th>\n",
              "      <td>17.0</td>\n",
              "      <td>12285.0</td>\n",
              "      <td>1.0</td>\n",
              "      <td>0.0</td>\n",
              "      <td>0.0</td>\n",
              "      <td>1.0</td>\n",
              "      <td>0.0</td>\n",
              "      <td>1.0</td>\n",
              "    </tr>\n",
              "    <tr>\n",
              "      <th>25%</th>\n",
              "      <td>28.0</td>\n",
              "      <td>117827.0</td>\n",
              "      <td>9.0</td>\n",
              "      <td>0.0</td>\n",
              "      <td>0.0</td>\n",
              "      <td>40.0</td>\n",
              "      <td>0.0</td>\n",
              "      <td>1.0</td>\n",
              "    </tr>\n",
              "    <tr>\n",
              "      <th>50%</th>\n",
              "      <td>37.0</td>\n",
              "      <td>178356.0</td>\n",
              "      <td>10.0</td>\n",
              "      <td>0.0</td>\n",
              "      <td>0.0</td>\n",
              "      <td>40.0</td>\n",
              "      <td>0.0</td>\n",
              "      <td>1.0</td>\n",
              "    </tr>\n",
              "    <tr>\n",
              "      <th>75%</th>\n",
              "      <td>48.0</td>\n",
              "      <td>236993.0</td>\n",
              "      <td>12.0</td>\n",
              "      <td>0.0</td>\n",
              "      <td>0.0</td>\n",
              "      <td>45.0</td>\n",
              "      <td>0.0</td>\n",
              "      <td>1.0</td>\n",
              "    </tr>\n",
              "    <tr>\n",
              "      <th>max</th>\n",
              "      <td>90.0</td>\n",
              "      <td>1484705.0</td>\n",
              "      <td>16.0</td>\n",
              "      <td>99999.0</td>\n",
              "      <td>4356.0</td>\n",
              "      <td>99.0</td>\n",
              "      <td>1.0</td>\n",
              "      <td>1.0</td>\n",
              "    </tr>\n",
              "  </tbody>\n",
              "</table>\n",
              "</div>\n",
              "      <button class=\"colab-df-convert\" onclick=\"convertToInteractive('df-91e8d8ef-8781-4df0-bc45-b08fbe4e8f4f')\"\n",
              "              title=\"Convert this dataframe to an interactive table.\"\n",
              "              style=\"display:none;\">\n",
              "        \n",
              "  <svg xmlns=\"http://www.w3.org/2000/svg\" height=\"24px\"viewBox=\"0 0 24 24\"\n",
              "       width=\"24px\">\n",
              "    <path d=\"M0 0h24v24H0V0z\" fill=\"none\"/>\n",
              "    <path d=\"M18.56 5.44l.94 2.06.94-2.06 2.06-.94-2.06-.94-.94-2.06-.94 2.06-2.06.94zm-11 1L8.5 8.5l.94-2.06 2.06-.94-2.06-.94L8.5 2.5l-.94 2.06-2.06.94zm10 10l.94 2.06.94-2.06 2.06-.94-2.06-.94-.94-2.06-.94 2.06-2.06.94z\"/><path d=\"M17.41 7.96l-1.37-1.37c-.4-.4-.92-.59-1.43-.59-.52 0-1.04.2-1.43.59L10.3 9.45l-7.72 7.72c-.78.78-.78 2.05 0 2.83L4 21.41c.39.39.9.59 1.41.59.51 0 1.02-.2 1.41-.59l7.78-7.78 2.81-2.81c.8-.78.8-2.07 0-2.86zM5.41 20L4 18.59l7.72-7.72 1.47 1.35L5.41 20z\"/>\n",
              "  </svg>\n",
              "      </button>\n",
              "      \n",
              "  <style>\n",
              "    .colab-df-container {\n",
              "      display:flex;\n",
              "      flex-wrap:wrap;\n",
              "      gap: 12px;\n",
              "    }\n",
              "\n",
              "    .colab-df-convert {\n",
              "      background-color: #E8F0FE;\n",
              "      border: none;\n",
              "      border-radius: 50%;\n",
              "      cursor: pointer;\n",
              "      display: none;\n",
              "      fill: #1967D2;\n",
              "      height: 32px;\n",
              "      padding: 0 0 0 0;\n",
              "      width: 32px;\n",
              "    }\n",
              "\n",
              "    .colab-df-convert:hover {\n",
              "      background-color: #E2EBFA;\n",
              "      box-shadow: 0px 1px 2px rgba(60, 64, 67, 0.3), 0px 1px 3px 1px rgba(60, 64, 67, 0.15);\n",
              "      fill: #174EA6;\n",
              "    }\n",
              "\n",
              "    [theme=dark] .colab-df-convert {\n",
              "      background-color: #3B4455;\n",
              "      fill: #D2E3FC;\n",
              "    }\n",
              "\n",
              "    [theme=dark] .colab-df-convert:hover {\n",
              "      background-color: #434B5C;\n",
              "      box-shadow: 0px 1px 3px 1px rgba(0, 0, 0, 0.15);\n",
              "      filter: drop-shadow(0px 1px 2px rgba(0, 0, 0, 0.3));\n",
              "      fill: #FFFFFF;\n",
              "    }\n",
              "  </style>\n",
              "\n",
              "      <script>\n",
              "        const buttonEl =\n",
              "          document.querySelector('#df-91e8d8ef-8781-4df0-bc45-b08fbe4e8f4f button.colab-df-convert');\n",
              "        buttonEl.style.display =\n",
              "          google.colab.kernel.accessAllowed ? 'block' : 'none';\n",
              "\n",
              "        async function convertToInteractive(key) {\n",
              "          const element = document.querySelector('#df-91e8d8ef-8781-4df0-bc45-b08fbe4e8f4f');\n",
              "          const dataTable =\n",
              "            await google.colab.kernel.invokeFunction('convertToInteractive',\n",
              "                                                     [key], {});\n",
              "          if (!dataTable) return;\n",
              "\n",
              "          const docLinkHtml = 'Like what you see? Visit the ' +\n",
              "            '<a target=\"_blank\" href=https://colab.research.google.com/notebooks/data_table.ipynb>data table notebook</a>'\n",
              "            + ' to learn more about interactive tables.';\n",
              "          element.innerHTML = '';\n",
              "          dataTable['output_type'] = 'display_data';\n",
              "          await google.colab.output.renderOutput(dataTable, element);\n",
              "          const docLink = document.createElement('div');\n",
              "          docLink.innerHTML = docLinkHtml;\n",
              "          element.appendChild(docLink);\n",
              "        }\n",
              "      </script>\n",
              "    </div>\n",
              "  </div>\n",
              "  "
            ]
          },
          "metadata": {},
          "execution_count": 25
        }
      ],
      "source": [
        "#Visualise Descriptive statisticsto identify any outliersin Numerical columns\n",
        "df.describe().round(0)\n",
        "\n",
        "#There are no Outliers in the dataset"
      ]
    },
    {
      "cell_type": "code",
      "execution_count": 26,
      "metadata": {
        "id": "4Wv-S87dz72O"
      },
      "outputs": [],
      "source": [
        "#Export a copy of the  Cleaned Dataframe\n",
        "df.to_csv('/content/drive/MyDrive/Colab Notebooks/Unsupervised Machine Learning/Week 8/Assignments/Project 2/Adults_Dataset.csv', index=False)"
      ]
    },
    {
      "cell_type": "markdown",
      "metadata": {
        "id": "c3NuLiTyetd4"
      },
      "source": [
        "#Part 3: Further EDA\n",
        "---"
      ]
    },
    {
      "cell_type": "markdown",
      "metadata": {
        "id": "uk69o-XJNAKi"
      },
      "source": [
        "**A Bar Chart to show the ration of Gender and the Annual Salary**"
      ]
    },
    {
      "cell_type": "code",
      "execution_count": 27,
      "metadata": {
        "colab": {
          "base_uri": "https://localhost:8080/",
          "height": 112
        },
        "id": "sUQ-TSTqUuTZ",
        "outputId": "83cad9dd-4686-47a5-bed6-bd409ef15ef0"
      },
      "outputs": [
        {
          "output_type": "execute_result",
          "data": {
            "text/plain": [
              "   Gender  Below_$50K  Above_$50K  Total_Count  Below_$50K_Percentage  \\\n",
              "0  Female        9583        1179        10762              89.044787   \n",
              "1    Male       15115        6660        21775              69.414466   \n",
              "\n",
              "   Above_$50K_Percentage  Total_Percentage  \n",
              "0              10.955213          33.07619  \n",
              "1              30.585534          66.92381  "
            ],
            "text/html": [
              "\n",
              "  <div id=\"df-fe3e2bfe-9e97-4819-9406-542a10c7e24f\">\n",
              "    <div class=\"colab-df-container\">\n",
              "      <div>\n",
              "<style scoped>\n",
              "    .dataframe tbody tr th:only-of-type {\n",
              "        vertical-align: middle;\n",
              "    }\n",
              "\n",
              "    .dataframe tbody tr th {\n",
              "        vertical-align: top;\n",
              "    }\n",
              "\n",
              "    .dataframe thead th {\n",
              "        text-align: right;\n",
              "    }\n",
              "</style>\n",
              "<table border=\"1\" class=\"dataframe\">\n",
              "  <thead>\n",
              "    <tr style=\"text-align: right;\">\n",
              "      <th></th>\n",
              "      <th>Gender</th>\n",
              "      <th>Below_$50K</th>\n",
              "      <th>Above_$50K</th>\n",
              "      <th>Total_Count</th>\n",
              "      <th>Below_$50K_Percentage</th>\n",
              "      <th>Above_$50K_Percentage</th>\n",
              "      <th>Total_Percentage</th>\n",
              "    </tr>\n",
              "  </thead>\n",
              "  <tbody>\n",
              "    <tr>\n",
              "      <th>0</th>\n",
              "      <td>Female</td>\n",
              "      <td>9583</td>\n",
              "      <td>1179</td>\n",
              "      <td>10762</td>\n",
              "      <td>89.044787</td>\n",
              "      <td>10.955213</td>\n",
              "      <td>33.07619</td>\n",
              "    </tr>\n",
              "    <tr>\n",
              "      <th>1</th>\n",
              "      <td>Male</td>\n",
              "      <td>15115</td>\n",
              "      <td>6660</td>\n",
              "      <td>21775</td>\n",
              "      <td>69.414466</td>\n",
              "      <td>30.585534</td>\n",
              "      <td>66.92381</td>\n",
              "    </tr>\n",
              "  </tbody>\n",
              "</table>\n",
              "</div>\n",
              "      <button class=\"colab-df-convert\" onclick=\"convertToInteractive('df-fe3e2bfe-9e97-4819-9406-542a10c7e24f')\"\n",
              "              title=\"Convert this dataframe to an interactive table.\"\n",
              "              style=\"display:none;\">\n",
              "        \n",
              "  <svg xmlns=\"http://www.w3.org/2000/svg\" height=\"24px\"viewBox=\"0 0 24 24\"\n",
              "       width=\"24px\">\n",
              "    <path d=\"M0 0h24v24H0V0z\" fill=\"none\"/>\n",
              "    <path d=\"M18.56 5.44l.94 2.06.94-2.06 2.06-.94-2.06-.94-.94-2.06-.94 2.06-2.06.94zm-11 1L8.5 8.5l.94-2.06 2.06-.94-2.06-.94L8.5 2.5l-.94 2.06-2.06.94zm10 10l.94 2.06.94-2.06 2.06-.94-2.06-.94-.94-2.06-.94 2.06-2.06.94z\"/><path d=\"M17.41 7.96l-1.37-1.37c-.4-.4-.92-.59-1.43-.59-.52 0-1.04.2-1.43.59L10.3 9.45l-7.72 7.72c-.78.78-.78 2.05 0 2.83L4 21.41c.39.39.9.59 1.41.59.51 0 1.02-.2 1.41-.59l7.78-7.78 2.81-2.81c.8-.78.8-2.07 0-2.86zM5.41 20L4 18.59l7.72-7.72 1.47 1.35L5.41 20z\"/>\n",
              "  </svg>\n",
              "      </button>\n",
              "      \n",
              "  <style>\n",
              "    .colab-df-container {\n",
              "      display:flex;\n",
              "      flex-wrap:wrap;\n",
              "      gap: 12px;\n",
              "    }\n",
              "\n",
              "    .colab-df-convert {\n",
              "      background-color: #E8F0FE;\n",
              "      border: none;\n",
              "      border-radius: 50%;\n",
              "      cursor: pointer;\n",
              "      display: none;\n",
              "      fill: #1967D2;\n",
              "      height: 32px;\n",
              "      padding: 0 0 0 0;\n",
              "      width: 32px;\n",
              "    }\n",
              "\n",
              "    .colab-df-convert:hover {\n",
              "      background-color: #E2EBFA;\n",
              "      box-shadow: 0px 1px 2px rgba(60, 64, 67, 0.3), 0px 1px 3px 1px rgba(60, 64, 67, 0.15);\n",
              "      fill: #174EA6;\n",
              "    }\n",
              "\n",
              "    [theme=dark] .colab-df-convert {\n",
              "      background-color: #3B4455;\n",
              "      fill: #D2E3FC;\n",
              "    }\n",
              "\n",
              "    [theme=dark] .colab-df-convert:hover {\n",
              "      background-color: #434B5C;\n",
              "      box-shadow: 0px 1px 3px 1px rgba(0, 0, 0, 0.15);\n",
              "      filter: drop-shadow(0px 1px 2px rgba(0, 0, 0, 0.3));\n",
              "      fill: #FFFFFF;\n",
              "    }\n",
              "  </style>\n",
              "\n",
              "      <script>\n",
              "        const buttonEl =\n",
              "          document.querySelector('#df-fe3e2bfe-9e97-4819-9406-542a10c7e24f button.colab-df-convert');\n",
              "        buttonEl.style.display =\n",
              "          google.colab.kernel.accessAllowed ? 'block' : 'none';\n",
              "\n",
              "        async function convertToInteractive(key) {\n",
              "          const element = document.querySelector('#df-fe3e2bfe-9e97-4819-9406-542a10c7e24f');\n",
              "          const dataTable =\n",
              "            await google.colab.kernel.invokeFunction('convertToInteractive',\n",
              "                                                     [key], {});\n",
              "          if (!dataTable) return;\n",
              "\n",
              "          const docLinkHtml = 'Like what you see? Visit the ' +\n",
              "            '<a target=\"_blank\" href=https://colab.research.google.com/notebooks/data_table.ipynb>data table notebook</a>'\n",
              "            + ' to learn more about interactive tables.';\n",
              "          element.innerHTML = '';\n",
              "          dataTable['output_type'] = 'display_data';\n",
              "          await google.colab.output.renderOutput(dataTable, element);\n",
              "          const docLink = document.createElement('div');\n",
              "          docLink.innerHTML = docLinkHtml;\n",
              "          element.appendChild(docLink);\n",
              "        }\n",
              "      </script>\n",
              "    </div>\n",
              "  </div>\n",
              "  "
            ]
          },
          "metadata": {},
          "execution_count": 27
        }
      ],
      "source": [
        "# Create the DataFrame\n",
        "dfg = df.groupby(['Sex', 'Annual_Salary'])['Count'].sum().unstack()\n",
        "dfg.reset_index(inplace=True)\n",
        "dfg.columns=['Gender', 'Below_$50K', 'Above_$50K']\n",
        "\n",
        "# Create percentages\n",
        "dfg['Total_Count'] = dfg['Below_$50K'] + dfg['Above_$50K']\n",
        "dfg['Below_$50K_Percentage'] = (dfg['Below_$50K'] / dfg['Total_Count']) * 100\n",
        "dfg['Above_$50K_Percentage'] = (dfg['Above_$50K'] / dfg['Total_Count']) * 100\n",
        "dfg['Total_Percentage'] = dfg['Total_Count'] / dfg['Total_Count'].sum() * 100\n",
        "dfg.head()"
      ]
    },
    {
      "cell_type": "code",
      "execution_count": 28,
      "metadata": {
        "colab": {
          "base_uri": "https://localhost:8080/",
          "height": 569
        },
        "id": "IBWiaNb3hgQn",
        "outputId": "7a6047d9-e5c5-4f21-ffe1-6d1448300131"
      },
      "outputs": [
        {
          "output_type": "display_data",
          "data": {
            "text/plain": [
              "<Figure size 1000x600 with 1 Axes>"
            ],
            "image/png": "[encoded data removed]"
          },
          "metadata": {}
        }
      ],
      "source": [
        "# Data\n",
        "rows = dfg['Gender']\n",
        "columns = ['Below_$50K', 'Above_$50K']\n",
        "data = [dfg['Below_$50K'],dfg['Above_$50K']]\n",
        "\n",
        "# Create stacked bar chart\n",
        "fig, ax = plt.subplots(figsize=(10,6))\n",
        "ax.bar(rows, data[0], label=columns[0])\n",
        "ax.bar(rows, data[1], bottom=data[0], label=columns[1])\n",
        "\n",
        "# Add percentage annotations\n",
        "totals = [i+j for i,j in zip(data[0], data[1])]\n",
        "for i, total in enumerate(totals):\n",
        "    percentage = f\"{total:,} ({(total/sum(totals))*100:.1f}%)\"\n",
        "    ax.annotate(percentage, (rows[i], total), ha='center', va='bottom')\n",
        "\n",
        "# Set labels and title\n",
        "ax.set_xlabel('Gender')\n",
        "ax.set_ylabel('Count of Persons')\n",
        "ax.set_title('Gender Distribution and Annual Salary')\n",
        "ax.legend()\n",
        "\n",
        "plt.show()"
      ]
    },
    {
      "cell_type": "markdown",
      "metadata": {
        "id": "1mrfHtP-fbPX"
      },
      "source": [
        "**Observation**\n",
        "```\n",
        "From the stacked bar chart.\n",
        "1. The data set comprises of more males (66.9%) than females(33.1%).\n",
        "2. In Both the Genders, Only a very small percentage earns Above_$50K, while the biggest percentage earns Below_$50K per year\n",
        "```"
      ]
    },
    {
      "cell_type": "code",
      "execution_count": 29,
      "metadata": {
        "colab": {
          "base_uri": "https://localhost:8080/",
          "height": 569
        },
        "id": "6qTB6CQtnjpM",
        "outputId": "b68fd818-89a9-429b-87f3-2b5da96a9238"
      },
      "outputs": [
        {
          "output_type": "display_data",
          "data": {
            "text/plain": [
              "<Figure size 800x600 with 1 Axes>"
            ],
            "image/png": "[encoded data removed]"
          },
          "metadata": {}
        }
      ],
      "source": [
        "# Create stacked bar chart for the Percentage distributions of the Annual salary in the Gender\n",
        "\n",
        "fig, ax = plt.subplots(figsize=(8,6))\n",
        "ax.bar(dfg['Gender'], dfg['Below_$50K_Percentage'], width=0.3, label='Below $50K')\n",
        "ax.bar(dfg['Gender'], dfg['Above_$50K_Percentage'], bottom=dfg['Below_$50K_Percentage'], width=0.3, label='Above $50K')\n",
        "\n",
        "# Add percentage annotations\n",
        "for i, (row1, row2) in enumerate(zip(dfg['Below_$50K_Percentage'], dfg['Above_$50K_Percentage'])):\n",
        "    total = row1 + row2\n",
        "    ax.text(i, row1/2, f'{row1:.1f}%', ha='center', va='center', fontsize=12, color='white', fontweight='bold')\n",
        "    ax.text(i, row1 + row2/2, f'{row2:.1f}%', ha='center', va='center', fontsize=12, color='white', fontweight='bold')\n",
        "    ax.text(i, total + 1, f'{total:.0f}%', ha='center', va='center', fontsize=10)\n",
        "\n",
        "# Add axis labels and title\n",
        "ax.set_xlabel('Gender')\n",
        "ax.set_ylabel('Percentage of Total Count')\n",
        "ax.set_title('Distribution of Annual Salary by Gender')\n",
        "ax.legend(loc='center')\n",
        "plt.show()"
      ]
    },
    {
      "cell_type": "markdown",
      "metadata": {
        "id": "VNwmByVyPI8o"
      },
      "source": [
        "**Observation**\n",
        "```\n",
        "The percentage of the Females that earn an annual salary Below_$50K is 20.4% higher than that of the Males.\n",
        "\n",
        "However, In the category of the persons Above_$50K, the Males are 19.6% Higher  than The Females.\n",
        "\n",
        "This indicates that Males have a highter number of persons tjhat are Above_$50K than the Females.\n",
        "```"
      ]
    },
    {
      "cell_type": "code",
      "execution_count": 30,
      "metadata": {
        "colab": {
          "base_uri": "https://localhost:8080/",
          "height": 300
        },
        "id": "_dq0_MlCEiV4",
        "outputId": "8f1a9386-8c5b-49af-8666-023be4e0f5d5"
      },
      "outputs": [
        {
          "output_type": "execute_result",
          "data": {
            "text/plain": [
              "          Workclass  Below_$50K  Above_$50K  Total_Count  %ge_Below_$50K  \\\n",
              "0       Federal-gov       589.0       371.0        960.0           61.35   \n",
              "1         Local-gov      1476.0       617.0       2093.0           70.52   \n",
              "2      Never-worked         7.0         0.0          7.0          100.00   \n",
              "3           Private     19357.0      5152.0      24509.0           78.98   \n",
              "4      Self-emp-inc       494.0       622.0       1116.0           44.27   \n",
              "5  Self-emp-not-inc      1816.0       724.0       2540.0           71.50   \n",
              "6         State-gov       945.0       353.0       1298.0           72.80   \n",
              "7       Without-pay        14.0         0.0         14.0          100.00   \n",
              "\n",
              "   %age_Above_$50K  %age_Totals  \n",
              "0            38.65         2.95  \n",
              "1            29.48         6.43  \n",
              "2             0.00         0.02  \n",
              "3            21.02        75.33  \n",
              "4            55.73         3.43  \n",
              "5            28.50         7.81  \n",
              "6            27.20         3.99  \n",
              "7             0.00         0.04  "
            ],
            "text/html": [
              "\n",
              "  <div id=\"df-8a43854b-d882-446f-89fb-f42f80d8d346\">\n",
              "    <div class=\"colab-df-container\">\n",
              "      <div>\n",
              "<style scoped>\n",
              "    .dataframe tbody tr th:only-of-type {\n",
              "        vertical-align: middle;\n",
              "    }\n",
              "\n",
              "    .dataframe tbody tr th {\n",
              "        vertical-align: top;\n",
              "    }\n",
              "\n",
              "    .dataframe thead th {\n",
              "        text-align: right;\n",
              "    }\n",
              "</style>\n",
              "<table border=\"1\" class=\"dataframe\">\n",
              "  <thead>\n",
              "    <tr style=\"text-align: right;\">\n",
              "      <th></th>\n",
              "      <th>Workclass</th>\n",
              "      <th>Below_$50K</th>\n",
              "      <th>Above_$50K</th>\n",
              "      <th>Total_Count</th>\n",
              "      <th>%ge_Below_$50K</th>\n",
              "      <th>%age_Above_$50K</th>\n",
              "      <th>%age_Totals</th>\n",
              "    </tr>\n",
              "  </thead>\n",
              "  <tbody>\n",
              "    <tr>\n",
              "      <th>0</th>\n",
              "      <td>Federal-gov</td>\n",
              "      <td>589.0</td>\n",
              "      <td>371.0</td>\n",
              "      <td>960.0</td>\n",
              "      <td>61.35</td>\n",
              "      <td>38.65</td>\n",
              "      <td>2.95</td>\n",
              "    </tr>\n",
              "    <tr>\n",
              "      <th>1</th>\n",
              "      <td>Local-gov</td>\n",
              "      <td>1476.0</td>\n",
              "      <td>617.0</td>\n",
              "      <td>2093.0</td>\n",
              "      <td>70.52</td>\n",
              "      <td>29.48</td>\n",
              "      <td>6.43</td>\n",
              "    </tr>\n",
              "    <tr>\n",
              "      <th>2</th>\n",
              "      <td>Never-worked</td>\n",
              "      <td>7.0</td>\n",
              "      <td>0.0</td>\n",
              "      <td>7.0</td>\n",
              "      <td>100.00</td>\n",
              "      <td>0.00</td>\n",
              "      <td>0.02</td>\n",
              "    </tr>\n",
              "    <tr>\n",
              "      <th>3</th>\n",
              "      <td>Private</td>\n",
              "      <td>19357.0</td>\n",
              "      <td>5152.0</td>\n",
              "      <td>24509.0</td>\n",
              "      <td>78.98</td>\n",
              "      <td>21.02</td>\n",
              "      <td>75.33</td>\n",
              "    </tr>\n",
              "    <tr>\n",
              "      <th>4</th>\n",
              "      <td>Self-emp-inc</td>\n",
              "      <td>494.0</td>\n",
              "      <td>622.0</td>\n",
              "      <td>1116.0</td>\n",
              "      <td>44.27</td>\n",
              "      <td>55.73</td>\n",
              "      <td>3.43</td>\n",
              "    </tr>\n",
              "    <tr>\n",
              "      <th>5</th>\n",
              "      <td>Self-emp-not-inc</td>\n",
              "      <td>1816.0</td>\n",
              "      <td>724.0</td>\n",
              "      <td>2540.0</td>\n",
              "      <td>71.50</td>\n",
              "      <td>28.50</td>\n",
              "      <td>7.81</td>\n",
              "    </tr>\n",
              "    <tr>\n",
              "      <th>6</th>\n",
              "      <td>State-gov</td>\n",
              "      <td>945.0</td>\n",
              "      <td>353.0</td>\n",
              "      <td>1298.0</td>\n",
              "      <td>72.80</td>\n",
              "      <td>27.20</td>\n",
              "      <td>3.99</td>\n",
              "    </tr>\n",
              "    <tr>\n",
              "      <th>7</th>\n",
              "      <td>Without-pay</td>\n",
              "      <td>14.0</td>\n",
              "      <td>0.0</td>\n",
              "      <td>14.0</td>\n",
              "      <td>100.00</td>\n",
              "      <td>0.00</td>\n",
              "      <td>0.04</td>\n",
              "    </tr>\n",
              "  </tbody>\n",
              "</table>\n",
              "</div>\n",
              "      <button class=\"colab-df-convert\" onclick=\"convertToInteractive('df-8a43854b-d882-446f-89fb-f42f80d8d346')\"\n",
              "              title=\"Convert this dataframe to an interactive table.\"\n",
              "              style=\"display:none;\">\n",
              "        \n",
              "  <svg xmlns=\"http://www.w3.org/2000/svg\" height=\"24px\"viewBox=\"0 0 24 24\"\n",
              "       width=\"24px\">\n",
              "    <path d=\"M0 0h24v24H0V0z\" fill=\"none\"/>\n",
              "    <path d=\"M18.56 5.44l.94 2.06.94-2.06 2.06-.94-2.06-.94-.94-2.06-.94 2.06-2.06.94zm-11 1L8.5 8.5l.94-2.06 2.06-.94-2.06-.94L8.5 2.5l-.94 2.06-2.06.94zm10 10l.94 2.06.94-2.06 2.06-.94-2.06-.94-.94-2.06-.94 2.06-2.06.94z\"/><path d=\"M17.41 7.96l-1.37-1.37c-.4-.4-.92-.59-1.43-.59-.52 0-1.04.2-1.43.59L10.3 9.45l-7.72 7.72c-.78.78-.78 2.05 0 2.83L4 21.41c.39.39.9.59 1.41.59.51 0 1.02-.2 1.41-.59l7.78-7.78 2.81-2.81c.8-.78.8-2.07 0-2.86zM5.41 20L4 18.59l7.72-7.72 1.47 1.35L5.41 20z\"/>\n",
              "  </svg>\n",
              "      </button>\n",
              "      \n",
              "  <style>\n",
              "    .colab-df-container {\n",
              "      display:flex;\n",
              "      flex-wrap:wrap;\n",
              "      gap: 12px;\n",
              "    }\n",
              "\n",
              "    .colab-df-convert {\n",
              "      background-color: #E8F0FE;\n",
              "      border: none;\n",
              "      border-radius: 50%;\n",
              "      cursor: pointer;\n",
              "      display: none;\n",
              "      fill: #1967D2;\n",
              "      height: 32px;\n",
              "      padding: 0 0 0 0;\n",
              "      width: 32px;\n",
              "    }\n",
              "\n",
              "    .colab-df-convert:hover {\n",
              "      background-color: #E2EBFA;\n",
              "      box-shadow: 0px 1px 2px rgba(60, 64, 67, 0.3), 0px 1px 3px 1px rgba(60, 64, 67, 0.15);\n",
              "      fill: #174EA6;\n",
              "    }\n",
              "\n",
              "    [theme=dark] .colab-df-convert {\n",
              "      background-color: #3B4455;\n",
              "      fill: #D2E3FC;\n",
              "    }\n",
              "\n",
              "    [theme=dark] .colab-df-convert:hover {\n",
              "      background-color: #434B5C;\n",
              "      box-shadow: 0px 1px 3px 1px rgba(0, 0, 0, 0.15);\n",
              "      filter: drop-shadow(0px 1px 2px rgba(0, 0, 0, 0.3));\n",
              "      fill: #FFFFFF;\n",
              "    }\n",
              "  </style>\n",
              "\n",
              "      <script>\n",
              "        const buttonEl =\n",
              "          document.querySelector('#df-8a43854b-d882-446f-89fb-f42f80d8d346 button.colab-df-convert');\n",
              "        buttonEl.style.display =\n",
              "          google.colab.kernel.accessAllowed ? 'block' : 'none';\n",
              "\n",
              "        async function convertToInteractive(key) {\n",
              "          const element = document.querySelector('#df-8a43854b-d882-446f-89fb-f42f80d8d346');\n",
              "          const dataTable =\n",
              "            await google.colab.kernel.invokeFunction('convertToInteractive',\n",
              "                                                     [key], {});\n",
              "          if (!dataTable) return;\n",
              "\n",
              "          const docLinkHtml = 'Like what you see? Visit the ' +\n",
              "            '<a target=\"_blank\" href=https://colab.research.google.com/notebooks/data_table.ipynb>data table notebook</a>'\n",
              "            + ' to learn more about interactive tables.';\n",
              "          element.innerHTML = '';\n",
              "          dataTable['output_type'] = 'display_data';\n",
              "          await google.colab.output.renderOutput(dataTable, element);\n",
              "          const docLink = document.createElement('div');\n",
              "          docLink.innerHTML = docLinkHtml;\n",
              "          element.appendChild(docLink);\n",
              "        }\n",
              "      </script>\n",
              "    </div>\n",
              "  </div>\n",
              "  "
            ]
          },
          "metadata": {},
          "execution_count": 30
        }
      ],
      "source": [
        "# Create the DataFrame\n",
        "dfw = df.groupby(['Workclass', 'Annual_Salary'])['Count'].sum().unstack()\n",
        "dfw.reset_index(inplace=True)\n",
        "dfw.fillna(0,inplace=True)\n",
        "dfw.columns=['Workclass', 'Below_$50K', 'Above_$50K']\n",
        "\n",
        "#Add the Totals Column\n",
        "dfw['Total_Count'] = dfw.iloc[:,1:3].sum(axis=1)\n",
        "\n",
        "# Convert counts to percentages\n",
        "dfw['%ge_Below_$50K'] = (dfw['Below_$50K'] / dfw['Total_Count']*100).round(2)\n",
        "dfw['%age_Above_$50K'] = (dfw['Above_$50K'] / dfw['Total_Count']*100).round(2)\n",
        "dfw['%age_Totals'] = ((dfw['Total_Count'] / dfw['Total_Count'].sum(axis=0))*100).round(2)\n",
        "\n",
        "# Show the final dataframe\n",
        "#dfw = dfw.iloc[:-1,:]\n",
        "dfw.head(10)"
      ]
    },
    {
      "cell_type": "code",
      "execution_count": 31,
      "metadata": {
        "colab": {
          "base_uri": "https://localhost:8080/",
          "height": 823
        },
        "id": "DcKgpugjg_uA",
        "outputId": "3d360a5c-6c15-4428-9592-2b6821208bf6"
      },
      "outputs": [
        {
          "output_type": "display_data",
          "data": {
            "text/plain": [
              "<Figure size 1200x800 with 1 Axes>"
            ],
            "image/png": "[encoded data removed]"
          },
          "metadata": {}
        }
      ],
      "source": [
        "# Create a stacked bar chart\n",
        "fig, ax = plt.subplots(figsize=(12,8))\n",
        "ax.bar(dfw['Workclass'], dfw['%ge_Below_$50K'], label='Below $50K',width=0.4)\n",
        "ax.bar(dfw['Workclass'], dfw['%age_Above_$50K'], bottom=dfw['%ge_Below_$50K'], label='Above $50K',width=0.4)\n",
        "\n",
        "# Adding labels and legend\n",
        "ax.set_xlabel('Workclass')\n",
        "ax.set_ylabel('Percentage of Total Persons')\n",
        "ax.set_title('Annual Salary by Workclass')\n",
        "ax.set_xticklabels(list(dfw['Workclass']), rotation=90)\n",
        "ax.set_xticks(range(len(dfw)))\n",
        "ax.legend(loc='best')\n",
        "plt.show()"
      ]
    },
    {
      "cell_type": "markdown",
      "metadata": {
        "id": "ayfioy-LjewL"
      },
      "source": [
        "**Observation**\n",
        "```\n",
        "1. Only persons in the Self-emp-inc Workclass are Above_$50K to  greater percentage as compared to those Below_$50K.\n",
        "\n",
        "2. All other work classes have more persons with the annual salary Below_$50K more than those with the Annual salary Above_$50K.\n",
        "```"
      ]
    },
    {
      "cell_type": "code",
      "execution_count": 32,
      "metadata": {
        "colab": {
          "base_uri": "https://localhost:8080/",
          "height": 551
        },
        "id": "FstpBCsgxywE",
        "outputId": "74da247a-05b5-4eb9-d8da-19dd206e55e0"
      },
      "outputs": [
        {
          "output_type": "execute_result",
          "data": {
            "text/plain": [
              "       Education  Below_$50K  Above_$50K\n",
              "0           10th       871.0        62.0\n",
              "1           11th      1115.0        60.0\n",
              "2           12th       400.0        33.0\n",
              "3        1st-4th       160.0         6.0\n",
              "4        5th-6th       316.0        16.0\n",
              "5        7th-8th       605.0        40.0\n",
              "6            9th       487.0        27.0\n",
              "7     Assoc-acdm       802.0       265.0\n",
              "8      Assoc-voc      1021.0       361.0\n",
              "9      Bachelors      3132.0      2221.0\n",
              "10     Doctorate       107.0       306.0\n",
              "11       HS-grad      8820.0      1674.0\n",
              "12       Masters       763.0       959.0\n",
              "13     Preschool        50.0         0.0\n",
              "14   Prof-school       153.0       423.0\n",
              "15  Some-college      5896.0      1386.0"
            ],
            "text/html": [
              "\n",
              "  <div id=\"df-bf56f3cd-eff0-42a2-a896-48916a791ea5\">\n",
              "    <div class=\"colab-df-container\">\n",
              "      <div>\n",
              "<style scoped>\n",
              "    .dataframe tbody tr th:only-of-type {\n",
              "        vertical-align: middle;\n",
              "    }\n",
              "\n",
              "    .dataframe tbody tr th {\n",
              "        vertical-align: top;\n",
              "    }\n",
              "\n",
              "    .dataframe thead th {\n",
              "        text-align: right;\n",
              "    }\n",
              "</style>\n",
              "<table border=\"1\" class=\"dataframe\">\n",
              "  <thead>\n",
              "    <tr style=\"text-align: right;\">\n",
              "      <th></th>\n",
              "      <th>Education</th>\n",
              "      <th>Below_$50K</th>\n",
              "      <th>Above_$50K</th>\n",
              "    </tr>\n",
              "  </thead>\n",
              "  <tbody>\n",
              "    <tr>\n",
              "      <th>0</th>\n",
              "      <td>10th</td>\n",
              "      <td>871.0</td>\n",
              "      <td>62.0</td>\n",
              "    </tr>\n",
              "    <tr>\n",
              "      <th>1</th>\n",
              "      <td>11th</td>\n",
              "      <td>1115.0</td>\n",
              "      <td>60.0</td>\n",
              "    </tr>\n",
              "    <tr>\n",
              "      <th>2</th>\n",
              "      <td>12th</td>\n",
              "      <td>400.0</td>\n",
              "      <td>33.0</td>\n",
              "    </tr>\n",
              "    <tr>\n",
              "      <th>3</th>\n",
              "      <td>1st-4th</td>\n",
              "      <td>160.0</td>\n",
              "      <td>6.0</td>\n",
              "    </tr>\n",
              "    <tr>\n",
              "      <th>4</th>\n",
              "      <td>5th-6th</td>\n",
              "      <td>316.0</td>\n",
              "      <td>16.0</td>\n",
              "    </tr>\n",
              "    <tr>\n",
              "      <th>5</th>\n",
              "      <td>7th-8th</td>\n",
              "      <td>605.0</td>\n",
              "      <td>40.0</td>\n",
              "    </tr>\n",
              "    <tr>\n",
              "      <th>6</th>\n",
              "      <td>9th</td>\n",
              "      <td>487.0</td>\n",
              "      <td>27.0</td>\n",
              "    </tr>\n",
              "    <tr>\n",
              "      <th>7</th>\n",
              "      <td>Assoc-acdm</td>\n",
              "      <td>802.0</td>\n",
              "      <td>265.0</td>\n",
              "    </tr>\n",
              "    <tr>\n",
              "      <th>8</th>\n",
              "      <td>Assoc-voc</td>\n",
              "      <td>1021.0</td>\n",
              "      <td>361.0</td>\n",
              "    </tr>\n",
              "    <tr>\n",
              "      <th>9</th>\n",
              "      <td>Bachelors</td>\n",
              "      <td>3132.0</td>\n",
              "      <td>2221.0</td>\n",
              "    </tr>\n",
              "    <tr>\n",
              "      <th>10</th>\n",
              "      <td>Doctorate</td>\n",
              "      <td>107.0</td>\n",
              "      <td>306.0</td>\n",
              "    </tr>\n",
              "    <tr>\n",
              "      <th>11</th>\n",
              "      <td>HS-grad</td>\n",
              "      <td>8820.0</td>\n",
              "      <td>1674.0</td>\n",
              "    </tr>\n",
              "    <tr>\n",
              "      <th>12</th>\n",
              "      <td>Masters</td>\n",
              "      <td>763.0</td>\n",
              "      <td>959.0</td>\n",
              "    </tr>\n",
              "    <tr>\n",
              "      <th>13</th>\n",
              "      <td>Preschool</td>\n",
              "      <td>50.0</td>\n",
              "      <td>0.0</td>\n",
              "    </tr>\n",
              "    <tr>\n",
              "      <th>14</th>\n",
              "      <td>Prof-school</td>\n",
              "      <td>153.0</td>\n",
              "      <td>423.0</td>\n",
              "    </tr>\n",
              "    <tr>\n",
              "      <th>15</th>\n",
              "      <td>Some-college</td>\n",
              "      <td>5896.0</td>\n",
              "      <td>1386.0</td>\n",
              "    </tr>\n",
              "  </tbody>\n",
              "</table>\n",
              "</div>\n",
              "      <button class=\"colab-df-convert\" onclick=\"convertToInteractive('df-bf56f3cd-eff0-42a2-a896-48916a791ea5')\"\n",
              "              title=\"Convert this dataframe to an interactive table.\"\n",
              "              style=\"display:none;\">\n",
              "        \n",
              "  <svg xmlns=\"http://www.w3.org/2000/svg\" height=\"24px\"viewBox=\"0 0 24 24\"\n",
              "       width=\"24px\">\n",
              "    <path d=\"M0 0h24v24H0V0z\" fill=\"none\"/>\n",
              "    <path d=\"M18.56 5.44l.94 2.06.94-2.06 2.06-.94-2.06-.94-.94-2.06-.94 2.06-2.06.94zm-11 1L8.5 8.5l.94-2.06 2.06-.94-2.06-.94L8.5 2.5l-.94 2.06-2.06.94zm10 10l.94 2.06.94-2.06 2.06-.94-2.06-.94-.94-2.06-.94 2.06-2.06.94z\"/><path d=\"M17.41 7.96l-1.37-1.37c-.4-.4-.92-.59-1.43-.59-.52 0-1.04.2-1.43.59L10.3 9.45l-7.72 7.72c-.78.78-.78 2.05 0 2.83L4 21.41c.39.39.9.59 1.41.59.51 0 1.02-.2 1.41-.59l7.78-7.78 2.81-2.81c.8-.78.8-2.07 0-2.86zM5.41 20L4 18.59l7.72-7.72 1.47 1.35L5.41 20z\"/>\n",
              "  </svg>\n",
              "      </button>\n",
              "      \n",
              "  <style>\n",
              "    .colab-df-container {\n",
              "      display:flex;\n",
              "      flex-wrap:wrap;\n",
              "      gap: 12px;\n",
              "    }\n",
              "\n",
              "    .colab-df-convert {\n",
              "      background-color: #E8F0FE;\n",
              "      border: none;\n",
              "      border-radius: 50%;\n",
              "      cursor: pointer;\n",
              "      display: none;\n",
              "      fill: #1967D2;\n",
              "      height: 32px;\n",
              "      padding: 0 0 0 0;\n",
              "      width: 32px;\n",
              "    }\n",
              "\n",
              "    .colab-df-convert:hover {\n",
              "      background-color: #E2EBFA;\n",
              "      box-shadow: 0px 1px 2px rgba(60, 64, 67, 0.3), 0px 1px 3px 1px rgba(60, 64, 67, 0.15);\n",
              "      fill: #174EA6;\n",
              "    }\n",
              "\n",
              "    [theme=dark] .colab-df-convert {\n",
              "      background-color: #3B4455;\n",
              "      fill: #D2E3FC;\n",
              "    }\n",
              "\n",
              "    [theme=dark] .colab-df-convert:hover {\n",
              "      background-color: #434B5C;\n",
              "      box-shadow: 0px 1px 3px 1px rgba(0, 0, 0, 0.15);\n",
              "      filter: drop-shadow(0px 1px 2px rgba(0, 0, 0, 0.3));\n",
              "      fill: #FFFFFF;\n",
              "    }\n",
              "  </style>\n",
              "\n",
              "      <script>\n",
              "        const buttonEl =\n",
              "          document.querySelector('#df-bf56f3cd-eff0-42a2-a896-48916a791ea5 button.colab-df-convert');\n",
              "        buttonEl.style.display =\n",
              "          google.colab.kernel.accessAllowed ? 'block' : 'none';\n",
              "\n",
              "        async function convertToInteractive(key) {\n",
              "          const element = document.querySelector('#df-bf56f3cd-eff0-42a2-a896-48916a791ea5');\n",
              "          const dataTable =\n",
              "            await google.colab.kernel.invokeFunction('convertToInteractive',\n",
              "                                                     [key], {});\n",
              "          if (!dataTable) return;\n",
              "\n",
              "          const docLinkHtml = 'Like what you see? Visit the ' +\n",
              "            '<a target=\"_blank\" href=https://colab.research.google.com/notebooks/data_table.ipynb>data table notebook</a>'\n",
              "            + ' to learn more about interactive tables.';\n",
              "          element.innerHTML = '';\n",
              "          dataTable['output_type'] = 'display_data';\n",
              "          await google.colab.output.renderOutput(dataTable, element);\n",
              "          const docLink = document.createElement('div');\n",
              "          docLink.innerHTML = docLinkHtml;\n",
              "          element.appendChild(docLink);\n",
              "        }\n",
              "      </script>\n",
              "    </div>\n",
              "  </div>\n",
              "  "
            ]
          },
          "metadata": {},
          "execution_count": 32
        }
      ],
      "source": [
        "#Relatioship of the Education level and the Annual Salary.\n",
        "\n",
        "# Input data\n",
        "dfe = df.groupby(['Education','Annual_Salary'])['Count'].count().unstack()\n",
        "dfe.fillna(0, inplace=True)\n",
        "dfe.reset_index(inplace=True)\n",
        "dfe.columns = ['Education', 'Below_$50K', 'Above_$50K']\n",
        "dfe.head(20)"
      ]
    },
    {
      "cell_type": "code",
      "execution_count": 33,
      "metadata": {
        "colab": {
          "base_uri": "https://localhost:8080/",
          "height": 723
        },
        "id": "IhxW-xPN2die",
        "outputId": "ac48d0d0-eecf-4d01-c55d-67a072d02130"
      },
      "outputs": [
        {
          "output_type": "display_data",
          "data": {
            "text/plain": [
              "<Figure size 1000x800 with 1 Axes>"
            ],
            "image/png": "[encoded data removed]"
          },
          "metadata": {}
        }
      ],
      "source": [
        "# Create a Horizontal bar chart\n",
        "Levels = dfe['Education'].values\n",
        "Below_values = dfe['Below_$50K'].values\n",
        "Above_values = dfe['Above_$50K'].values\n",
        "\n",
        "# Input data\n",
        "index = ['10th', '11th', '12th', '1st-4th', '5th-6th', '7th-8th', '9th', 'Assoc-acdm', 'Assoc-voc', \n",
        "         'Bachelors', 'Doctorate', 'HS-grad', 'Masters', 'Preschool', 'Prof-school', 'Some-college']\n",
        "\n",
        "# Create horizontal bar chart\n",
        "fig, ax = plt.subplots(figsize=(10, 8))\n",
        "bar_width = 0.35\n",
        "opacity = 0.8\n",
        "y_pos = np.arange(len(index))\n",
        "\n",
        "ax.barh(y_pos, Below_values, bar_width, alpha=opacity, color='orange', label='Below_$50K')\n",
        "ax.barh(y_pos + bar_width, Above_values, bar_width, alpha=opacity, color='green', label='Above_$50K')\n",
        "\n",
        "ax.set_yticks(y_pos + bar_width / 2)\n",
        "ax.set_yticklabels(Levels)\n",
        "ax.invert_yaxis()  # labels read top-to-bottom\n",
        "ax.set_xlabel('Number of Persons')\n",
        "ax.set_title('Education Level Distribution By Gender')\n",
        "ax.legend()\n",
        "\n",
        "plt.show()\n"
      ]
    },
    {
      "cell_type": "markdown",
      "metadata": {
        "id": "dKvZdLtk6PQr"
      },
      "source": [
        "\n",
        "**Observation**\n",
        "```\n",
        "1. All education levels have persons who are Below_$50K. \n",
        "However there is a greater number of persons who have their Annual Salary Above $50K in the Bachelors, HS-grad and those that have completed College.\n",
        "\n",
        "2. The Class of Persons who have Only completed the HS-grad have the highest number of persons who earn Below_50K.\n",
        "3. This is followed by those who have completed Some College\n",
        "```"
      ]
    },
    {
      "cell_type": "code",
      "execution_count": 34,
      "metadata": {
        "colab": {
          "base_uri": "https://localhost:8080/",
          "height": 357
        },
        "id": "QBwgRD_lQc_Z",
        "outputId": "2cd3c013-fbd4-4d55-d4b6-3f7180cf7329"
      },
      "outputs": [
        {
          "output_type": "execute_result",
          "data": {
            "text/plain": [
              "   Age         Workclass  Final_Weight  Education  Education_Num  \\\n",
              "0   39         State-gov         77516  Bachelors             13   \n",
              "1   50  Self-emp-not-inc         83311  Bachelors             13   \n",
              "2   38           Private        215646    HS-grad              9   \n",
              "3   53           Private        234721       11th              7   \n",
              "4   28           Private        338409  Bachelors             13   \n",
              "\n",
              "       Marital_Status         Occupation   Relationship   Race     Sex  \\\n",
              "0       Never-married       Adm-clerical  Not-in-family  White    Male   \n",
              "1  Married-civ-spouse    Exec-managerial        Husband  White    Male   \n",
              "2            Divorced  Handlers-cleaners  Not-in-family  White    Male   \n",
              "3  Married-civ-spouse  Handlers-cleaners        Husband  Black    Male   \n",
              "4  Married-civ-spouse     Prof-specialty           Wife  Black  Female   \n",
              "\n",
              "   Capital_Gain  Capital_Loss  Hours_Per_Week Native_Country  Annual_Salary  \\\n",
              "0          2174             0              40  United-States              0   \n",
              "1             0             0              13  United-States              0   \n",
              "2             0             0              40  United-States              0   \n",
              "3             0             0              40  United-States              0   \n",
              "4             0             0              40           Cuba              0   \n",
              "\n",
              "   Count  \n",
              "0      1  \n",
              "1      1  \n",
              "2      1  \n",
              "3      1  \n",
              "4      1  "
            ],
            "text/html": [
              "\n",
              "  <div id=\"df-87ea9e8b-a89f-4a01-a75f-71f56d12bb1c\">\n",
              "    <div class=\"colab-df-container\">\n",
              "      <div>\n",
              "<style scoped>\n",
              "    .dataframe tbody tr th:only-of-type {\n",
              "        vertical-align: middle;\n",
              "    }\n",
              "\n",
              "    .dataframe tbody tr th {\n",
              "        vertical-align: top;\n",
              "    }\n",
              "\n",
              "    .dataframe thead th {\n",
              "        text-align: right;\n",
              "    }\n",
              "</style>\n",
              "<table border=\"1\" class=\"dataframe\">\n",
              "  <thead>\n",
              "    <tr style=\"text-align: right;\">\n",
              "      <th></th>\n",
              "      <th>Age</th>\n",
              "      <th>Workclass</th>\n",
              "      <th>Final_Weight</th>\n",
              "      <th>Education</th>\n",
              "      <th>Education_Num</th>\n",
              "      <th>Marital_Status</th>\n",
              "      <th>Occupation</th>\n",
              "      <th>Relationship</th>\n",
              "      <th>Race</th>\n",
              "      <th>Sex</th>\n",
              "      <th>Capital_Gain</th>\n",
              "      <th>Capital_Loss</th>\n",
              "      <th>Hours_Per_Week</th>\n",
              "      <th>Native_Country</th>\n",
              "      <th>Annual_Salary</th>\n",
              "      <th>Count</th>\n",
              "    </tr>\n",
              "  </thead>\n",
              "  <tbody>\n",
              "    <tr>\n",
              "      <th>0</th>\n",
              "      <td>39</td>\n",
              "      <td>State-gov</td>\n",
              "      <td>77516</td>\n",
              "      <td>Bachelors</td>\n",
              "      <td>13</td>\n",
              "      <td>Never-married</td>\n",
              "      <td>Adm-clerical</td>\n",
              "      <td>Not-in-family</td>\n",
              "      <td>White</td>\n",
              "      <td>Male</td>\n",
              "      <td>2174</td>\n",
              "      <td>0</td>\n",
              "      <td>40</td>\n",
              "      <td>United-States</td>\n",
              "      <td>0</td>\n",
              "      <td>1</td>\n",
              "    </tr>\n",
              "    <tr>\n",
              "      <th>1</th>\n",
              "      <td>50</td>\n",
              "      <td>Self-emp-not-inc</td>\n",
              "      <td>83311</td>\n",
              "      <td>Bachelors</td>\n",
              "      <td>13</td>\n",
              "      <td>Married-civ-spouse</td>\n",
              "      <td>Exec-managerial</td>\n",
              "      <td>Husband</td>\n",
              "      <td>White</td>\n",
              "      <td>Male</td>\n",
              "      <td>0</td>\n",
              "      <td>0</td>\n",
              "      <td>13</td>\n",
              "      <td>United-States</td>\n",
              "      <td>0</td>\n",
              "      <td>1</td>\n",
              "    </tr>\n",
              "    <tr>\n",
              "      <th>2</th>\n",
              "      <td>38</td>\n",
              "      <td>Private</td>\n",
              "      <td>215646</td>\n",
              "      <td>HS-grad</td>\n",
              "      <td>9</td>\n",
              "      <td>Divorced</td>\n",
              "      <td>Handlers-cleaners</td>\n",
              "      <td>Not-in-family</td>\n",
              "      <td>White</td>\n",
              "      <td>Male</td>\n",
              "      <td>0</td>\n",
              "      <td>0</td>\n",
              "      <td>40</td>\n",
              "      <td>United-States</td>\n",
              "      <td>0</td>\n",
              "      <td>1</td>\n",
              "    </tr>\n",
              "    <tr>\n",
              "      <th>3</th>\n",
              "      <td>53</td>\n",
              "      <td>Private</td>\n",
              "      <td>234721</td>\n",
              "      <td>11th</td>\n",
              "      <td>7</td>\n",
              "      <td>Married-civ-spouse</td>\n",
              "      <td>Handlers-cleaners</td>\n",
              "      <td>Husband</td>\n",
              "      <td>Black</td>\n",
              "      <td>Male</td>\n",
              "      <td>0</td>\n",
              "      <td>0</td>\n",
              "      <td>40</td>\n",
              "      <td>United-States</td>\n",
              "      <td>0</td>\n",
              "      <td>1</td>\n",
              "    </tr>\n",
              "    <tr>\n",
              "      <th>4</th>\n",
              "      <td>28</td>\n",
              "      <td>Private</td>\n",
              "      <td>338409</td>\n",
              "      <td>Bachelors</td>\n",
              "      <td>13</td>\n",
              "      <td>Married-civ-spouse</td>\n",
              "      <td>Prof-specialty</td>\n",
              "      <td>Wife</td>\n",
              "      <td>Black</td>\n",
              "      <td>Female</td>\n",
              "      <td>0</td>\n",
              "      <td>0</td>\n",
              "      <td>40</td>\n",
              "      <td>Cuba</td>\n",
              "      <td>0</td>\n",
              "      <td>1</td>\n",
              "    </tr>\n",
              "  </tbody>\n",
              "</table>\n",
              "</div>\n",
              "      <button class=\"colab-df-convert\" onclick=\"convertToInteractive('df-87ea9e8b-a89f-4a01-a75f-71f56d12bb1c')\"\n",
              "              title=\"Convert this dataframe to an interactive table.\"\n",
              "              style=\"display:none;\">\n",
              "        \n",
              "  <svg xmlns=\"http://www.w3.org/2000/svg\" height=\"24px\"viewBox=\"0 0 24 24\"\n",
              "       width=\"24px\">\n",
              "    <path d=\"M0 0h24v24H0V0z\" fill=\"none\"/>\n",
              "    <path d=\"M18.56 5.44l.94 2.06.94-2.06 2.06-.94-2.06-.94-.94-2.06-.94 2.06-2.06.94zm-11 1L8.5 8.5l.94-2.06 2.06-.94-2.06-.94L8.5 2.5l-.94 2.06-2.06.94zm10 10l.94 2.06.94-2.06 2.06-.94-2.06-.94-.94-2.06-.94 2.06-2.06.94z\"/><path d=\"M17.41 7.96l-1.37-1.37c-.4-.4-.92-.59-1.43-.59-.52 0-1.04.2-1.43.59L10.3 9.45l-7.72 7.72c-.78.78-.78 2.05 0 2.83L4 21.41c.39.39.9.59 1.41.59.51 0 1.02-.2 1.41-.59l7.78-7.78 2.81-2.81c.8-.78.8-2.07 0-2.86zM5.41 20L4 18.59l7.72-7.72 1.47 1.35L5.41 20z\"/>\n",
              "  </svg>\n",
              "      </button>\n",
              "      \n",
              "  <style>\n",
              "    .colab-df-container {\n",
              "      display:flex;\n",
              "      flex-wrap:wrap;\n",
              "      gap: 12px;\n",
              "    }\n",
              "\n",
              "    .colab-df-convert {\n",
              "      background-color: #E8F0FE;\n",
              "      border: none;\n",
              "      border-radius: 50%;\n",
              "      cursor: pointer;\n",
              "      display: none;\n",
              "      fill: #1967D2;\n",
              "      height: 32px;\n",
              "      padding: 0 0 0 0;\n",
              "      width: 32px;\n",
              "    }\n",
              "\n",
              "    .colab-df-convert:hover {\n",
              "      background-color: #E2EBFA;\n",
              "      box-shadow: 0px 1px 2px rgba(60, 64, 67, 0.3), 0px 1px 3px 1px rgba(60, 64, 67, 0.15);\n",
              "      fill: #174EA6;\n",
              "    }\n",
              "\n",
              "    [theme=dark] .colab-df-convert {\n",
              "      background-color: #3B4455;\n",
              "      fill: #D2E3FC;\n",
              "    }\n",
              "\n",
              "    [theme=dark] .colab-df-convert:hover {\n",
              "      background-color: #434B5C;\n",
              "      box-shadow: 0px 1px 3px 1px rgba(0, 0, 0, 0.15);\n",
              "      filter: drop-shadow(0px 1px 2px rgba(0, 0, 0, 0.3));\n",
              "      fill: #FFFFFF;\n",
              "    }\n",
              "  </style>\n",
              "\n",
              "      <script>\n",
              "        const buttonEl =\n",
              "          document.querySelector('#df-87ea9e8b-a89f-4a01-a75f-71f56d12bb1c button.colab-df-convert');\n",
              "        buttonEl.style.display =\n",
              "          google.colab.kernel.accessAllowed ? 'block' : 'none';\n",
              "\n",
              "        async function convertToInteractive(key) {\n",
              "          const element = document.querySelector('#df-87ea9e8b-a89f-4a01-a75f-71f56d12bb1c');\n",
              "          const dataTable =\n",
              "            await google.colab.kernel.invokeFunction('convertToInteractive',\n",
              "                                                     [key], {});\n",
              "          if (!dataTable) return;\n",
              "\n",
              "          const docLinkHtml = 'Like what you see? Visit the ' +\n",
              "            '<a target=\"_blank\" href=https://colab.research.google.com/notebooks/data_table.ipynb>data table notebook</a>'\n",
              "            + ' to learn more about interactive tables.';\n",
              "          element.innerHTML = '';\n",
              "          dataTable['output_type'] = 'display_data';\n",
              "          await google.colab.output.renderOutput(dataTable, element);\n",
              "          const docLink = document.createElement('div');\n",
              "          docLink.innerHTML = docLinkHtml;\n",
              "          element.appendChild(docLink);\n",
              "        }\n",
              "      </script>\n",
              "    </div>\n",
              "  </div>\n",
              "  "
            ]
          },
          "metadata": {},
          "execution_count": 34
        }
      ],
      "source": [
        "df.head(5)"
      ]
    },
    {
      "cell_type": "markdown",
      "metadata": {
        "id": "BxOmy7B5eSSN"
      },
      "source": [
        "#Part 4: Machine Learning Data Preproocessing.\n",
        "---"
      ]
    },
    {
      "cell_type": "markdown",
      "metadata": {
        "id": "4gqBN5gLt2Z7"
      },
      "source": [
        "```\n",
        "Numerical Features\n",
        "```\n",
        "1. Age\n",
        "2. Final_Weight\n",
        "3. Education_Num\n",
        "4. Capital_Gain\n",
        "5. Capital_Loss\n",
        "6. Hours_Per_Week.\n",
        "```\n",
        "Ordinal Features\n",
        "```\n",
        "1. Education\n",
        "```\n",
        "Norminal Features\n",
        "```\n",
        "1. Workclass\t\t\n",
        "2. Marital_Status\t\n",
        "3. Occupation\t\n",
        "4. Relationship\t\n",
        "5. Race\t\n",
        "6. Sex\t\n",
        "7. Native_Country"
      ]
    },
    {
      "cell_type": "code",
      "execution_count": 35,
      "metadata": {
        "colab": {
          "base_uri": "https://localhost:8080/"
        },
        "id": "ifZGAPHbs73Q",
        "outputId": "8395d053-e70e-4247-ab05-78e8685dd3f4"
      },
      "outputs": [
        {
          "output_type": "execute_result",
          "data": {
            "text/plain": [
              "HS-grad         10494\n",
              "Some-college     7282\n",
              "Bachelors        5353\n",
              "Masters          1722\n",
              "Assoc-voc        1382\n",
              "11th             1175\n",
              "Assoc-acdm       1067\n",
              "10th              933\n",
              "7th-8th           645\n",
              "Prof-school       576\n",
              "9th               514\n",
              "12th              433\n",
              "Doctorate         413\n",
              "5th-6th           332\n",
              "1st-4th           166\n",
              "Preschool          50\n",
              "Name: Education, dtype: int64"
            ]
          },
          "metadata": {},
          "execution_count": 35
        }
      ],
      "source": [
        "df['Education'].value_counts()"
      ]
    },
    {
      "cell_type": "code",
      "execution_count": 36,
      "metadata": {
        "id": "SYGbNIhA0e-F"
      },
      "outputs": [],
      "source": [
        "#Ordinal Encode Ordinal Features\n",
        "Education_dict={\n",
        "'Preschool':0,\n",
        "'1st-4th':1,\n",
        "'5th-6th':2,\n",
        "'7th-8th':3,\n",
        "'9th':4,\n",
        "'10th':5,\n",
        "'11th':6,\n",
        "'12th':7,\n",
        "'HS-grad':8,\n",
        "'Some-college':9,\n",
        "'Assoc-acdm':10,\n",
        "'Assoc-voc':11,\n",
        "'Bachelors':12,\n",
        "'Masters':13,\n",
        "'Doctorate':14,\n",
        "'Prof-school':15\n",
        "}\n",
        "\n",
        "df['Education'] = df['Education'].map(Education_dict)"
      ]
    },
    {
      "cell_type": "code",
      "execution_count": 37,
      "metadata": {
        "id": "44vXgmW4maQK"
      },
      "outputs": [],
      "source": [
        "#Arrange data into a features matrix and target vector I will drop the 'Final_Weight' column as this may not be of much importance in this analysis  \n",
        "y = df['Annual_Salary']\n",
        "X = df.drop(columns = ['Annual_Salary','Final_Weight'])\n",
        "\n",
        "#Train test split (model validation)\n",
        "X_train, X_test, y_train, y_test = train_test_split(X, y, random_state=42)"
      ]
    },
    {
      "cell_type": "code",
      "execution_count": 38,
      "metadata": {
        "id": "Cfj-L1QL8xaH"
      },
      "outputs": [],
      "source": [
        "#Instantiate the Column selectors\n",
        "num_selector = make_column_selector(dtype_include = 'number')\n",
        "cat_selector = make_column_selector(dtype_include = 'object')\n",
        "\n",
        "#Instantiate the scaler\n",
        "Scaler = StandardScaler()\n",
        "\n",
        "#Instantiate the One HotEncoder\n",
        "ohe = OneHotEncoder(handle_unknown ='ignore', sparse=False)"
      ]
    },
    {
      "cell_type": "code",
      "execution_count": 39,
      "metadata": {
        "colab": {
          "base_uri": "https://localhost:8080/",
          "height": 118
        },
        "id": "L3aNTEnf9NcG",
        "outputId": "bbcb8024-ac8f-49ff-8f8d-a5e024772b6c"
      },
      "outputs": [
        {
          "output_type": "execute_result",
          "data": {
            "text/plain": [
              "ColumnTransformer(remainder='passthrough',\n",
              "                  transformers=[('pipeline-1',\n",
              "                                 Pipeline(steps=[('standardscaler',\n",
              "                                                  StandardScaler())]),\n",
              "                                 <sklearn.compose._column_transformer.make_column_selector object at 0x7f303579b370>),\n",
              "                                ('pipeline-2',\n",
              "                                 Pipeline(steps=[('onehotencoder',\n",
              "                                                  OneHotEncoder(handle_unknown='ignore',\n",
              "                                                                sparse=False))]),\n",
              "                                 <sklearn.compose._column_transformer.make_column_selector object at 0x7f303579b280>)])"
            ],
            "text/html": [
              "<style>#sk-container-id-1 {color: black;background-color: white;}#sk-container-id-1 pre{padding: 0;}#sk-container-id-1 div.sk-toggleable {background-color: white;}#sk-container-id-1 label.sk-toggleable__label {cursor: pointer;display: block;width: 100%;margin-bottom: 0;padding: 0.3em;box-sizing: border-box;text-align: center;}#sk-container-id-1 label.sk-toggleable__label-arrow:before {content: \"▸\";float: left;margin-right: 0.25em;color: #696969;}#sk-container-id-1 label.sk-toggleable__label-arrow:hover:before {color: black;}#sk-container-id-1 div.sk-estimator:hover label.sk-toggleable__label-arrow:before {color: black;}#sk-container-id-1 div.sk-toggleable__content {max-height: 0;max-width: 0;overflow: hidden;text-align: left;background-color: #f0f8ff;}#sk-container-id-1 div.sk-toggleable__content pre {margin: 0.2em;color: black;border-radius: 0.25em;background-color: #f0f8ff;}#sk-container-id-1 input.sk-toggleable__control:checked~div.sk-toggleable__content {max-height: 200px;max-width: 100%;overflow: auto;}#sk-container-id-1 input.sk-toggleable__control:checked~label.sk-toggleable__label-arrow:before {content: \"▾\";}#sk-container-id-1 div.sk-estimator input.sk-toggleable__control:checked~label.sk-toggleable__label {background-color: #d4ebff;}#sk-container-id-1 div.sk-label input.sk-toggleable__control:checked~label.sk-toggleable__label {background-color: #d4ebff;}#sk-container-id-1 input.sk-hidden--visually {border: 0;clip: rect(1px 1px 1px 1px);clip: rect(1px, 1px, 1px, 1px);height: 1px;margin: -1px;overflow: hidden;padding: 0;position: absolute;width: 1px;}#sk-container-id-1 div.sk-estimator {font-family: monospace;background-color: #f0f8ff;border: 1px dotted black;border-radius: 0.25em;box-sizing: border-box;margin-bottom: 0.5em;}#sk-container-id-1 div.sk-estimator:hover {background-color: #d4ebff;}#sk-container-id-1 div.sk-parallel-item::after {content: \"\";width: 100%;border-bottom: 1px solid gray;flex-grow: 1;}#sk-container-id-1 div.sk-label:hover label.sk-toggleable__label {background-color: #d4ebff;}#sk-container-id-1 div.sk-serial::before {content: \"\";position: absolute;border-left: 1px solid gray;box-sizing: border-box;top: 0;bottom: 0;left: 50%;z-index: 0;}#sk-container-id-1 div.sk-serial {display: flex;flex-direction: column;align-items: center;background-color: white;padding-right: 0.2em;padding-left: 0.2em;position: relative;}#sk-container-id-1 div.sk-item {position: relative;z-index: 1;}#sk-container-id-1 div.sk-parallel {display: flex;align-items: stretch;justify-content: center;background-color: white;position: relative;}#sk-container-id-1 div.sk-item::before, #sk-container-id-1 div.sk-parallel-item::before {content: \"\";position: absolute;border-left: 1px solid gray;box-sizing: border-box;top: 0;bottom: 0;left: 50%;z-index: -1;}#sk-container-id-1 div.sk-parallel-item {display: flex;flex-direction: column;z-index: 1;position: relative;background-color: white;}#sk-container-id-1 div.sk-parallel-item:first-child::after {align-self: flex-end;width: 50%;}#sk-container-id-1 div.sk-parallel-item:last-child::after {align-self: flex-start;width: 50%;}#sk-container-id-1 div.sk-parallel-item:only-child::after {width: 0;}#sk-container-id-1 div.sk-dashed-wrapped {border: 1px dashed gray;margin: 0 0.4em 0.5em 0.4em;box-sizing: border-box;padding-bottom: 0.4em;background-color: white;}#sk-container-id-1 div.sk-label label {font-family: monospace;font-weight: bold;display: inline-block;line-height: 1.2em;}#sk-container-id-1 div.sk-label-container {text-align: center;}#sk-container-id-1 div.sk-container {/* jupyter's `normalize.less` sets `[hidden] { display: none; }` but bootstrap.min.css set `[hidden] { display: none !important; }` so we also need the `!important` here to be able to override the default hidden behavior on the sphinx rendered scikit-learn.org. See: https://github.com/scikit-learn/scikit-learn/issues/21755 */display: inline-block !important;position: relative;}#sk-container-id-1 div.sk-text-repr-fallback {display: none;}</style><div id=\"sk-container-id-1\" class=\"sk-top-container\"><div class=\"sk-text-repr-fallback\"><pre>ColumnTransformer(remainder=&#x27;passthrough&#x27;,\n",
              "                  transformers=[(&#x27;pipeline-1&#x27;,\n",
              "                                 Pipeline(steps=[(&#x27;standardscaler&#x27;,\n",
              "                                                  StandardScaler())]),\n",
              "                                 &lt;sklearn.compose._column_transformer.make_column_selector object at 0x7f303579b370&gt;),\n",
              "                                (&#x27;pipeline-2&#x27;,\n",
              "                                 Pipeline(steps=[(&#x27;onehotencoder&#x27;,\n",
              "                                                  OneHotEncoder(handle_unknown=&#x27;ignore&#x27;,\n",
              "                                                                sparse=False))]),\n",
              "                                 &lt;sklearn.compose._column_transformer.make_column_selector object at 0x7f303579b280&gt;)])</pre><b>In a Jupyter environment, please rerun this cell to show the HTML representation or trust the notebook. <br />On GitHub, the HTML representation is unable to render, please try loading this page with nbviewer.org.</b></div><div class=\"sk-container\" hidden><div class=\"sk-item sk-dashed-wrapped\"><div class=\"sk-label-container\"><div class=\"sk-label sk-toggleable\"><input class=\"sk-toggleable__control sk-hidden--visually\" id=\"sk-estimator-id-1\" type=\"checkbox\" ><label for=\"sk-estimator-id-1\" class=\"sk-toggleable__label sk-toggleable__label-arrow\">ColumnTransformer</label><div class=\"sk-toggleable__content\"><pre>ColumnTransformer(remainder=&#x27;passthrough&#x27;,\n",
              "                  transformers=[(&#x27;pipeline-1&#x27;,\n",
              "                                 Pipeline(steps=[(&#x27;standardscaler&#x27;,\n",
              "                                                  StandardScaler())]),\n",
              "                                 &lt;sklearn.compose._column_transformer.make_column_selector object at 0x7f303579b370&gt;),\n",
              "                                (&#x27;pipeline-2&#x27;,\n",
              "                                 Pipeline(steps=[(&#x27;onehotencoder&#x27;,\n",
              "                                                  OneHotEncoder(handle_unknown=&#x27;ignore&#x27;,\n",
              "                                                                sparse=False))]),\n",
              "                                 &lt;sklearn.compose._column_transformer.make_column_selector object at 0x7f303579b280&gt;)])</pre></div></div></div><div class=\"sk-parallel\"><div class=\"sk-parallel-item\"><div class=\"sk-item\"><div class=\"sk-label-container\"><div class=\"sk-label sk-toggleable\"><input class=\"sk-toggleable__control sk-hidden--visually\" id=\"sk-estimator-id-2\" type=\"checkbox\" ><label for=\"sk-estimator-id-2\" class=\"sk-toggleable__label sk-toggleable__label-arrow\">pipeline-1</label><div class=\"sk-toggleable__content\"><pre>&lt;sklearn.compose._column_transformer.make_column_selector object at 0x7f303579b370&gt;</pre></div></div></div><div class=\"sk-serial\"><div class=\"sk-item\"><div class=\"sk-serial\"><div class=\"sk-item\"><div class=\"sk-estimator sk-toggleable\"><input class=\"sk-toggleable__control sk-hidden--visually\" id=\"sk-estimator-id-3\" type=\"checkbox\" ><label for=\"sk-estimator-id-3\" class=\"sk-toggleable__label sk-toggleable__label-arrow\">StandardScaler</label><div class=\"sk-toggleable__content\"><pre>StandardScaler()</pre></div></div></div></div></div></div></div></div><div class=\"sk-parallel-item\"><div class=\"sk-item\"><div class=\"sk-label-container\"><div class=\"sk-label sk-toggleable\"><input class=\"sk-toggleable__control sk-hidden--visually\" id=\"sk-estimator-id-4\" type=\"checkbox\" ><label for=\"sk-estimator-id-4\" class=\"sk-toggleable__label sk-toggleable__label-arrow\">pipeline-2</label><div class=\"sk-toggleable__content\"><pre>&lt;sklearn.compose._column_transformer.make_column_selector object at 0x7f303579b280&gt;</pre></div></div></div><div class=\"sk-serial\"><div class=\"sk-item\"><div class=\"sk-serial\"><div class=\"sk-item\"><div class=\"sk-estimator sk-toggleable\"><input class=\"sk-toggleable__control sk-hidden--visually\" id=\"sk-estimator-id-5\" type=\"checkbox\" ><label for=\"sk-estimator-id-5\" class=\"sk-toggleable__label sk-toggleable__label-arrow\">OneHotEncoder</label><div class=\"sk-toggleable__content\"><pre>OneHotEncoder(handle_unknown=&#x27;ignore&#x27;, sparse=False)</pre></div></div></div></div></div></div></div></div><div class=\"sk-parallel-item\"><div class=\"sk-item\"><div class=\"sk-label-container\"><div class=\"sk-label sk-toggleable\"><input class=\"sk-toggleable__control sk-hidden--visually\" id=\"sk-estimator-id-6\" type=\"checkbox\" ><label for=\"sk-estimator-id-6\" class=\"sk-toggleable__label sk-toggleable__label-arrow\">remainder</label><div class=\"sk-toggleable__content\"><pre></pre></div></div></div><div class=\"sk-serial\"><div class=\"sk-item\"><div class=\"sk-estimator sk-toggleable\"><input class=\"sk-toggleable__control sk-hidden--visually\" id=\"sk-estimator-id-7\" type=\"checkbox\" ><label for=\"sk-estimator-id-7\" class=\"sk-toggleable__label sk-toggleable__label-arrow\">passthrough</label><div class=\"sk-toggleable__content\"><pre>passthrough</pre></div></div></div></div></div></div></div></div></div></div>"
            ]
          },
          "metadata": {},
          "execution_count": 39
        }
      ],
      "source": [
        "#Make Pipelines\n",
        "cat_pipeline = make_pipeline(ohe)\n",
        "num_pipeline = make_pipeline(Scaler)\n",
        "\n",
        "#Instantiate a column transformer\n",
        "#Tuples\n",
        "num_tuple = (num_pipeline, num_selector)\n",
        "cat_tuple = (cat_pipeline, cat_selector)\n",
        "Column_transformer = make_column_transformer(num_tuple, cat_tuple, remainder='passthrough')\n",
        "Column_transformer"
      ]
    },
    {
      "cell_type": "markdown",
      "metadata": {
        "id": "GFZWU6pUr6FW"
      },
      "source": [
        "***Applying the PCA to Transform the Features***"
      ]
    },
    {
      "cell_type": "code",
      "execution_count": 40,
      "metadata": {
        "id": "UAaXw_KAsB2T"
      },
      "outputs": [],
      "source": [
        "#Instantiate the standard scaler\n",
        "Scaler = StandardScaler()\n",
        "\n",
        "#Instantiate the PCA Model while retaining 95% of the variance\n",
        "pca = PCA(n_components=0.95)\n",
        "\n",
        "#Instantiate the pca_pipeline\n",
        "pca_pipeline = make_pipeline(Column_transformer, pca)"
      ]
    },
    {
      "cell_type": "markdown",
      "metadata": {
        "id": "3OlbhJSq9cyK"
      },
      "source": [
        "***\n",
        "#**Using the Decision Tree Classification Model**\n",
        "---"
      ]
    },
    {
      "cell_type": "code",
      "execution_count": 41,
      "metadata": {
        "colab": {
          "base_uri": "https://localhost:8080/"
        },
        "id": "qU20muZU9Zpr",
        "outputId": "0af6b3de-7b41-42f1-85f1-84b38dfdfefa"
      },
      "outputs": [
        {
          "output_type": "execute_result",
          "data": {
            "text/plain": [
              "{'ccp_alpha': 0.0,\n",
              " 'class_weight': None,\n",
              " 'criterion': 'gini',\n",
              " 'max_depth': None,\n",
              " 'max_features': None,\n",
              " 'max_leaf_nodes': None,\n",
              " 'min_impurity_decrease': 0.0,\n",
              " 'min_samples_leaf': 1,\n",
              " 'min_samples_split': 2,\n",
              " 'min_weight_fraction_leaf': 0.0,\n",
              " 'random_state': 42,\n",
              " 'splitter': 'best'}"
            ]
          },
          "metadata": {},
          "execution_count": 41
        }
      ],
      "source": [
        "#Instatiate the Decision tree Model\n",
        "dec = DecisionTreeClassifier(random_state=42)\n",
        "#Create the Model Pipeline\n",
        "dec_pipeline = make_pipeline(pca_pipeline, dec)\n",
        "#The hyperparameters\n",
        "dec.get_params()"
      ]
    },
    {
      "cell_type": "code",
      "execution_count": 42,
      "metadata": {
        "colab": {
          "base_uri": "https://localhost:8080/",
          "height": 252
        },
        "id": "uzDqOYrdLi4s",
        "outputId": "fb34e23a-4851-499e-cebe-a65d529bee6c"
      },
      "outputs": [
        {
          "output_type": "execute_result",
          "data": {
            "text/plain": [
              "Pipeline(steps=[('pipeline',\n",
              "                 Pipeline(steps=[('columntransformer',\n",
              "                                  ColumnTransformer(remainder='passthrough',\n",
              "                                                    transformers=[('pipeline-1',\n",
              "                                                                   Pipeline(steps=[('standardscaler',\n",
              "                                                                                    StandardScaler())]),\n",
              "                                                                   <sklearn.compose._column_transformer.make_column_selector object at 0x7f303579b370>),\n",
              "                                                                  ('pipeline-2',\n",
              "                                                                   Pipeline(steps=[('onehotencoder',\n",
              "                                                                                    OneHotEncoder(handle_unknown='ignore',\n",
              "                                                                                                  sparse=False))]),\n",
              "                                                                   <sklearn.compose._column_transformer.make_column_selector object at 0x7f303579b280>)])),\n",
              "                                 ('pca', PCA(n_components=0.95))])),\n",
              "                ('decisiontreeclassifier',\n",
              "                 DecisionTreeClassifier(random_state=42))])"
            ],
            "text/html": [
              "<style>#sk-container-id-2 {color: black;background-color: white;}#sk-container-id-2 pre{padding: 0;}#sk-container-id-2 div.sk-toggleable {background-color: white;}#sk-container-id-2 label.sk-toggleable__label {cursor: pointer;display: block;width: 100%;margin-bottom: 0;padding: 0.3em;box-sizing: border-box;text-align: center;}#sk-container-id-2 label.sk-toggleable__label-arrow:before {content: \"▸\";float: left;margin-right: 0.25em;color: #696969;}#sk-container-id-2 label.sk-toggleable__label-arrow:hover:before {color: black;}#sk-container-id-2 div.sk-estimator:hover label.sk-toggleable__label-arrow:before {color: black;}#sk-container-id-2 div.sk-toggleable__content {max-height: 0;max-width: 0;overflow: hidden;text-align: left;background-color: #f0f8ff;}#sk-container-id-2 div.sk-toggleable__content pre {margin: 0.2em;color: black;border-radius: 0.25em;background-color: #f0f8ff;}#sk-container-id-2 input.sk-toggleable__control:checked~div.sk-toggleable__content {max-height: 200px;max-width: 100%;overflow: auto;}#sk-container-id-2 input.sk-toggleable__control:checked~label.sk-toggleable__label-arrow:before {content: \"▾\";}#sk-container-id-2 div.sk-estimator input.sk-toggleable__control:checked~label.sk-toggleable__label {background-color: #d4ebff;}#sk-container-id-2 div.sk-label input.sk-toggleable__control:checked~label.sk-toggleable__label {background-color: #d4ebff;}#sk-container-id-2 input.sk-hidden--visually {border: 0;clip: rect(1px 1px 1px 1px);clip: rect(1px, 1px, 1px, 1px);height: 1px;margin: -1px;overflow: hidden;padding: 0;position: absolute;width: 1px;}#sk-container-id-2 div.sk-estimator {font-family: monospace;background-color: #f0f8ff;border: 1px dotted black;border-radius: 0.25em;box-sizing: border-box;margin-bottom: 0.5em;}#sk-container-id-2 div.sk-estimator:hover {background-color: #d4ebff;}#sk-container-id-2 div.sk-parallel-item::after {content: \"\";width: 100%;border-bottom: 1px solid gray;flex-grow: 1;}#sk-container-id-2 div.sk-label:hover label.sk-toggleable__label {background-color: #d4ebff;}#sk-container-id-2 div.sk-serial::before {content: \"\";position: absolute;border-left: 1px solid gray;box-sizing: border-box;top: 0;bottom: 0;left: 50%;z-index: 0;}#sk-container-id-2 div.sk-serial {display: flex;flex-direction: column;align-items: center;background-color: white;padding-right: 0.2em;padding-left: 0.2em;position: relative;}#sk-container-id-2 div.sk-item {position: relative;z-index: 1;}#sk-container-id-2 div.sk-parallel {display: flex;align-items: stretch;justify-content: center;background-color: white;position: relative;}#sk-container-id-2 div.sk-item::before, #sk-container-id-2 div.sk-parallel-item::before {content: \"\";position: absolute;border-left: 1px solid gray;box-sizing: border-box;top: 0;bottom: 0;left: 50%;z-index: -1;}#sk-container-id-2 div.sk-parallel-item {display: flex;flex-direction: column;z-index: 1;position: relative;background-color: white;}#sk-container-id-2 div.sk-parallel-item:first-child::after {align-self: flex-end;width: 50%;}#sk-container-id-2 div.sk-parallel-item:last-child::after {align-self: flex-start;width: 50%;}#sk-container-id-2 div.sk-parallel-item:only-child::after {width: 0;}#sk-container-id-2 div.sk-dashed-wrapped {border: 1px dashed gray;margin: 0 0.4em 0.5em 0.4em;box-sizing: border-box;padding-bottom: 0.4em;background-color: white;}#sk-container-id-2 div.sk-label label {font-family: monospace;font-weight: bold;display: inline-block;line-height: 1.2em;}#sk-container-id-2 div.sk-label-container {text-align: center;}#sk-container-id-2 div.sk-container {/* jupyter's `normalize.less` sets `[hidden] { display: none; }` but bootstrap.min.css set `[hidden] { display: none !important; }` so we also need the `!important` here to be able to override the default hidden behavior on the sphinx rendered scikit-learn.org. See: https://github.com/scikit-learn/scikit-learn/issues/21755 */display: inline-block !important;position: relative;}#sk-container-id-2 div.sk-text-repr-fallback {display: none;}</style><div id=\"sk-container-id-2\" class=\"sk-top-container\"><div class=\"sk-text-repr-fallback\"><pre>Pipeline(steps=[(&#x27;pipeline&#x27;,\n",
              "                 Pipeline(steps=[(&#x27;columntransformer&#x27;,\n",
              "                                  ColumnTransformer(remainder=&#x27;passthrough&#x27;,\n",
              "                                                    transformers=[(&#x27;pipeline-1&#x27;,\n",
              "                                                                   Pipeline(steps=[(&#x27;standardscaler&#x27;,\n",
              "                                                                                    StandardScaler())]),\n",
              "                                                                   &lt;sklearn.compose._column_transformer.make_column_selector object at 0x7f303579b370&gt;),\n",
              "                                                                  (&#x27;pipeline-2&#x27;,\n",
              "                                                                   Pipeline(steps=[(&#x27;onehotencoder&#x27;,\n",
              "                                                                                    OneHotEncoder(handle_unknown=&#x27;ignore&#x27;,\n",
              "                                                                                                  sparse=False))]),\n",
              "                                                                   &lt;sklearn.compose._column_transformer.make_column_selector object at 0x7f303579b280&gt;)])),\n",
              "                                 (&#x27;pca&#x27;, PCA(n_components=0.95))])),\n",
              "                (&#x27;decisiontreeclassifier&#x27;,\n",
              "                 DecisionTreeClassifier(random_state=42))])</pre><b>In a Jupyter environment, please rerun this cell to show the HTML representation or trust the notebook. <br />On GitHub, the HTML representation is unable to render, please try loading this page with nbviewer.org.</b></div><div class=\"sk-container\" hidden><div class=\"sk-item sk-dashed-wrapped\"><div class=\"sk-label-container\"><div class=\"sk-label sk-toggleable\"><input class=\"sk-toggleable__control sk-hidden--visually\" id=\"sk-estimator-id-8\" type=\"checkbox\" ><label for=\"sk-estimator-id-8\" class=\"sk-toggleable__label sk-toggleable__label-arrow\">Pipeline</label><div class=\"sk-toggleable__content\"><pre>Pipeline(steps=[(&#x27;pipeline&#x27;,\n",
              "                 Pipeline(steps=[(&#x27;columntransformer&#x27;,\n",
              "                                  ColumnTransformer(remainder=&#x27;passthrough&#x27;,\n",
              "                                                    transformers=[(&#x27;pipeline-1&#x27;,\n",
              "                                                                   Pipeline(steps=[(&#x27;standardscaler&#x27;,\n",
              "                                                                                    StandardScaler())]),\n",
              "                                                                   &lt;sklearn.compose._column_transformer.make_column_selector object at 0x7f303579b370&gt;),\n",
              "                                                                  (&#x27;pipeline-2&#x27;,\n",
              "                                                                   Pipeline(steps=[(&#x27;onehotencoder&#x27;,\n",
              "                                                                                    OneHotEncoder(handle_unknown=&#x27;ignore&#x27;,\n",
              "                                                                                                  sparse=False))]),\n",
              "                                                                   &lt;sklearn.compose._column_transformer.make_column_selector object at 0x7f303579b280&gt;)])),\n",
              "                                 (&#x27;pca&#x27;, PCA(n_components=0.95))])),\n",
              "                (&#x27;decisiontreeclassifier&#x27;,\n",
              "                 DecisionTreeClassifier(random_state=42))])</pre></div></div></div><div class=\"sk-serial\"><div class=\"sk-item\"><div class=\"sk-label-container\"><div class=\"sk-label sk-toggleable\"><input class=\"sk-toggleable__control sk-hidden--visually\" id=\"sk-estimator-id-9\" type=\"checkbox\" ><label for=\"sk-estimator-id-9\" class=\"sk-toggleable__label sk-toggleable__label-arrow\">pipeline: Pipeline</label><div class=\"sk-toggleable__content\"><pre>Pipeline(steps=[(&#x27;columntransformer&#x27;,\n",
              "                 ColumnTransformer(remainder=&#x27;passthrough&#x27;,\n",
              "                                   transformers=[(&#x27;pipeline-1&#x27;,\n",
              "                                                  Pipeline(steps=[(&#x27;standardscaler&#x27;,\n",
              "                                                                   StandardScaler())]),\n",
              "                                                  &lt;sklearn.compose._column_transformer.make_column_selector object at 0x7f303579b370&gt;),\n",
              "                                                 (&#x27;pipeline-2&#x27;,\n",
              "                                                  Pipeline(steps=[(&#x27;onehotencoder&#x27;,\n",
              "                                                                   OneHotEncoder(handle_unknown=&#x27;ignore&#x27;,\n",
              "                                                                                 sparse=False))]),\n",
              "                                                  &lt;sklearn.compose._column_transformer.make_column_selector object at 0x7f303579b280&gt;)])),\n",
              "                (&#x27;pca&#x27;, PCA(n_components=0.95))])</pre></div></div></div><div class=\"sk-serial\"><div class=\"sk-item sk-dashed-wrapped\"><div class=\"sk-label-container\"><div class=\"sk-label sk-toggleable\"><input class=\"sk-toggleable__control sk-hidden--visually\" id=\"sk-estimator-id-10\" type=\"checkbox\" ><label for=\"sk-estimator-id-10\" class=\"sk-toggleable__label sk-toggleable__label-arrow\">columntransformer: ColumnTransformer</label><div class=\"sk-toggleable__content\"><pre>ColumnTransformer(remainder=&#x27;passthrough&#x27;,\n",
              "                  transformers=[(&#x27;pipeline-1&#x27;,\n",
              "                                 Pipeline(steps=[(&#x27;standardscaler&#x27;,\n",
              "                                                  StandardScaler())]),\n",
              "                                 &lt;sklearn.compose._column_transformer.make_column_selector object at 0x7f303579b370&gt;),\n",
              "                                (&#x27;pipeline-2&#x27;,\n",
              "                                 Pipeline(steps=[(&#x27;onehotencoder&#x27;,\n",
              "                                                  OneHotEncoder(handle_unknown=&#x27;ignore&#x27;,\n",
              "                                                                sparse=False))]),\n",
              "                                 &lt;sklearn.compose._column_transformer.make_column_selector object at 0x7f303579b280&gt;)])</pre></div></div></div><div class=\"sk-parallel\"><div class=\"sk-parallel-item\"><div class=\"sk-item\"><div class=\"sk-label-container\"><div class=\"sk-label sk-toggleable\"><input class=\"sk-toggleable__control sk-hidden--visually\" id=\"sk-estimator-id-11\" type=\"checkbox\" ><label for=\"sk-estimator-id-11\" class=\"sk-toggleable__label sk-toggleable__label-arrow\">pipeline-1</label><div class=\"sk-toggleable__content\"><pre>&lt;sklearn.compose._column_transformer.make_column_selector object at 0x7f303579b370&gt;</pre></div></div></div><div class=\"sk-serial\"><div class=\"sk-item\"><div class=\"sk-serial\"><div class=\"sk-item\"><div class=\"sk-estimator sk-toggleable\"><input class=\"sk-toggleable__control sk-hidden--visually\" id=\"sk-estimator-id-12\" type=\"checkbox\" ><label for=\"sk-estimator-id-12\" class=\"sk-toggleable__label sk-toggleable__label-arrow\">StandardScaler</label><div class=\"sk-toggleable__content\"><pre>StandardScaler()</pre></div></div></div></div></div></div></div></div><div class=\"sk-parallel-item\"><div class=\"sk-item\"><div class=\"sk-label-container\"><div class=\"sk-label sk-toggleable\"><input class=\"sk-toggleable__control sk-hidden--visually\" id=\"sk-estimator-id-13\" type=\"checkbox\" ><label for=\"sk-estimator-id-13\" class=\"sk-toggleable__label sk-toggleable__label-arrow\">pipeline-2</label><div class=\"sk-toggleable__content\"><pre>&lt;sklearn.compose._column_transformer.make_column_selector object at 0x7f303579b280&gt;</pre></div></div></div><div class=\"sk-serial\"><div class=\"sk-item\"><div class=\"sk-serial\"><div class=\"sk-item\"><div class=\"sk-estimator sk-toggleable\"><input class=\"sk-toggleable__control sk-hidden--visually\" id=\"sk-estimator-id-14\" type=\"checkbox\" ><label for=\"sk-estimator-id-14\" class=\"sk-toggleable__label sk-toggleable__label-arrow\">OneHotEncoder</label><div class=\"sk-toggleable__content\"><pre>OneHotEncoder(handle_unknown=&#x27;ignore&#x27;, sparse=False)</pre></div></div></div></div></div></div></div></div><div class=\"sk-parallel-item\"><div class=\"sk-item\"><div class=\"sk-label-container\"><div class=\"sk-label sk-toggleable\"><input class=\"sk-toggleable__control sk-hidden--visually\" id=\"sk-estimator-id-15\" type=\"checkbox\" ><label for=\"sk-estimator-id-15\" class=\"sk-toggleable__label sk-toggleable__label-arrow\">remainder</label><div class=\"sk-toggleable__content\"><pre>[]</pre></div></div></div><div class=\"sk-serial\"><div class=\"sk-item\"><div class=\"sk-estimator sk-toggleable\"><input class=\"sk-toggleable__control sk-hidden--visually\" id=\"sk-estimator-id-16\" type=\"checkbox\" ><label for=\"sk-estimator-id-16\" class=\"sk-toggleable__label sk-toggleable__label-arrow\">passthrough</label><div class=\"sk-toggleable__content\"><pre>passthrough</pre></div></div></div></div></div></div></div></div><div class=\"sk-item\"><div class=\"sk-estimator sk-toggleable\"><input class=\"sk-toggleable__control sk-hidden--visually\" id=\"sk-estimator-id-17\" type=\"checkbox\" ><label for=\"sk-estimator-id-17\" class=\"sk-toggleable__label sk-toggleable__label-arrow\">PCA</label><div class=\"sk-toggleable__content\"><pre>PCA(n_components=0.95)</pre></div></div></div></div></div><div class=\"sk-item\"><div class=\"sk-estimator sk-toggleable\"><input class=\"sk-toggleable__control sk-hidden--visually\" id=\"sk-estimator-id-18\" type=\"checkbox\" ><label for=\"sk-estimator-id-18\" class=\"sk-toggleable__label sk-toggleable__label-arrow\">DecisionTreeClassifier</label><div class=\"sk-toggleable__content\"><pre>DecisionTreeClassifier(random_state=42)</pre></div></div></div></div></div></div></div>"
            ]
          },
          "metadata": {},
          "execution_count": 42
        }
      ],
      "source": [
        "#View the Permance of the Decision Tree Performance with default Hyperparameters\n",
        "dec_pipeline.fit(X_train, y_train)"
      ]
    },
    {
      "cell_type": "code",
      "execution_count": 43,
      "metadata": {
        "colab": {
          "base_uri": "https://localhost:8080/"
        },
        "id": "6DXW3jKV5JtB",
        "outputId": "a54a6f33-f0ce-4ef7-82a5-9854e583bf90"
      },
      "outputs": [
        {
          "output_type": "stream",
          "name": "stdout",
          "text": [
            "dec_pipeline_train 0.9789771330218835\n",
            "dec_pipeline_test 0.8108174554394592\n"
          ]
        }
      ],
      "source": [
        "#Obtain Scores\n",
        "train_score = dec_pipeline.score(X_train, y_train)\n",
        "test_score = dec_pipeline.score(X_test, y_test)\n",
        "\n",
        "print('dec_pipeline_train',train_score)\n",
        "print('dec_pipeline_test', test_score)"
      ]
    },
    {
      "cell_type": "markdown",
      "metadata": {
        "id": "achX017mM9HA"
      },
      "source": [
        "**Observation**\n",
        "\n",
        "The Accuracy score of the model on the testing dataset is 81.6% however this is slightly below the accuracy score on the train set9 (97.8%), thus the model is over fitting on the dataset."
      ]
    },
    {
      "cell_type": "markdown",
      "metadata": {
        "id": "VSVFrOcqrw7_"
      },
      "source": [
        "# **Tunning the Decision Tree Model**\n",
        "Hyper-parameter: *MaxDepth*\n",
        "\n",
        "Method: *For loop*"
      ]
    },
    {
      "cell_type": "code",
      "execution_count": 44,
      "metadata": {
        "colab": {
          "base_uri": "https://localhost:8080/"
        },
        "id": "HMm7sQ5S5ulk",
        "outputId": "e6adb42a-46cc-488d-952c-d0f5341a0745"
      },
      "outputs": [
        {
          "output_type": "execute_result",
          "data": {
            "text/plain": [
              "46"
            ]
          },
          "metadata": {},
          "execution_count": 44
        }
      ],
      "source": [
        "#Obtain Tree Depth for the model with Default Hyperparameters\n",
        "dec.get_depth()"
      ]
    },
    {
      "cell_type": "code",
      "execution_count": 45,
      "metadata": {
        "id": "igXYhXA07eGW"
      },
      "outputs": [],
      "source": [
        "#Loop Over the tree Depths to obtain the optimal depth\n",
        "\n",
        "# List of values to try for max_depth:\n",
        "max_depth_range = list(range(2, 46))\n",
        "\n",
        "# List to store the score for each value of max_depth:\n",
        "r2 = []\n",
        "\n",
        "for depth in max_depth_range:\n",
        "  dec = DecisionTreeClassifier(max_depth = depth, random_state = 42)\n",
        "  dec_pipeline = make_pipeline(pca_pipeline, dec)\n",
        "  dec_pipeline.fit(X_train, y_train)\n",
        "  score = dec_pipeline.score(X_test, y_test)\n",
        "  r2.append(score)"
      ]
    },
    {
      "cell_type": "code",
      "execution_count": 46,
      "metadata": {
        "colab": {
          "base_uri": "https://localhost:8080/",
          "height": 507
        },
        "id": "fYGwHErOg09H",
        "outputId": "926808a2-f49d-4b01-929c-140d626da984"
      },
      "outputs": [
        {
          "output_type": "display_data",
          "data": {
            "text/plain": [
              "<Figure size 800x550 with 1 Axes>"
            ],
            "image/png": "[encoded data removed]"
          },
          "metadata": {}
        }
      ],
      "source": [
        "# Visualize which max_depth leads to the highest r2 score\n",
        "plt.style.use('seaborn')\n",
        "\n",
        "plt.plot(max_depth_range, r2, label='Line plot', linewidth=1,marker = '.', markersize=10,c='green')\n",
        "#plt.scatter(max_depth_range, r2, label='Scatter plot')\n",
        "\n",
        "plt.xlabel('Max_depth')\n",
        "plt.xticks(list(range(0,46)),rotation=90)\n",
        "plt.ylabel('R2 Score')\n",
        "\n",
        "plt.legend()\n",
        "plt.show()"
      ]
    },
    {
      "cell_type": "markdown",
      "metadata": {
        "id": "gL3Pl1krgH55"
      },
      "source": [
        "```\n",
        "Observation\n",
        "```\n",
        "\n",
        "From the image above, it looks like the best score for the model is when the parameter max_depth is 5."
      ]
    },
    {
      "cell_type": "code",
      "execution_count": 47,
      "metadata": {
        "colab": {
          "base_uri": "https://localhost:8080/"
        },
        "id": "9I5ZIAinib_3",
        "outputId": "a2fee5b0-3f83-4788-c66e-0df846018bba"
      },
      "outputs": [
        {
          "output_type": "stream",
          "name": "stdout",
          "text": [
            "train_9_score: 0.8503811163019425\n",
            "test_9_score: 0.8483097725875846\n"
          ]
        }
      ],
      "source": [
        "#Running the Model with the Optimal Max Depth\n",
        "dec_9 = DecisionTreeClassifier(max_depth = 5, random_state = 42)\n",
        "dec_9_pipeline = make_pipeline(pca_pipeline, dec_9)\n",
        "dec_9_pipeline.fit(X_train, y_train)\n",
        "\n",
        "#Obtain predictions \n",
        "dec_preds = dec_9_pipeline.predict(X_test)\n",
        "\n",
        "#Scores\n",
        "train_9_score = dec_9_pipeline.score(X_train, y_train)\n",
        "test_9_score = dec_9_pipeline.score(X_test, y_test)\n",
        "print('train_9_score:',train_9_score)\n",
        "print('test_9_score:',test_9_score)"
      ]
    },
    {
      "cell_type": "markdown",
      "metadata": {
        "id": "kdhV-AFbOaY_"
      },
      "source": [
        "**Observation**\n",
        "\n",
        "After setting the maximum depth,\n",
        "\n",
        "The Accuracy score of the model on the train dataset is 85.0%  and the accuracy score on the train set is 84.8%, thus the model is fitting relatively well on the dataset."
      ]
    },
    {
      "cell_type": "code",
      "execution_count": 48,
      "metadata": {
        "colab": {
          "base_uri": "https://localhost:8080/",
          "height": 206
        },
        "id": "mF5R_6SmjC5w",
        "outputId": "df3adfad-cb1b-422a-dad6-77cf4011ea2e"
      },
      "outputs": [
        {
          "output_type": "execute_result",
          "data": {
            "text/plain": [
              "              precision    recall  f1-score     support\n",
              "0              0.860700  0.954051  0.904975  6159.00000\n",
              "1              0.783639  0.518725  0.624239  1976.00000\n",
              "accuracy       0.848310  0.848310  0.848310     0.84831\n",
              "macro avg      0.822170  0.736388  0.764607  8135.00000\n",
              "weighted avg   0.841982  0.848310  0.836784  8135.00000"
            ],
            "text/html": [
              "\n",
              "  <div id=\"df-e282c514-d43e-48af-9cea-4dc4b6e4cbe2\">\n",
              "    <div class=\"colab-df-container\">\n",
              "      <div>\n",
              "<style scoped>\n",
              "    .dataframe tbody tr th:only-of-type {\n",
              "        vertical-align: middle;\n",
              "    }\n",
              "\n",
              "    .dataframe tbody tr th {\n",
              "        vertical-align: top;\n",
              "    }\n",
              "\n",
              "    .dataframe thead th {\n",
              "        text-align: right;\n",
              "    }\n",
              "</style>\n",
              "<table border=\"1\" class=\"dataframe\">\n",
              "  <thead>\n",
              "    <tr style=\"text-align: right;\">\n",
              "      <th></th>\n",
              "      <th>precision</th>\n",
              "      <th>recall</th>\n",
              "      <th>f1-score</th>\n",
              "      <th>support</th>\n",
              "    </tr>\n",
              "  </thead>\n",
              "  <tbody>\n",
              "    <tr>\n",
              "      <th>0</th>\n",
              "      <td>0.860700</td>\n",
              "      <td>0.954051</td>\n",
              "      <td>0.904975</td>\n",
              "      <td>6159.00000</td>\n",
              "    </tr>\n",
              "    <tr>\n",
              "      <th>1</th>\n",
              "      <td>0.783639</td>\n",
              "      <td>0.518725</td>\n",
              "      <td>0.624239</td>\n",
              "      <td>1976.00000</td>\n",
              "    </tr>\n",
              "    <tr>\n",
              "      <th>accuracy</th>\n",
              "      <td>0.848310</td>\n",
              "      <td>0.848310</td>\n",
              "      <td>0.848310</td>\n",
              "      <td>0.84831</td>\n",
              "    </tr>\n",
              "    <tr>\n",
              "      <th>macro avg</th>\n",
              "      <td>0.822170</td>\n",
              "      <td>0.736388</td>\n",
              "      <td>0.764607</td>\n",
              "      <td>8135.00000</td>\n",
              "    </tr>\n",
              "    <tr>\n",
              "      <th>weighted avg</th>\n",
              "      <td>0.841982</td>\n",
              "      <td>0.848310</td>\n",
              "      <td>0.836784</td>\n",
              "      <td>8135.00000</td>\n",
              "    </tr>\n",
              "  </tbody>\n",
              "</table>\n",
              "</div>\n",
              "      <button class=\"colab-df-convert\" onclick=\"convertToInteractive('df-e282c514-d43e-48af-9cea-4dc4b6e4cbe2')\"\n",
              "              title=\"Convert this dataframe to an interactive table.\"\n",
              "              style=\"display:none;\">\n",
              "        \n",
              "  <svg xmlns=\"http://www.w3.org/2000/svg\" height=\"24px\"viewBox=\"0 0 24 24\"\n",
              "       width=\"24px\">\n",
              "    <path d=\"M0 0h24v24H0V0z\" fill=\"none\"/>\n",
              "    <path d=\"M18.56 5.44l.94 2.06.94-2.06 2.06-.94-2.06-.94-.94-2.06-.94 2.06-2.06.94zm-11 1L8.5 8.5l.94-2.06 2.06-.94-2.06-.94L8.5 2.5l-.94 2.06-2.06.94zm10 10l.94 2.06.94-2.06 2.06-.94-2.06-.94-.94-2.06-.94 2.06-2.06.94z\"/><path d=\"M17.41 7.96l-1.37-1.37c-.4-.4-.92-.59-1.43-.59-.52 0-1.04.2-1.43.59L10.3 9.45l-7.72 7.72c-.78.78-.78 2.05 0 2.83L4 21.41c.39.39.9.59 1.41.59.51 0 1.02-.2 1.41-.59l7.78-7.78 2.81-2.81c.8-.78.8-2.07 0-2.86zM5.41 20L4 18.59l7.72-7.72 1.47 1.35L5.41 20z\"/>\n",
              "  </svg>\n",
              "      </button>\n",
              "      \n",
              "  <style>\n",
              "    .colab-df-container {\n",
              "      display:flex;\n",
              "      flex-wrap:wrap;\n",
              "      gap: 12px;\n",
              "    }\n",
              "\n",
              "    .colab-df-convert {\n",
              "      background-color: #E8F0FE;\n",
              "      border: none;\n",
              "      border-radius: 50%;\n",
              "      cursor: pointer;\n",
              "      display: none;\n",
              "      fill: #1967D2;\n",
              "      height: 32px;\n",
              "      padding: 0 0 0 0;\n",
              "      width: 32px;\n",
              "    }\n",
              "\n",
              "    .colab-df-convert:hover {\n",
              "      background-color: #E2EBFA;\n",
              "      box-shadow: 0px 1px 2px rgba(60, 64, 67, 0.3), 0px 1px 3px 1px rgba(60, 64, 67, 0.15);\n",
              "      fill: #174EA6;\n",
              "    }\n",
              "\n",
              "    [theme=dark] .colab-df-convert {\n",
              "      background-color: #3B4455;\n",
              "      fill: #D2E3FC;\n",
              "    }\n",
              "\n",
              "    [theme=dark] .colab-df-convert:hover {\n",
              "      background-color: #434B5C;\n",
              "      box-shadow: 0px 1px 3px 1px rgba(0, 0, 0, 0.15);\n",
              "      filter: drop-shadow(0px 1px 2px rgba(0, 0, 0, 0.3));\n",
              "      fill: #FFFFFF;\n",
              "    }\n",
              "  </style>\n",
              "\n",
              "      <script>\n",
              "        const buttonEl =\n",
              "          document.querySelector('#df-e282c514-d43e-48af-9cea-4dc4b6e4cbe2 button.colab-df-convert');\n",
              "        buttonEl.style.display =\n",
              "          google.colab.kernel.accessAllowed ? 'block' : 'none';\n",
              "\n",
              "        async function convertToInteractive(key) {\n",
              "          const element = document.querySelector('#df-e282c514-d43e-48af-9cea-4dc4b6e4cbe2');\n",
              "          const dataTable =\n",
              "            await google.colab.kernel.invokeFunction('convertToInteractive',\n",
              "                                                     [key], {});\n",
              "          if (!dataTable) return;\n",
              "\n",
              "          const docLinkHtml = 'Like what you see? Visit the ' +\n",
              "            '<a target=\"_blank\" href=https://colab.research.google.com/notebooks/data_table.ipynb>data table notebook</a>'\n",
              "            + ' to learn more about interactive tables.';\n",
              "          element.innerHTML = '';\n",
              "          dataTable['output_type'] = 'display_data';\n",
              "          await google.colab.output.renderOutput(dataTable, element);\n",
              "          const docLink = document.createElement('div');\n",
              "          docLink.innerHTML = docLinkHtml;\n",
              "          element.appendChild(docLink);\n",
              "        }\n",
              "      </script>\n",
              "    </div>\n",
              "  </div>\n",
              "  "
            ]
          },
          "metadata": {},
          "execution_count": 48
        }
      ],
      "source": [
        "#Model Evaluation Using the Classification Report\n",
        "report = classification_report(y_test,dec_preds, output_dict=True)\n",
        "dec_rpt = pd.DataFrame(report).T\n",
        "dec_rpt"
      ]
    },
    {
      "cell_type": "code",
      "execution_count": 49,
      "metadata": {
        "colab": {
          "base_uri": "https://localhost:8080/",
          "height": 476
        },
        "id": "uQzT88nu9md0",
        "outputId": "30c1bd9c-08c0-454f-8598-47de278ba1e4"
      },
      "outputs": [
        {
          "output_type": "display_data",
          "data": {
            "text/plain": [
              "<Figure size 1400x500 with 4 Axes>"
            ],
            "image/png": "[encoded data removed]"
          },
          "metadata": {}
        }
      ],
      "source": [
        "#Model Evaluation Using the Confusion Matrix\n",
        "labels = ['Below_$50K','Above_$50K']\n",
        "fig, ax = plt.subplots(1,2,figsize=(14,5))\n",
        "\n",
        "# Plot the unnormalized confusion matrix\n",
        "cm_disp = ConfusionMatrixDisplay.from_predictions(y_test,dec_preds,cmap='Greens',ax=ax[0],display_labels=labels)\n",
        "cm_disp.ax_.set_title('Confusion matrix (unnormalized)')\n",
        "# Plot the normalized confusion matrix\n",
        "cm_disp = ConfusionMatrixDisplay.from_predictions(y_test,dec_preds,cmap='Greens',ax=ax[1], normalize='true',display_labels=labels)\n",
        "cm_disp.ax_.set_title('Confusion matrix (normalized)')\n",
        "for axis in ax:\n",
        "    axis.grid(False)"
      ]
    },
    {
      "cell_type": "markdown",
      "metadata": {
        "id": "ywBX0mzzjFhH"
      },
      "source": [
        "\n",
        "**Observations from the Decision Tree Model**\n",
        "***\n",
        "```\n",
        "Accuracy Scores\n",
        "```\n",
        "The R2 Score is the accuracy score of the model on the training data, which is the proportion of correctly classified instances out of all instances in the data set.\n",
        "\n",
        "train_9_score: is the accuracy score which Means that the model correctly classified 85.04% of the instances in the training set.\n",
        "\n",
        "test_9_score:  is the accuracy score of the model on the test data which means that the model correctly classified 84.83% of the instances in the test set.\n",
        "\n",
        "The scores on the training and test sets are relatively close to each other, indicating that the model is not overfitting or underfitting on the data. \n",
        "\n",
        "Overall, the results suggest that the decision tree model with a maximum depth of 5 is performing reasonably well on this dataset.\n",
        "\n",
        "```\n",
        "Classification Report \n",
        "```\n",
        "*Precision:*\n",
        "\n",
        "Measures the accuracy of positive predictions.\n",
        "\n",
        "Out of all the instances predicted as class 0, 86.07% were correctly predicted. \n",
        "\n",
        "Out of all the instances predicted as class 1, 51.87% were correctly predicted. \n",
        "\n",
        "*Recall:* \n",
        "Measures the sensitivity of the model to detect positive instances in a class.\n",
        "\n",
        "Out of all the actual instances that belong to class 0, the model correctly identified 95.41% of them.\n",
        "\n",
        "Out of all the actual instances that belong to class 1, the model correctly identified 62.42% of them.\n",
        "\n",
        "*F1-score:*\n",
        "\n",
        "Measures the harmonic mean of precision and recall, and it provides a balanced measure of the model's performance.\n",
        "\n",
        "In this report, the F1-score for class 0 is 90.4% and only 62.4%  for Class 1\n",
        "\n",
        "```\n",
        "Confusion Matrix\n",
        "```\n",
        "*True Positives* : 52%\n",
        "\n",
        "Out of all the persons Above_50K_Dollars, only 52% were truely predicted.\n",
        "\n",
        "*False Positives* : 5%\n",
        "\n",
        "Out of all the persons predicted as Above_50K_Dollars, 5% were wrongly predicted.\n",
        "\n",
        "*True Negatives* : 95%\n",
        "\n",
        "Out of all the persons Below_50K_Dollars, only 95% were truely predicted.\n",
        "\n",
        "*False Negatives* : 5%\n",
        "\n",
        "Out of all the persons predicted as Below_50K_Dollars, 4.8% were wrongly predicted.\n",
        "\n",
        "```\n",
        "Summary\n",
        "```\n",
        "The Model performed relatively well in the prediction of the Class 0 (Below_50K_Dollars) but did not perform well in identifying the class 1 (Above_50K_Dollars)\n"
      ]
    },
    {
      "cell_type": "markdown",
      "metadata": {
        "id": "CC6s9whFNtmG"
      },
      "source": [
        "***\n",
        "# **Using the Random Forest Model**\n",
        "---"
      ]
    },
    {
      "cell_type": "code",
      "execution_count": 50,
      "metadata": {
        "id": "k3kyQiSZOPsv"
      },
      "outputs": [],
      "source": [
        "#Instantiate the Model\n",
        "rf = RandomForestClassifier(random_state = 42)\n",
        "#Create the Model Pipeline\n",
        "rf_pipeline = make_pipeline(pca_pipeline, rf)\n",
        "#The hyperparameters\n",
        "rf_pipeline.get_params();"
      ]
    },
    {
      "cell_type": "code",
      "execution_count": 51,
      "metadata": {
        "colab": {
          "base_uri": "https://localhost:8080/"
        },
        "id": "1ZV-QuBwOPsw",
        "outputId": "70165cd8-ffb8-4f00-effd-45be3e91d543"
      },
      "outputs": [
        {
          "output_type": "stream",
          "name": "stdout",
          "text": [
            "rf_pipeline_train 0.9789361527743627\n",
            "rf_pipeline_test 0.8454824830977259\n"
          ]
        }
      ],
      "source": [
        "#View the Perfomance of the Random Forest Performance with default Hyperparameters\n",
        "rf_pipeline.fit(X_train, y_train)\n",
        "\n",
        "#Obtain Scores\n",
        "train_score = rf_pipeline.score(X_train, y_train)\n",
        "test_score = rf_pipeline.score(X_test, y_test)\n",
        "print('rf_pipeline_train',train_score)\n",
        "print('rf_pipeline_test', test_score)"
      ]
    },
    {
      "cell_type": "markdown",
      "metadata": {
        "id": "-xAMIKiJOPsw"
      },
      "source": [
        "The Accuracy score of the model on the testing dataset is 84.8% however this is slightly below the accuracy score on the train set (97.8%), thus the model is over fitting on the dataset."
      ]
    },
    {
      "cell_type": "markdown",
      "metadata": {
        "id": "IAnVwttmsg5p"
      },
      "source": [
        "# **Tunning the Random Forest Model**\n",
        "\n",
        "Hyper-parameter: *MaxDepth*\n",
        "\n",
        "Method: *For loop*"
      ]
    },
    {
      "cell_type": "code",
      "execution_count": 52,
      "metadata": {
        "colab": {
          "base_uri": "https://localhost:8080/"
        },
        "id": "Fdql37StLyDt",
        "outputId": "57c10473-1ca0-4d12-8bad-bebd4c09d1c2"
      },
      "outputs": [
        {
          "output_type": "execute_result",
          "data": {
            "text/plain": [
              "45"
            ]
          },
          "metadata": {},
          "execution_count": 52
        }
      ],
      "source": [
        "#Obtain the Estimator depth\n",
        "est_depths = [estimator.get_depth() for estimator in rf.estimators_]\n",
        "max(est_depths)"
      ]
    },
    {
      "cell_type": "code",
      "execution_count": 53,
      "metadata": {
        "colab": {
          "base_uri": "https://localhost:8080/",
          "height": 525
        },
        "id": "TasI1mrxe5eV",
        "outputId": "b125aadb-627c-46e5-8665-370c90d6dfa4"
      },
      "outputs": [
        {
          "output_type": "display_data",
          "data": {
            "text/plain": [
              "<Figure size 800x550 with 1 Axes>"
            ],
            "image/png": "[encoded data removed]"
          },
          "metadata": {}
        }
      ],
      "source": [
        "#Iterate through the depths to obtain the optimum depth\n",
        "depths = range(1, max(est_depths))\n",
        "\n",
        "#Create dataframe of two olumns\n",
        "scores_df = pd.DataFrame(index=depths, columns=['Test Score'])\n",
        "for depth in depths:    \n",
        "   rf = RandomForestClassifier(max_depth=depth)\n",
        "   rf_pipeline = make_pipeline(pca_pipeline, rf)\n",
        "   rf_pipeline.fit(X_train, y_train)\n",
        "\n",
        "   #Add scores to the dataframe\n",
        "   scores_df.loc[depth, 'Train Score'] = rf_pipeline.score(X_train, y_train)\n",
        "   scores_df.loc[depth, 'Test Score'] = rf_pipeline.score(X_test, y_test)\n",
        "   scores_df.head()\n",
        "\n",
        "#Plot the Visualisation\n",
        "plt.plot(scores_df['Test Score'], marker='.',linewidth=1, markersize=10, c='blue')\n",
        "plt.xlabel('depths')\n",
        "plt.xticks(range(1,45),rotation=90)\n",
        "plt.ylabel('Accuracy Scores')\n",
        "plt.title('Accuracy Scores Vs depth')\n",
        "plt.show()"
      ]
    },
    {
      "cell_type": "code",
      "execution_count": 54,
      "metadata": {
        "colab": {
          "base_uri": "https://localhost:8080/",
          "height": 269
        },
        "id": "UZWNMikbNIfv",
        "outputId": "62049178-ad83-4e31-f970-774205366bdc"
      },
      "outputs": [
        {
          "output_type": "execute_result",
          "data": {
            "text/plain": [
              "   Test Score  Train Score Difference\n",
              "12   0.861094     0.915458   0.054364\n",
              "13   0.859373     0.925416   0.066043\n",
              "11    0.85925     0.903983   0.044733\n",
              "16   0.858881     0.954758   0.095876\n",
              "10   0.858881     0.893205   0.034324\n",
              "14   0.858636     0.935128   0.076493\n",
              "9    0.858267     0.881690   0.023423"
            ],
            "text/html": [
              "\n",
              "  <div id=\"df-78344a9c-75c8-416d-b8a1-77c5fac0e4d3\">\n",
              "    <div class=\"colab-df-container\">\n",
              "      <div>\n",
              "<style scoped>\n",
              "    .dataframe tbody tr th:only-of-type {\n",
              "        vertical-align: middle;\n",
              "    }\n",
              "\n",
              "    .dataframe tbody tr th {\n",
              "        vertical-align: top;\n",
              "    }\n",
              "\n",
              "    .dataframe thead th {\n",
              "        text-align: right;\n",
              "    }\n",
              "</style>\n",
              "<table border=\"1\" class=\"dataframe\">\n",
              "  <thead>\n",
              "    <tr style=\"text-align: right;\">\n",
              "      <th></th>\n",
              "      <th>Test Score</th>\n",
              "      <th>Train Score</th>\n",
              "      <th>Difference</th>\n",
              "    </tr>\n",
              "  </thead>\n",
              "  <tbody>\n",
              "    <tr>\n",
              "      <th>12</th>\n",
              "      <td>0.861094</td>\n",
              "      <td>0.915458</td>\n",
              "      <td>0.054364</td>\n",
              "    </tr>\n",
              "    <tr>\n",
              "      <th>13</th>\n",
              "      <td>0.859373</td>\n",
              "      <td>0.925416</td>\n",
              "      <td>0.066043</td>\n",
              "    </tr>\n",
              "    <tr>\n",
              "      <th>11</th>\n",
              "      <td>0.85925</td>\n",
              "      <td>0.903983</td>\n",
              "      <td>0.044733</td>\n",
              "    </tr>\n",
              "    <tr>\n",
              "      <th>16</th>\n",
              "      <td>0.858881</td>\n",
              "      <td>0.954758</td>\n",
              "      <td>0.095876</td>\n",
              "    </tr>\n",
              "    <tr>\n",
              "      <th>10</th>\n",
              "      <td>0.858881</td>\n",
              "      <td>0.893205</td>\n",
              "      <td>0.034324</td>\n",
              "    </tr>\n",
              "    <tr>\n",
              "      <th>14</th>\n",
              "      <td>0.858636</td>\n",
              "      <td>0.935128</td>\n",
              "      <td>0.076493</td>\n",
              "    </tr>\n",
              "    <tr>\n",
              "      <th>9</th>\n",
              "      <td>0.858267</td>\n",
              "      <td>0.881690</td>\n",
              "      <td>0.023423</td>\n",
              "    </tr>\n",
              "  </tbody>\n",
              "</table>\n",
              "</div>\n",
              "      <button class=\"colab-df-convert\" onclick=\"convertToInteractive('df-78344a9c-75c8-416d-b8a1-77c5fac0e4d3')\"\n",
              "              title=\"Convert this dataframe to an interactive table.\"\n",
              "              style=\"display:none;\">\n",
              "        \n",
              "  <svg xmlns=\"http://www.w3.org/2000/svg\" height=\"24px\"viewBox=\"0 0 24 24\"\n",
              "       width=\"24px\">\n",
              "    <path d=\"M0 0h24v24H0V0z\" fill=\"none\"/>\n",
              "    <path d=\"M18.56 5.44l.94 2.06.94-2.06 2.06-.94-2.06-.94-.94-2.06-.94 2.06-2.06.94zm-11 1L8.5 8.5l.94-2.06 2.06-.94-2.06-.94L8.5 2.5l-.94 2.06-2.06.94zm10 10l.94 2.06.94-2.06 2.06-.94-2.06-.94-.94-2.06-.94 2.06-2.06.94z\"/><path d=\"M17.41 7.96l-1.37-1.37c-.4-.4-.92-.59-1.43-.59-.52 0-1.04.2-1.43.59L10.3 9.45l-7.72 7.72c-.78.78-.78 2.05 0 2.83L4 21.41c.39.39.9.59 1.41.59.51 0 1.02-.2 1.41-.59l7.78-7.78 2.81-2.81c.8-.78.8-2.07 0-2.86zM5.41 20L4 18.59l7.72-7.72 1.47 1.35L5.41 20z\"/>\n",
              "  </svg>\n",
              "      </button>\n",
              "      \n",
              "  <style>\n",
              "    .colab-df-container {\n",
              "      display:flex;\n",
              "      flex-wrap:wrap;\n",
              "      gap: 12px;\n",
              "    }\n",
              "\n",
              "    .colab-df-convert {\n",
              "      background-color: #E8F0FE;\n",
              "      border: none;\n",
              "      border-radius: 50%;\n",
              "      cursor: pointer;\n",
              "      display: none;\n",
              "      fill: #1967D2;\n",
              "      height: 32px;\n",
              "      padding: 0 0 0 0;\n",
              "      width: 32px;\n",
              "    }\n",
              "\n",
              "    .colab-df-convert:hover {\n",
              "      background-color: #E2EBFA;\n",
              "      box-shadow: 0px 1px 2px rgba(60, 64, 67, 0.3), 0px 1px 3px 1px rgba(60, 64, 67, 0.15);\n",
              "      fill: #174EA6;\n",
              "    }\n",
              "\n",
              "    [theme=dark] .colab-df-convert {\n",
              "      background-color: #3B4455;\n",
              "      fill: #D2E3FC;\n",
              "    }\n",
              "\n",
              "    [theme=dark] .colab-df-convert:hover {\n",
              "      background-color: #434B5C;\n",
              "      box-shadow: 0px 1px 3px 1px rgba(0, 0, 0, 0.15);\n",
              "      filter: drop-shadow(0px 1px 2px rgba(0, 0, 0, 0.3));\n",
              "      fill: #FFFFFF;\n",
              "    }\n",
              "  </style>\n",
              "\n",
              "      <script>\n",
              "        const buttonEl =\n",
              "          document.querySelector('#df-78344a9c-75c8-416d-b8a1-77c5fac0e4d3 button.colab-df-convert');\n",
              "        buttonEl.style.display =\n",
              "          google.colab.kernel.accessAllowed ? 'block' : 'none';\n",
              "\n",
              "        async function convertToInteractive(key) {\n",
              "          const element = document.querySelector('#df-78344a9c-75c8-416d-b8a1-77c5fac0e4d3');\n",
              "          const dataTable =\n",
              "            await google.colab.kernel.invokeFunction('convertToInteractive',\n",
              "                                                     [key], {});\n",
              "          if (!dataTable) return;\n",
              "\n",
              "          const docLinkHtml = 'Like what you see? Visit the ' +\n",
              "            '<a target=\"_blank\" href=https://colab.research.google.com/notebooks/data_table.ipynb>data table notebook</a>'\n",
              "            + ' to learn more about interactive tables.';\n",
              "          element.innerHTML = '';\n",
              "          dataTable['output_type'] = 'display_data';\n",
              "          await google.colab.output.renderOutput(dataTable, element);\n",
              "          const docLink = document.createElement('div');\n",
              "          docLink.innerHTML = docLinkHtml;\n",
              "          element.appendChild(docLink);\n",
              "        }\n",
              "      </script>\n",
              "    </div>\n",
              "  </div>\n",
              "  "
            ]
          },
          "metadata": {},
          "execution_count": 54
        }
      ],
      "source": [
        "#Arranging Scores by Descending order\n",
        "sorted_scores = scores_df.sort_values(by='Test Score', ascending=False)\n",
        "sorted_scores['Difference'] = sorted_scores['Train Score'] - sorted_scores['Test Score']\n",
        "sorted_scores.head(7)"
      ]
    },
    {
      "cell_type": "code",
      "execution_count": 55,
      "metadata": {
        "colab": {
          "base_uri": "https://localhost:8080/"
        },
        "id": "2iRnJbFJNiV0",
        "outputId": "5b107efc-11ed-4b14-beb8-1ddb8b0e4f67"
      },
      "outputs": [
        {
          "output_type": "stream",
          "name": "stdout",
          "text": [
            "Train Score :  0.9262765347102696\n",
            "Test Score  :  0.8596189305470191\n"
          ]
        }
      ],
      "source": [
        "#Obtain the Scores basing on the optimum depth\n",
        "rf = RandomForestClassifier(max_depth=13)\n",
        "rf_pipeline = make_pipeline(pca_pipeline, rf)\n",
        "rf_pipeline.fit(X_train, y_train)\n",
        "\n",
        "#Predict  and view the values for y \n",
        "rf_preds = rf_pipeline.predict(X_test)\n",
        "\n",
        "print('Train Score : ', rf_pipeline.score(X_train, y_train))\n",
        "print('Test Score  : ', rf_pipeline.score(X_test, y_test))"
      ]
    },
    {
      "cell_type": "markdown",
      "metadata": {
        "id": "rrFwR2D4QdhD"
      },
      "source": [
        "**Observation**\n",
        "\n",
        "From the Graph, Optimal Max depth is 13 and at this the accuracy of the model is 86.0% \n",
        "on the test set and 92.6% on the train set.\n",
        "\n",
        "However the model is slightly overfit on the data set."
      ]
    },
    {
      "cell_type": "markdown",
      "metadata": {
        "id": "0v4CrQrQSNib"
      },
      "source": [
        "**Evaluating the Random Forest Model**"
      ]
    },
    {
      "cell_type": "code",
      "execution_count": 56,
      "metadata": {
        "colab": {
          "base_uri": "https://localhost:8080/",
          "height": 206
        },
        "id": "3ZAGo1FzSx64",
        "outputId": "620f3f85-70f3-46d5-beb2-27f19f02fb34"
      },
      "outputs": [
        {
          "output_type": "execute_result",
          "data": {
            "text/plain": [
              "              precision    recall  f1-score      support\n",
              "0              0.881405  0.941224  0.910333  6159.000000\n",
              "1              0.767651  0.605263  0.676853  1976.000000\n",
              "accuracy       0.859619  0.859619  0.859619     0.859619\n",
              "macro avg      0.824528  0.773244  0.793593  8135.000000\n",
              "weighted avg   0.853774  0.859619  0.853621  8135.000000"
            ],
            "text/html": [
              "\n",
              "  <div id=\"df-16f76a23-837f-4e46-95c0-886dae6e07ad\">\n",
              "    <div class=\"colab-df-container\">\n",
              "      <div>\n",
              "<style scoped>\n",
              "    .dataframe tbody tr th:only-of-type {\n",
              "        vertical-align: middle;\n",
              "    }\n",
              "\n",
              "    .dataframe tbody tr th {\n",
              "        vertical-align: top;\n",
              "    }\n",
              "\n",
              "    .dataframe thead th {\n",
              "        text-align: right;\n",
              "    }\n",
              "</style>\n",
              "<table border=\"1\" class=\"dataframe\">\n",
              "  <thead>\n",
              "    <tr style=\"text-align: right;\">\n",
              "      <th></th>\n",
              "      <th>precision</th>\n",
              "      <th>recall</th>\n",
              "      <th>f1-score</th>\n",
              "      <th>support</th>\n",
              "    </tr>\n",
              "  </thead>\n",
              "  <tbody>\n",
              "    <tr>\n",
              "      <th>0</th>\n",
              "      <td>0.881405</td>\n",
              "      <td>0.941224</td>\n",
              "      <td>0.910333</td>\n",
              "      <td>6159.000000</td>\n",
              "    </tr>\n",
              "    <tr>\n",
              "      <th>1</th>\n",
              "      <td>0.767651</td>\n",
              "      <td>0.605263</td>\n",
              "      <td>0.676853</td>\n",
              "      <td>1976.000000</td>\n",
              "    </tr>\n",
              "    <tr>\n",
              "      <th>accuracy</th>\n",
              "      <td>0.859619</td>\n",
              "      <td>0.859619</td>\n",
              "      <td>0.859619</td>\n",
              "      <td>0.859619</td>\n",
              "    </tr>\n",
              "    <tr>\n",
              "      <th>macro avg</th>\n",
              "      <td>0.824528</td>\n",
              "      <td>0.773244</td>\n",
              "      <td>0.793593</td>\n",
              "      <td>8135.000000</td>\n",
              "    </tr>\n",
              "    <tr>\n",
              "      <th>weighted avg</th>\n",
              "      <td>0.853774</td>\n",
              "      <td>0.859619</td>\n",
              "      <td>0.853621</td>\n",
              "      <td>8135.000000</td>\n",
              "    </tr>\n",
              "  </tbody>\n",
              "</table>\n",
              "</div>\n",
              "      <button class=\"colab-df-convert\" onclick=\"convertToInteractive('df-16f76a23-837f-4e46-95c0-886dae6e07ad')\"\n",
              "              title=\"Convert this dataframe to an interactive table.\"\n",
              "              style=\"display:none;\">\n",
              "        \n",
              "  <svg xmlns=\"http://www.w3.org/2000/svg\" height=\"24px\"viewBox=\"0 0 24 24\"\n",
              "       width=\"24px\">\n",
              "    <path d=\"M0 0h24v24H0V0z\" fill=\"none\"/>\n",
              "    <path d=\"M18.56 5.44l.94 2.06.94-2.06 2.06-.94-2.06-.94-.94-2.06-.94 2.06-2.06.94zm-11 1L8.5 8.5l.94-2.06 2.06-.94-2.06-.94L8.5 2.5l-.94 2.06-2.06.94zm10 10l.94 2.06.94-2.06 2.06-.94-2.06-.94-.94-2.06-.94 2.06-2.06.94z\"/><path d=\"M17.41 7.96l-1.37-1.37c-.4-.4-.92-.59-1.43-.59-.52 0-1.04.2-1.43.59L10.3 9.45l-7.72 7.72c-.78.78-.78 2.05 0 2.83L4 21.41c.39.39.9.59 1.41.59.51 0 1.02-.2 1.41-.59l7.78-7.78 2.81-2.81c.8-.78.8-2.07 0-2.86zM5.41 20L4 18.59l7.72-7.72 1.47 1.35L5.41 20z\"/>\n",
              "  </svg>\n",
              "      </button>\n",
              "      \n",
              "  <style>\n",
              "    .colab-df-container {\n",
              "      display:flex;\n",
              "      flex-wrap:wrap;\n",
              "      gap: 12px;\n",
              "    }\n",
              "\n",
              "    .colab-df-convert {\n",
              "      background-color: #E8F0FE;\n",
              "      border: none;\n",
              "      border-radius: 50%;\n",
              "      cursor: pointer;\n",
              "      display: none;\n",
              "      fill: #1967D2;\n",
              "      height: 32px;\n",
              "      padding: 0 0 0 0;\n",
              "      width: 32px;\n",
              "    }\n",
              "\n",
              "    .colab-df-convert:hover {\n",
              "      background-color: #E2EBFA;\n",
              "      box-shadow: 0px 1px 2px rgba(60, 64, 67, 0.3), 0px 1px 3px 1px rgba(60, 64, 67, 0.15);\n",
              "      fill: #174EA6;\n",
              "    }\n",
              "\n",
              "    [theme=dark] .colab-df-convert {\n",
              "      background-color: #3B4455;\n",
              "      fill: #D2E3FC;\n",
              "    }\n",
              "\n",
              "    [theme=dark] .colab-df-convert:hover {\n",
              "      background-color: #434B5C;\n",
              "      box-shadow: 0px 1px 3px 1px rgba(0, 0, 0, 0.15);\n",
              "      filter: drop-shadow(0px 1px 2px rgba(0, 0, 0, 0.3));\n",
              "      fill: #FFFFFF;\n",
              "    }\n",
              "  </style>\n",
              "\n",
              "      <script>\n",
              "        const buttonEl =\n",
              "          document.querySelector('#df-16f76a23-837f-4e46-95c0-886dae6e07ad button.colab-df-convert');\n",
              "        buttonEl.style.display =\n",
              "          google.colab.kernel.accessAllowed ? 'block' : 'none';\n",
              "\n",
              "        async function convertToInteractive(key) {\n",
              "          const element = document.querySelector('#df-16f76a23-837f-4e46-95c0-886dae6e07ad');\n",
              "          const dataTable =\n",
              "            await google.colab.kernel.invokeFunction('convertToInteractive',\n",
              "                                                     [key], {});\n",
              "          if (!dataTable) return;\n",
              "\n",
              "          const docLinkHtml = 'Like what you see? Visit the ' +\n",
              "            '<a target=\"_blank\" href=https://colab.research.google.com/notebooks/data_table.ipynb>data table notebook</a>'\n",
              "            + ' to learn more about interactive tables.';\n",
              "          element.innerHTML = '';\n",
              "          dataTable['output_type'] = 'display_data';\n",
              "          await google.colab.output.renderOutput(dataTable, element);\n",
              "          const docLink = document.createElement('div');\n",
              "          docLink.innerHTML = docLinkHtml;\n",
              "          element.appendChild(docLink);\n",
              "        }\n",
              "      </script>\n",
              "    </div>\n",
              "  </div>\n",
              "  "
            ]
          },
          "metadata": {},
          "execution_count": 56
        }
      ],
      "source": [
        "#Model Evaluation Using the Classification Report\n",
        "report = classification_report(y_test,rf_preds, output_dict=True)\n",
        "rf_rpt = pd.DataFrame(report).T\n",
        "rf_rpt"
      ]
    },
    {
      "cell_type": "code",
      "execution_count": 57,
      "metadata": {
        "colab": {
          "base_uri": "https://localhost:8080/",
          "height": 476
        },
        "id": "heLlTR0VSx7E",
        "outputId": "c62f2a72-f1df-4da8-c1de-367986243118"
      },
      "outputs": [
        {
          "output_type": "display_data",
          "data": {
            "text/plain": [
              "<Figure size 1400x500 with 4 Axes>"
            ],
            "image/png": "[encoded data removed]"
          },
          "metadata": {}
        }
      ],
      "source": [
        "#Model Evaluation Using the Confusion Matrix\n",
        "labels = ['Below_$50K','Above_$50K']\n",
        "fig, ax = plt.subplots(1,2,figsize=(14,5))\n",
        "\n",
        "# Plot the unnormalized confusion matrix\n",
        "cm_disp = ConfusionMatrixDisplay.from_predictions(y_test,rf_preds,cmap='Oranges',ax=ax[0],display_labels=labels)\n",
        "cm_disp.ax_.set_title('Confusion matrix (unnormalized)')\n",
        "# Plot the normalized confusion matrix\n",
        "cm_disp = ConfusionMatrixDisplay.from_predictions(y_test,rf_preds,cmap='Oranges',ax=ax[1], normalize='true',display_labels=labels)\n",
        "cm_disp.ax_.set_title('Confusion matrix (normalized)')\n",
        "for axis in ax:\n",
        "    axis.grid(False)"
      ]
    },
    {
      "cell_type": "markdown",
      "metadata": {
        "id": "6HUiZ4JsSx7F"
      },
      "source": [
        "\n",
        "**Observations from the Random Forest Model**\n",
        "***\n",
        "```\n",
        "Accuracy Scores\n",
        "```\n",
        "The R2 Score is the accuracy score of the model on the training data, which is the proportion of correctly classified instances out of all instances in the data set.\n",
        "\n",
        "Train Score: is the accuracy score which Means that the model correctly classified 92.6% of the instances in the training set.\n",
        "\n",
        "Test Score:  is the accuracy score of the model on the test data which means that the model correctly classified 85.8% of the instances in the test set.\n",
        "\n",
        "The scores on the training and test sets are relatively close to each other, However this indicates that the model is overfitting on the data set. **bold text**\n",
        "\n",
        "```\n",
        "Classification Report \n",
        "```\n",
        "*Precision:*\n",
        "\n",
        "Measures the accuracy of positive predictions.\n",
        "\n",
        "Out of all the instances predicted as class 0, 88.05% were correctly predicted. \n",
        "\n",
        "Out of all the instances predicted as class 1, 76.4% were correctly predicted. \n",
        "\n",
        "*Recall:* \n",
        "\n",
        "Measures the sensitivity of the model to detect positive instances in a class.\n",
        "\n",
        "Out of all the actual instances that belong to class 0, the model correctly identified 94.0% of them.\n",
        "\n",
        "Out of all the actual instances that belong to class 1, the model correctly identified 60.2% of them.\n",
        "\n",
        "*F1-score:*\n",
        "\n",
        "Measures the harmonic mean of precision and recall, and it provides a balanced measure of the model's performance.\n",
        "\n",
        "In this report, the F1-score for class 0 is 90.9% and only 67.4%  for Class 1\n",
        "\n",
        "```\n",
        "Confusion Matrix\n",
        "```\n",
        "*True Positives* : 60%\n",
        "\n",
        "Out of all the persons Above_50K_Dollars, only 60% were truely predicted.\n",
        "\n",
        "*False Positives* : 6%\n",
        "\n",
        "Out of all the persons predicted as Above_50K_Dollars, 6% were Below_50K Dollars.\n",
        "\n",
        "*True Negatives* : 94%\n",
        "\n",
        "Out of all the persons Below_50K_Dollars, only 94% were truely predicted.\n",
        "\n",
        "*False Negatives* : 5%\n",
        "\n",
        "Out of all the persons predicted as Below_50K_Dollars, 4% were Above_50K Dollars.\n",
        "\n",
        "```\n",
        "Summary\n",
        "```\n",
        "In terms of samples identified, the random forest model was able to correctly identify more True Positives ie, Those Above_50K Dollars(Class 1) and thus as reduced number of false Negatives ie, Those Below_50K(Class 0) than the Decision tree Model,\n",
        "\n",
        "However the model also generated less false positives than the decision tree model.\n",
        "\n",
        "Thus the random Forest Model performed slightly better than the Decision tree Model.\n"
      ]
    },
    {
      "cell_type": "markdown",
      "metadata": {
        "id": "63DjRqLLp6hH"
      },
      "source": [
        "***\n",
        "#**Using the KNN Model**\n",
        "***"
      ]
    },
    {
      "cell_type": "code",
      "execution_count": 58,
      "metadata": {
        "colab": {
          "base_uri": "https://localhost:8080/"
        },
        "id": "NPxZs-lyp522",
        "outputId": "b7bf3b94-e99c-4e89-c411-08ea0e1c4cf4"
      },
      "outputs": [
        {
          "output_type": "execute_result",
          "data": {
            "text/plain": [
              "{'algorithm': 'auto',\n",
              " 'leaf_size': 30,\n",
              " 'metric': 'minkowski',\n",
              " 'metric_params': None,\n",
              " 'n_jobs': None,\n",
              " 'n_neighbors': 5,\n",
              " 'p': 2,\n",
              " 'weights': 'uniform'}"
            ]
          },
          "metadata": {},
          "execution_count": 58
        }
      ],
      "source": [
        "#Instantiate the KNN Model Using the default Parameters \n",
        "knn = KNeighborsClassifier()\n",
        "#Obtain  Tunable parameters\n",
        "knn.get_params()"
      ]
    },
    {
      "cell_type": "code",
      "execution_count": 59,
      "metadata": {
        "colab": {
          "base_uri": "https://localhost:8080/",
          "height": 252
        },
        "id": "_cU9Mac6wAj4",
        "outputId": "0da9533b-6589-418b-e202-f212ab2dad42"
      },
      "outputs": [
        {
          "output_type": "execute_result",
          "data": {
            "text/plain": [
              "Pipeline(steps=[('pipeline',\n",
              "                 Pipeline(steps=[('columntransformer',\n",
              "                                  ColumnTransformer(remainder='passthrough',\n",
              "                                                    transformers=[('pipeline-1',\n",
              "                                                                   Pipeline(steps=[('standardscaler',\n",
              "                                                                                    StandardScaler())]),\n",
              "                                                                   <sklearn.compose._column_transformer.make_column_selector object at 0x7f303579b370>),\n",
              "                                                                  ('pipeline-2',\n",
              "                                                                   Pipeline(steps=[('onehotencoder',\n",
              "                                                                                    OneHotEncoder(handle_unknown='ignore',\n",
              "                                                                                                  sparse=False))]),\n",
              "                                                                   <sklearn.compose._column_transformer.make_column_selector object at 0x7f303579b280>)])),\n",
              "                                 ('pca', PCA(n_components=0.95))])),\n",
              "                ('kneighborsclassifier', KNeighborsClassifier())])"
            ],
            "text/html": [
              "<style>#sk-container-id-3 {color: black;background-color: white;}#sk-container-id-3 pre{padding: 0;}#sk-container-id-3 div.sk-toggleable {background-color: white;}#sk-container-id-3 label.sk-toggleable__label {cursor: pointer;display: block;width: 100%;margin-bottom: 0;padding: 0.3em;box-sizing: border-box;text-align: center;}#sk-container-id-3 label.sk-toggleable__label-arrow:before {content: \"▸\";float: left;margin-right: 0.25em;color: #696969;}#sk-container-id-3 label.sk-toggleable__label-arrow:hover:before {color: black;}#sk-container-id-3 div.sk-estimator:hover label.sk-toggleable__label-arrow:before {color: black;}#sk-container-id-3 div.sk-toggleable__content {max-height: 0;max-width: 0;overflow: hidden;text-align: left;background-color: #f0f8ff;}#sk-container-id-3 div.sk-toggleable__content pre {margin: 0.2em;color: black;border-radius: 0.25em;background-color: #f0f8ff;}#sk-container-id-3 input.sk-toggleable__control:checked~div.sk-toggleable__content {max-height: 200px;max-width: 100%;overflow: auto;}#sk-container-id-3 input.sk-toggleable__control:checked~label.sk-toggleable__label-arrow:before {content: \"▾\";}#sk-container-id-3 div.sk-estimator input.sk-toggleable__control:checked~label.sk-toggleable__label {background-color: #d4ebff;}#sk-container-id-3 div.sk-label input.sk-toggleable__control:checked~label.sk-toggleable__label {background-color: #d4ebff;}#sk-container-id-3 input.sk-hidden--visually {border: 0;clip: rect(1px 1px 1px 1px);clip: rect(1px, 1px, 1px, 1px);height: 1px;margin: -1px;overflow: hidden;padding: 0;position: absolute;width: 1px;}#sk-container-id-3 div.sk-estimator {font-family: monospace;background-color: #f0f8ff;border: 1px dotted black;border-radius: 0.25em;box-sizing: border-box;margin-bottom: 0.5em;}#sk-container-id-3 div.sk-estimator:hover {background-color: #d4ebff;}#sk-container-id-3 div.sk-parallel-item::after {content: \"\";width: 100%;border-bottom: 1px solid gray;flex-grow: 1;}#sk-container-id-3 div.sk-label:hover label.sk-toggleable__label {background-color: #d4ebff;}#sk-container-id-3 div.sk-serial::before {content: \"\";position: absolute;border-left: 1px solid gray;box-sizing: border-box;top: 0;bottom: 0;left: 50%;z-index: 0;}#sk-container-id-3 div.sk-serial {display: flex;flex-direction: column;align-items: center;background-color: white;padding-right: 0.2em;padding-left: 0.2em;position: relative;}#sk-container-id-3 div.sk-item {position: relative;z-index: 1;}#sk-container-id-3 div.sk-parallel {display: flex;align-items: stretch;justify-content: center;background-color: white;position: relative;}#sk-container-id-3 div.sk-item::before, #sk-container-id-3 div.sk-parallel-item::before {content: \"\";position: absolute;border-left: 1px solid gray;box-sizing: border-box;top: 0;bottom: 0;left: 50%;z-index: -1;}#sk-container-id-3 div.sk-parallel-item {display: flex;flex-direction: column;z-index: 1;position: relative;background-color: white;}#sk-container-id-3 div.sk-parallel-item:first-child::after {align-self: flex-end;width: 50%;}#sk-container-id-3 div.sk-parallel-item:last-child::after {align-self: flex-start;width: 50%;}#sk-container-id-3 div.sk-parallel-item:only-child::after {width: 0;}#sk-container-id-3 div.sk-dashed-wrapped {border: 1px dashed gray;margin: 0 0.4em 0.5em 0.4em;box-sizing: border-box;padding-bottom: 0.4em;background-color: white;}#sk-container-id-3 div.sk-label label {font-family: monospace;font-weight: bold;display: inline-block;line-height: 1.2em;}#sk-container-id-3 div.sk-label-container {text-align: center;}#sk-container-id-3 div.sk-container {/* jupyter's `normalize.less` sets `[hidden] { display: none; }` but bootstrap.min.css set `[hidden] { display: none !important; }` so we also need the `!important` here to be able to override the default hidden behavior on the sphinx rendered scikit-learn.org. See: https://github.com/scikit-learn/scikit-learn/issues/21755 */display: inline-block !important;position: relative;}#sk-container-id-3 div.sk-text-repr-fallback {display: none;}</style><div id=\"sk-container-id-3\" class=\"sk-top-container\"><div class=\"sk-text-repr-fallback\"><pre>Pipeline(steps=[(&#x27;pipeline&#x27;,\n",
              "                 Pipeline(steps=[(&#x27;columntransformer&#x27;,\n",
              "                                  ColumnTransformer(remainder=&#x27;passthrough&#x27;,\n",
              "                                                    transformers=[(&#x27;pipeline-1&#x27;,\n",
              "                                                                   Pipeline(steps=[(&#x27;standardscaler&#x27;,\n",
              "                                                                                    StandardScaler())]),\n",
              "                                                                   &lt;sklearn.compose._column_transformer.make_column_selector object at 0x7f303579b370&gt;),\n",
              "                                                                  (&#x27;pipeline-2&#x27;,\n",
              "                                                                   Pipeline(steps=[(&#x27;onehotencoder&#x27;,\n",
              "                                                                                    OneHotEncoder(handle_unknown=&#x27;ignore&#x27;,\n",
              "                                                                                                  sparse=False))]),\n",
              "                                                                   &lt;sklearn.compose._column_transformer.make_column_selector object at 0x7f303579b280&gt;)])),\n",
              "                                 (&#x27;pca&#x27;, PCA(n_components=0.95))])),\n",
              "                (&#x27;kneighborsclassifier&#x27;, KNeighborsClassifier())])</pre><b>In a Jupyter environment, please rerun this cell to show the HTML representation or trust the notebook. <br />On GitHub, the HTML representation is unable to render, please try loading this page with nbviewer.org.</b></div><div class=\"sk-container\" hidden><div class=\"sk-item sk-dashed-wrapped\"><div class=\"sk-label-container\"><div class=\"sk-label sk-toggleable\"><input class=\"sk-toggleable__control sk-hidden--visually\" id=\"sk-estimator-id-19\" type=\"checkbox\" ><label for=\"sk-estimator-id-19\" class=\"sk-toggleable__label sk-toggleable__label-arrow\">Pipeline</label><div class=\"sk-toggleable__content\"><pre>Pipeline(steps=[(&#x27;pipeline&#x27;,\n",
              "                 Pipeline(steps=[(&#x27;columntransformer&#x27;,\n",
              "                                  ColumnTransformer(remainder=&#x27;passthrough&#x27;,\n",
              "                                                    transformers=[(&#x27;pipeline-1&#x27;,\n",
              "                                                                   Pipeline(steps=[(&#x27;standardscaler&#x27;,\n",
              "                                                                                    StandardScaler())]),\n",
              "                                                                   &lt;sklearn.compose._column_transformer.make_column_selector object at 0x7f303579b370&gt;),\n",
              "                                                                  (&#x27;pipeline-2&#x27;,\n",
              "                                                                   Pipeline(steps=[(&#x27;onehotencoder&#x27;,\n",
              "                                                                                    OneHotEncoder(handle_unknown=&#x27;ignore&#x27;,\n",
              "                                                                                                  sparse=False))]),\n",
              "                                                                   &lt;sklearn.compose._column_transformer.make_column_selector object at 0x7f303579b280&gt;)])),\n",
              "                                 (&#x27;pca&#x27;, PCA(n_components=0.95))])),\n",
              "                (&#x27;kneighborsclassifier&#x27;, KNeighborsClassifier())])</pre></div></div></div><div class=\"sk-serial\"><div class=\"sk-item\"><div class=\"sk-label-container\"><div class=\"sk-label sk-toggleable\"><input class=\"sk-toggleable__control sk-hidden--visually\" id=\"sk-estimator-id-20\" type=\"checkbox\" ><label for=\"sk-estimator-id-20\" class=\"sk-toggleable__label sk-toggleable__label-arrow\">pipeline: Pipeline</label><div class=\"sk-toggleable__content\"><pre>Pipeline(steps=[(&#x27;columntransformer&#x27;,\n",
              "                 ColumnTransformer(remainder=&#x27;passthrough&#x27;,\n",
              "                                   transformers=[(&#x27;pipeline-1&#x27;,\n",
              "                                                  Pipeline(steps=[(&#x27;standardscaler&#x27;,\n",
              "                                                                   StandardScaler())]),\n",
              "                                                  &lt;sklearn.compose._column_transformer.make_column_selector object at 0x7f303579b370&gt;),\n",
              "                                                 (&#x27;pipeline-2&#x27;,\n",
              "                                                  Pipeline(steps=[(&#x27;onehotencoder&#x27;,\n",
              "                                                                   OneHotEncoder(handle_unknown=&#x27;ignore&#x27;,\n",
              "                                                                                 sparse=False))]),\n",
              "                                                  &lt;sklearn.compose._column_transformer.make_column_selector object at 0x7f303579b280&gt;)])),\n",
              "                (&#x27;pca&#x27;, PCA(n_components=0.95))])</pre></div></div></div><div class=\"sk-serial\"><div class=\"sk-item sk-dashed-wrapped\"><div class=\"sk-label-container\"><div class=\"sk-label sk-toggleable\"><input class=\"sk-toggleable__control sk-hidden--visually\" id=\"sk-estimator-id-21\" type=\"checkbox\" ><label for=\"sk-estimator-id-21\" class=\"sk-toggleable__label sk-toggleable__label-arrow\">columntransformer: ColumnTransformer</label><div class=\"sk-toggleable__content\"><pre>ColumnTransformer(remainder=&#x27;passthrough&#x27;,\n",
              "                  transformers=[(&#x27;pipeline-1&#x27;,\n",
              "                                 Pipeline(steps=[(&#x27;standardscaler&#x27;,\n",
              "                                                  StandardScaler())]),\n",
              "                                 &lt;sklearn.compose._column_transformer.make_column_selector object at 0x7f303579b370&gt;),\n",
              "                                (&#x27;pipeline-2&#x27;,\n",
              "                                 Pipeline(steps=[(&#x27;onehotencoder&#x27;,\n",
              "                                                  OneHotEncoder(handle_unknown=&#x27;ignore&#x27;,\n",
              "                                                                sparse=False))]),\n",
              "                                 &lt;sklearn.compose._column_transformer.make_column_selector object at 0x7f303579b280&gt;)])</pre></div></div></div><div class=\"sk-parallel\"><div class=\"sk-parallel-item\"><div class=\"sk-item\"><div class=\"sk-label-container\"><div class=\"sk-label sk-toggleable\"><input class=\"sk-toggleable__control sk-hidden--visually\" id=\"sk-estimator-id-22\" type=\"checkbox\" ><label for=\"sk-estimator-id-22\" class=\"sk-toggleable__label sk-toggleable__label-arrow\">pipeline-1</label><div class=\"sk-toggleable__content\"><pre>&lt;sklearn.compose._column_transformer.make_column_selector object at 0x7f303579b370&gt;</pre></div></div></div><div class=\"sk-serial\"><div class=\"sk-item\"><div class=\"sk-serial\"><div class=\"sk-item\"><div class=\"sk-estimator sk-toggleable\"><input class=\"sk-toggleable__control sk-hidden--visually\" id=\"sk-estimator-id-23\" type=\"checkbox\" ><label for=\"sk-estimator-id-23\" class=\"sk-toggleable__label sk-toggleable__label-arrow\">StandardScaler</label><div class=\"sk-toggleable__content\"><pre>StandardScaler()</pre></div></div></div></div></div></div></div></div><div class=\"sk-parallel-item\"><div class=\"sk-item\"><div class=\"sk-label-container\"><div class=\"sk-label sk-toggleable\"><input class=\"sk-toggleable__control sk-hidden--visually\" id=\"sk-estimator-id-24\" type=\"checkbox\" ><label for=\"sk-estimator-id-24\" class=\"sk-toggleable__label sk-toggleable__label-arrow\">pipeline-2</label><div class=\"sk-toggleable__content\"><pre>&lt;sklearn.compose._column_transformer.make_column_selector object at 0x7f303579b280&gt;</pre></div></div></div><div class=\"sk-serial\"><div class=\"sk-item\"><div class=\"sk-serial\"><div class=\"sk-item\"><div class=\"sk-estimator sk-toggleable\"><input class=\"sk-toggleable__control sk-hidden--visually\" id=\"sk-estimator-id-25\" type=\"checkbox\" ><label for=\"sk-estimator-id-25\" class=\"sk-toggleable__label sk-toggleable__label-arrow\">OneHotEncoder</label><div class=\"sk-toggleable__content\"><pre>OneHotEncoder(handle_unknown=&#x27;ignore&#x27;, sparse=False)</pre></div></div></div></div></div></div></div></div><div class=\"sk-parallel-item\"><div class=\"sk-item\"><div class=\"sk-label-container\"><div class=\"sk-label sk-toggleable\"><input class=\"sk-toggleable__control sk-hidden--visually\" id=\"sk-estimator-id-26\" type=\"checkbox\" ><label for=\"sk-estimator-id-26\" class=\"sk-toggleable__label sk-toggleable__label-arrow\">remainder</label><div class=\"sk-toggleable__content\"><pre>[]</pre></div></div></div><div class=\"sk-serial\"><div class=\"sk-item\"><div class=\"sk-estimator sk-toggleable\"><input class=\"sk-toggleable__control sk-hidden--visually\" id=\"sk-estimator-id-27\" type=\"checkbox\" ><label for=\"sk-estimator-id-27\" class=\"sk-toggleable__label sk-toggleable__label-arrow\">passthrough</label><div class=\"sk-toggleable__content\"><pre>passthrough</pre></div></div></div></div></div></div></div></div><div class=\"sk-item\"><div class=\"sk-estimator sk-toggleable\"><input class=\"sk-toggleable__control sk-hidden--visually\" id=\"sk-estimator-id-28\" type=\"checkbox\" ><label for=\"sk-estimator-id-28\" class=\"sk-toggleable__label sk-toggleable__label-arrow\">PCA</label><div class=\"sk-toggleable__content\"><pre>PCA(n_components=0.95)</pre></div></div></div></div></div><div class=\"sk-item\"><div class=\"sk-estimator sk-toggleable\"><input class=\"sk-toggleable__control sk-hidden--visually\" id=\"sk-estimator-id-29\" type=\"checkbox\" ><label for=\"sk-estimator-id-29\" class=\"sk-toggleable__label sk-toggleable__label-arrow\">KNeighborsClassifier</label><div class=\"sk-toggleable__content\"><pre>KNeighborsClassifier()</pre></div></div></div></div></div></div></div>"
            ]
          },
          "metadata": {},
          "execution_count": 59
        }
      ],
      "source": [
        "#Make the knn pipeline for the data processed.\n",
        "knn_pipeline = make_pipeline(pca_pipeline, knn)\n",
        "\n",
        "#Fit the Model onto the train dataset\n",
        "knn_pipeline.fit(X_train,y_train)"
      ]
    },
    {
      "cell_type": "code",
      "execution_count": 60,
      "metadata": {
        "colab": {
          "base_uri": "https://localhost:8080/"
        },
        "id": "BJvIQ8x11bIK",
        "outputId": "0738ed5c-5e5a-455d-bbf2-75c2036e03ef"
      },
      "outputs": [
        {
          "output_type": "stream",
          "name": "stdout",
          "text": [
            "knn_pipeline_train : 0.8856241291697402\n",
            "knn_pipeline_test  : 0.8329440688383528\n"
          ]
        }
      ],
      "source": [
        "#Predict the values for the test set\n",
        "knn_preds = knn_pipeline.predict(X_test)\n",
        "\n",
        "#Obtain Scores\n",
        "train_score = knn_pipeline.score(X_train, y_train)\n",
        "test_score = knn_pipeline.score(X_test, y_test)\n",
        "\n",
        "print('knn_pipeline_train :',train_score)\n",
        "print('knn_pipeline_test  :',test_score)"
      ]
    },
    {
      "cell_type": "markdown",
      "metadata": {
        "id": "vywNRRrR3fYU"
      },
      "source": [
        "**Observation**\n",
        "\n",
        "The Accuracy score of the model on the testing dataset is 83.3% however this is slightly below the accuracy score on the train set (88.5%), thus the model is slightly over fitting on the dataset."
      ]
    },
    {
      "cell_type": "markdown",
      "metadata": {
        "id": "ZbbTIRtGSWMG"
      },
      "source": [
        "# **Tunning the KNN Model**\n",
        "\n",
        "Hyper-parameter: *n_neighbors*\n",
        "\n",
        "Method: *Cross Validation*"
      ]
    },
    {
      "cell_type": "code",
      "execution_count": 61,
      "metadata": {
        "colab": {
          "base_uri": "https://localhost:8080/"
        },
        "id": "XgeTGXaI2rUI",
        "outputId": "0474ec55-333f-491f-9533-a68eff0b0c76"
      },
      "outputs": [
        {
          "output_type": "execute_result",
          "data": {
            "text/plain": [
              "[1, 3, 5, 7, 9, 11, 13, 15, 17, 19, 21, 23, 25, 27, 29]"
            ]
          },
          "metadata": {},
          "execution_count": 61
        }
      ],
      "source": [
        "# Setting a range of odd integers for  values of k\n",
        "ks = range(1,30, 2)\n",
        "list(ks)"
      ]
    },
    {
      "cell_type": "code",
      "execution_count": null,
      "metadata": {
        "colab": {
          "background_save": true
        },
        "id": "VR4K0cSO5cCW"
      },
      "outputs": [],
      "source": [
        "# Loop through values of K\n",
        "scores = []\n",
        "for k in ks:\n",
        "  knn = KNeighborsClassifier(n_neighbors=k)\n",
        "  knn_pipeline = make_pipeline(pca_pipeline, knn)\n",
        "  scores.append(cross_val_score(knn_pipeline, X_train, y_train))\n",
        "  \n",
        "#The different values for k perform better on different folds of the data. \n",
        "#Let's average the folds for each value of K to make them easier to compare\n",
        "for index, k in enumerate(ks):\n",
        "  mean_score = np.mean(scores[index])\n",
        "  print(f'Score for n_neighbors = {k} is {mean_score}')"
      ]
    },
    {
      "cell_type": "markdown",
      "metadata": {
        "id": "YLubFCET1h7P"
      },
      "source": [
        "The Model with n_neighbors = 23 has athe highest accuracy score = 84.67% on the train set"
      ]
    },
    {
      "cell_type": "code",
      "execution_count": null,
      "metadata": {
        "colab": {
          "background_save": true
        },
        "id": "E1TChcUjrA1W"
      },
      "outputs": [],
      "source": [
        "#Evaluating the final model on the hold-out test set.\n",
        "\n",
        "# Create a final model and final pipeline\n",
        "final_model = KNeighborsClassifier(n_neighbors=23)\n",
        "knn_pipeline = make_pipeline(pca_pipeline, final_model)\n",
        "knn_pipeline.fit(X_train, y_train)\n",
        "\n",
        "#Predict  and view the values for y \n",
        "knn_preds = knn_pipeline.predict(X_test)\n",
        "\n",
        "# Evaluate the accuracy of the model on the test set.\n",
        "train_score = knn_pipeline.score(X_train, y_train)\n",
        "test_score = knn_pipeline.score(X_test, y_test)\n",
        "\n",
        "print('knn_pipeline_train :',train_score)\n",
        "print('knn_pipeline_test  :',test_score)"
      ]
    },
    {
      "cell_type": "markdown",
      "metadata": {
        "id": "WKcCYHSs3Yo1"
      },
      "source": [
        "**Observation**\n",
        "\n",
        "After setting the number of KNeighbours,\n",
        "\n",
        "The Accuracy score of the model on the train data is 85.9%  and the accuracy score on the test set is 84.4%, thus the model is fitting relatively well on the dataset."
      ]
    },
    {
      "cell_type": "markdown",
      "metadata": {
        "id": "yrpmI1c_FzNp"
      },
      "source": [
        "**Evaluating the KNN Model**"
      ]
    },
    {
      "cell_type": "code",
      "execution_count": null,
      "metadata": {
        "colab": {
          "background_save": true
        },
        "id": "aYoi5tlvFzNq"
      },
      "outputs": [],
      "source": [
        "#Model Evaluation Using the Classification Report\n",
        "report = classification_report(y_test,knn_preds, output_dict=True)\n",
        "knn_rpt = pd.DataFrame(report).T\n",
        "knn_rpt"
      ]
    },
    {
      "cell_type": "code",
      "execution_count": null,
      "metadata": {
        "colab": {
          "background_save": true
        },
        "id": "75Om_jz-FzNq"
      },
      "outputs": [],
      "source": [
        "#Model Evaluation Using the Confusion Matrix\n",
        "labels = ['Below_$50K','Above_$50K']\n",
        "fig, ax = plt.subplots(1,2,figsize=(14,5))\n",
        "\n",
        "# Plot the unnormalized confusion matrix\n",
        "cm_disp = ConfusionMatrixDisplay.from_predictions(y_test,knn_preds,cmap='Blues',ax=ax[0],display_labels=labels)\n",
        "cm_disp.ax_.set_title('Confusion matrix (unnormalized)')\n",
        "# Plot the normalized confusion matrix\n",
        "cm_disp = ConfusionMatrixDisplay.from_predictions(y_test,knn_preds,cmap='Blues',ax=ax[1], normalize='true',display_labels=labels)\n",
        "cm_disp.ax_.set_title('Confusion matrix (normalized)')\n",
        "for axis in ax:\n",
        "    axis.grid(False)"
      ]
    },
    {
      "cell_type": "markdown",
      "metadata": {
        "id": "xJrj0wzaFzNr"
      },
      "source": [
        "\n",
        "**Observations from the KNN Model**\n",
        "***\n",
        "```\n",
        "Accuracy Scores\n",
        "```\n",
        "The R2 Score is the accuracy score of the model on the training data, which is the proportion of correctly classified instances out of all instances in the data set.\n",
        "\n",
        "Train Score: is the accuracy score which Means that the model correctly classified 85.9% of the instances in the training set.\n",
        "\n",
        "Test Score:  is the accuracy score of the model on the test data which means that the model correctly classified 84.4% of the instances in the test set.\n",
        "\n",
        "The scores on the training and test sets are relatively close to each other, However this indicates that the model is \n",
        "\n",
        "```\n",
        "Classification Report \n",
        "```\n",
        "*Precision:*\n",
        "\n",
        "Measures the accuracy of positive predictions.\n",
        "\n",
        "Out of all the instances predicted as class 0, 87.57% were correctly predicted. \n",
        "\n",
        "Out of all the instances predicted as class 1, 71.6% were correctly predicted. \n",
        "\n",
        "*Recall:* \n",
        "\n",
        "Measures the sensitivity of the model to detect positive instances in a class.\n",
        "\n",
        "Out of all the actual instances that belong to class 0, the model correctly identified 92.4% of them.\n",
        "\n",
        "Out of all the actual instances that belong to class 1, the model correctly identified 59.1% of them.\n",
        "\n",
        "*F1-score:*\n",
        "\n",
        "Measures the harmonic mean of precision and recall, and it provides a balanced measure of the model's performance.\n",
        "\n",
        "In this report, the F1-score for class 0 is 90.0% and only 64.8%  for Class 1\n",
        "\n",
        "```\n",
        "Confusion Matrix\n",
        "```\n",
        "*True Positives* : 59%\n",
        "\n",
        "Out of all the persons Above_50K_Dollars, only 59% were truely predicted.\n",
        "\n",
        "*False Positives* : 7.5%\n",
        "\n",
        "Out of all the persons predicted as Above_50K_Dollars, 6% were Below_50K Dollars.\n",
        "\n",
        "*True Negatives* : 92%\n",
        "\n",
        "Out of all the persons Below_50K_Dollars, only 94% were truely predicted.\n",
        "\n",
        "*False Negatives* : 4.1%\n",
        "\n",
        "Out of all the persons predicted as Below_50K_Dollars, 4% were Above_50K Dollars.\n",
        "\n",
        "```\n",
        "Summary\n",
        "```\n",
        "In terms of samples identified, the Random Forest model performed better than the KNN Model. basing on the metrics used."
      ]
    },
    {
      "cell_type": "markdown",
      "metadata": {
        "id": "90V7AGhJOlsg"
      },
      "source": [
        "***\n",
        "# **Logistic Regression model**\n",
        "***"
      ]
    },
    {
      "cell_type": "code",
      "execution_count": null,
      "metadata": {
        "colab": {
          "background_save": true
        },
        "id": "O4eChbg2TcB6"
      },
      "outputs": [],
      "source": [
        "# Make an instance of the model with default parameters\n",
        "logreg = LogisticRegression()\n",
        "\n",
        "# Put scaler and model in a pipeline\n",
        "logreg_pipe = make_pipeline(pca_pipeline, logreg)\n",
        "# Training the model on the data, storing the information learned from the data \n",
        "logreg_pipe.fit(X_train, y_train)\n",
        "\n",
        "#Make Predictions.\n",
        "logreg_preds = logreg_pipe.predict_proba(X_test)\n",
        "\n",
        "#Obtain scores on the train and test datasets\n",
        "print(f'Train_score: {logreg_pipe.score(X_train, y_train)}')\n",
        "print(f'Test_score : {logreg_pipe.score(X_test, y_test)}')"
      ]
    },
    {
      "cell_type": "code",
      "execution_count": null,
      "metadata": {
        "colab": {
          "background_save": true
        },
        "id": "AksiASYcVNIu"
      },
      "outputs": [],
      "source": [
        "#Obtain parameters of the model\n",
        "logreg.get_params()"
      ]
    },
    {
      "cell_type": "markdown",
      "metadata": {
        "id": "kd9N0St4Ezbd"
      },
      "source": [
        "##**1. Logistic Regression model with L1 Regularisation**\n",
        "```\n",
        "L1 regularization introduces a penalty that will push some or many weights to zero.\n",
        "This is useful since the dataset has a large number of features.\n",
        "```\n",
        "*Changing the Solver*\n",
        "```\n",
        "By default: \n",
        "solver = 'lbfgs'  however this can’t do L1 regularization.\n",
        "\n",
        "Thus i will use:\n",
        "solver =  'liblinear'\n",
        "```\n",
        "\n"
      ]
    },
    {
      "cell_type": "code",
      "execution_count": null,
      "metadata": {
        "colab": {
          "background_save": true
        },
        "id": "9EYJ7yqKEvfG"
      },
      "outputs": [],
      "source": [
        "# create a list of c values and empty lists for scores\n",
        "c_values = [0.0001, 0.001, 0.01, 0.1, 1, 10, 100, 100,1000]\n",
        "\n",
        "#Initiate the empty Scores lists\n",
        "train_scores = []\n",
        "test_scores = []\n",
        "\n",
        "#iterate over the c values\n",
        "for c in c_values:\n",
        "  # Instantiate a model with each value of c and fit it on the data.\n",
        "  log_reg = LogisticRegression(C=c, max_iter=1000, solver='liblinear', penalty='l1')\n",
        "  log_reg_pipe = make_pipeline(pca_pipeline, log_reg)\n",
        "  log_reg_pipe.fit(X_train, y_train)\n",
        "  Train_score = log_reg_pipe.score(X_train, y_train) \n",
        "  Test_score =  log_reg_pipe.score(X_test, y_test)\n",
        "  # Add the training and testing scores to our scores lists\n",
        "  train_scores.append(Train_score)\n",
        "  test_scores.append(Test_score)\n",
        " \n",
        "#plot the change in accuracy as we change the value of C\n",
        "fig, ax = plt.subplots(1,1)\n",
        "ax.plot(c_values, train_scores, marker='.', linewidth=1, markersize=10, label='Training Accuracy')\n",
        "ax.plot(c_values, test_scores, marker='.',linewidth=1, markersize=10, label='Testing Accuracy')\n",
        "ax.set_title('Change in Accuracy over C values for l1 regularization',fontsize=12)\n",
        "ax.set_xlabel('C Values')\n",
        "ax.set_ylabel('Accuracy Scores')\n",
        "ax.set_xticks(c_values)\n",
        "ax.legend()\n",
        " \n",
        "#Set the x axis to a logarithmic scale to show the values of C in even intervals\n",
        "ax.set_xscale('log')\n",
        "# Obtain a dictionary of values of C and accuracy scores\n",
        "my_dict = {c:score for c, score in zip(c_values, test_scores)}"
      ]
    },
    {
      "cell_type": "code",
      "execution_count": null,
      "metadata": {
        "colab": {
          "background_save": true
        },
        "id": "sl0cEdtpV8LP"
      },
      "outputs": [],
      "source": [
        "#Obtain a Dataframe with the testing data Scores and c_values Using the L1 Regularisation\n",
        "df1 = pd.DataFrame(my_dict,index=[0])\n",
        "df1"
      ]
    },
    {
      "cell_type": "markdown",
      "metadata": {
        "id": "HvbFLAFZWVNX"
      },
      "source": [
        "**From the Observation: L1 Regularisation**\n",
        "\n",
        "The best accuracy = 85.18% on the test set and is obtained when C=10  (10^1).\n",
        "\n",
        "As we increase the value of C further than this value, the accuracy remains constant."
      ]
    },
    {
      "cell_type": "code",
      "execution_count": null,
      "metadata": {
        "colab": {
          "background_save": true
        },
        "id": "7UgnlCaGY7SO"
      },
      "outputs": [],
      "source": [
        "# Instantiate the model with the obtained value of c and fit it on the data.\n",
        "log_reg1 = LogisticRegression(C=10, max_iter=1000, solver='liblinear', penalty='l1')\n",
        "log_reg_pipe1 = make_pipeline(pca_pipeline, log_reg1)\n",
        "log_reg_pipe1.fit(X_train, y_train)\n",
        "\n",
        "#Make Predictions.\n",
        "logreg_preds1 = logreg_pipe.predict(X_test)\n",
        "\n",
        "#Obtain scores on the train and test datasets\n",
        "Train_score1 = log_reg_pipe1.score(X_train, y_train) \n",
        "Test_score1 =  log_reg_pipe1.score(X_test, y_test)\n",
        "\n",
        "print(f'Train_score: {Train_score1}')\n",
        "print(f'Test_score : {Test_score1}')"
      ]
    },
    {
      "cell_type": "markdown",
      "metadata": {
        "id": "Y_9tPsm9Zkx9"
      },
      "source": [
        "**Evaluating the Logistic Regression model with L1 Regularisation**"
      ]
    },
    {
      "cell_type": "code",
      "execution_count": null,
      "metadata": {
        "colab": {
          "background_save": true
        },
        "id": "Nj-Q1yN8Zkx-"
      },
      "outputs": [],
      "source": [
        "#Model Evaluation Using the Classification Report\n",
        "report = classification_report(y_test,logreg_preds1, output_dict=True)\n",
        "logreg_rpt = pd.DataFrame(report).T\n",
        "logreg_rpt"
      ]
    },
    {
      "cell_type": "code",
      "execution_count": null,
      "metadata": {
        "colab": {
          "background_save": true
        },
        "id": "uKHoKM38Zkx-"
      },
      "outputs": [],
      "source": [
        "#Model Evaluation Using the Confusion Matrix\n",
        "labels = ['Below_$50K','Above_$50K']\n",
        "fig, ax = plt.subplots(1,2,figsize=(14,5))\n",
        "\n",
        "# Plot the unnormalized confusion matrix\n",
        "cm_disp = ConfusionMatrixDisplay.from_predictions(y_test,logreg_preds1,cmap='Accent',ax=ax[0],display_labels=labels)\n",
        "cm_disp.ax_.set_title('Confusion matrix (unnormalized)')\n",
        "# Plot the normalized confusion matrix\n",
        "cm_disp = ConfusionMatrixDisplay.from_predictions(y_test,logreg_preds1,cmap='Accent',ax=ax[1], normalize='true',display_labels=labels)\n",
        "cm_disp.ax_.set_title('Confusion matrix (normalized)')\n",
        "for axis in ax:\n",
        "    axis.grid(False)"
      ]
    },
    {
      "cell_type": "markdown",
      "metadata": {
        "id": "NE_usegxZkx-"
      },
      "source": [
        "\n",
        "**Observations from the Logistic Regression model with L1 Regularisation**\n",
        "***\n",
        "```\n",
        "Accuracy Scores\n",
        "```\n",
        "The R2 Score is the accuracy score of the model on the training data, which is the proportion of correctly classified instances out of all instances in the data set.\n",
        "\n",
        "Train Score: is the accuracy score which Means that the model correctly classified 84.8% of the instances in the training set.\n",
        "\n",
        "Test Score:  is the accuracy score of the model on the test data which means that the model correctly classified 85.16% of the instances in the test set.\n",
        "\n",
        "The scores on the training and test sets are relatively close to each other, However this indicates that the model is \n",
        "\n",
        "```\n",
        "Classification Report \n",
        "```\n",
        "*Precision:*\n",
        "\n",
        "Measures the accuracy of positive predictions.\n",
        "\n",
        "Out of all the instances predicted as class 0, 87.9% were correctly predicted. \n",
        "\n",
        "Out of all the instances predicted as class 1, 74.14% were correctly predicted. \n",
        "\n",
        "*Recall:* \n",
        "\n",
        "Measures the sensitivity of the model to detect positive instances in a class.\n",
        "\n",
        "Out of all the actual instances that belong to class 0, the model correctly identified 93.3% of them.\n",
        "\n",
        "Out of all the actual instances that belong to class 1, the model correctly identified 59.9% of them.\n",
        "\n",
        "*F1-score:*\n",
        "\n",
        "Measures the harmonic mean of precision and recall, and it provides a balanced measure of the model's performance.\n",
        "\n",
        "In this report, the F1-score for class 0 is 90.5% and only 66.3%  for Class 1\n",
        "\n",
        "```\n",
        "Confusion Matrix\n",
        "```\n",
        "*True Positives* : 60%\n",
        "\n",
        "Out of all the persons Above_50K_Dollars, only 60% were truely predicted.\n",
        "\n",
        "*False Positives* : 6.7%\n",
        "\n",
        "Out of all the persons predicted as Above_50K_Dollars, 6.7% were Below_50K Dollars.\n",
        "\n",
        "*True Negatives* : 93%\n",
        "\n",
        "Out of all the persons Below_50K_Dollars, only 93% were truely predicted.\n",
        "\n",
        "*False Negatives* : 4%\n",
        "\n",
        "Out of all the persons predicted as Below_50K_Dollars, 4% were Above_50K Dollars.\n",
        "\n",
        "```\n",
        "Summary\n",
        "```\n",
        "In terms of samples identified, the Random Forest model performed better than the Logistic Regression model with L1 Regularisation. basing on the metrics used."
      ]
    },
    {
      "cell_type": "markdown",
      "metadata": {
        "id": "ZhTnjZJQj5qh"
      },
      "source": [
        "##**1. Logistic Regression model with L2 Regularisation**\n",
        "```\n",
        "L2 is applied where there is a high correlation between features, filtering out noise from data, and preventing overfitting.\n",
        "```"
      ]
    },
    {
      "cell_type": "code",
      "execution_count": null,
      "metadata": {
        "colab": {
          "background_save": true
        },
        "id": "UysiFLMXj5qi"
      },
      "outputs": [],
      "source": [
        "# create a list of c values and empty lists for scores\n",
        "c_values = [0.0001, 0.001, 0.01, 0.1, 1, 10, 100, 100,1000]\n",
        "\n",
        "#Initiate the empty Scores lists\n",
        "train_scores = []\n",
        "test_scores = []\n",
        "\n",
        "#iterate over the c values\n",
        "for c in c_values:\n",
        "  # Instantiate a model with each value of c and fit it on the data.\n",
        "  log_reg = LogisticRegression(C=c, max_iter=1000, solver='liblinear', penalty='l2')\n",
        "  log_reg_pipe = make_pipeline(pca_pipeline, log_reg)\n",
        "  log_reg_pipe.fit(X_train, y_train)\n",
        "  Train_score = log_reg_pipe.score(X_train, y_train) \n",
        "  Test_score =  log_reg_pipe.score(X_test, y_test)\n",
        "  # Add the training and testing scores to our scores lists\n",
        "  train_scores.append(Train_score)\n",
        "  test_scores.append(Test_score)\n",
        " \n",
        "#plot the change in accuracy as we change the value of C\n",
        "fig, ax = plt.subplots(1,1)\n",
        "ax.plot(c_values, train_scores, marker='.', linewidth=1, markersize=10, label='Training Accuracy')\n",
        "ax.plot(c_values, test_scores, marker='.', linewidth=1, markersize=10, label='Testing Accuracy')\n",
        "ax.set_title('Change in Accuracy over C values for l1 regularization',fontsize=12)\n",
        "ax.set_xlabel('C Values')\n",
        "ax.set_ylabel('Accuracy Scores')\n",
        "ax.set_xticks(c_values)\n",
        "ax.legend()\n",
        " \n",
        "#Set the x axis to a logarithmic scale to show the values of C in even intervals\n",
        "ax.set_xscale('log')\n",
        "# Obtain a dictionary of values of C and accuracy scores\n",
        "my_dict2 = {c:score for c, score in zip(c_values, test_scores)}"
      ]
    },
    {
      "cell_type": "code",
      "execution_count": null,
      "metadata": {
        "colab": {
          "background_save": true
        },
        "id": "_GuHzhZZj5qj"
      },
      "outputs": [],
      "source": [
        "#Obtain a Dataframe with the testing data Scores and c_values Using the L1 Regularisation\n",
        "df2 = pd.DataFrame(my_dict2,index=[0])\n",
        "df2"
      ]
    },
    {
      "cell_type": "markdown",
      "metadata": {
        "id": "NCygz1lgj5qj"
      },
      "source": [
        "**From the Observation: L2 Regularisation**\n",
        "\n",
        "The best accuracy = 85.19% on the test set and is obtained when C=0.1  (10^-1).\n",
        "\n",
        "As we increase the value of C further than this value, the accuracy remains contant."
      ]
    },
    {
      "cell_type": "code",
      "execution_count": null,
      "metadata": {
        "colab": {
          "background_save": true
        },
        "id": "TqxGgyKuj5qk"
      },
      "outputs": [],
      "source": [
        "# Instantiate the model with the obtained value of c and fit it on the data.\n",
        "log_reg2 = LogisticRegression(C=0.1, max_iter=1000, solver='liblinear', penalty='l2')\n",
        "log_reg_pipe2 = make_pipeline(pca_pipeline, log_reg2)\n",
        "log_reg_pipe2.fit(X_train, y_train)\n",
        "\n",
        "#Make Predictions.\n",
        "logreg_preds2 = logreg_pipe.predict(X_test)\n",
        "\n",
        "#Obtain scores on the train and test datasets\n",
        "Train_score2 = log_reg_pipe1.score(X_train, y_train) \n",
        "Test_score2 =  log_reg_pipe1.score(X_test, y_test)\n",
        "\n",
        "print(f'Train_score: {Train_score2}')\n",
        "print(f'Test_score : {Test_score2}')"
      ]
    },
    {
      "cell_type": "markdown",
      "metadata": {
        "id": "7FxG9TyEjKuQ"
      },
      "source": [
        "**Evaluating the Logistic Regression model with L2 Regularisation**"
      ]
    },
    {
      "cell_type": "code",
      "execution_count": null,
      "metadata": {
        "colab": {
          "background_save": true
        },
        "id": "4jtsZnOkjKuW"
      },
      "outputs": [],
      "source": [
        "#Model Evaluation Using the Classification Report\n",
        "report = classification_report(y_test,logreg_preds2, output_dict=True)\n",
        "logreg_rpt2 = pd.DataFrame(report).T\n",
        "logreg_rpt2"
      ]
    },
    {
      "cell_type": "code",
      "execution_count": null,
      "metadata": {
        "colab": {
          "background_save": true
        },
        "id": "YEso1gh3jKuW"
      },
      "outputs": [],
      "source": [
        "#Model Evaluation Using the Confusion Matrix\n",
        "labels = ['Below_$50K','Above_$50K']\n",
        "fig, ax = plt.subplots(1,2,figsize=(14,5))\n",
        "\n",
        "# Plot the unnormalized confusion matrix\n",
        "cm_disp = ConfusionMatrixDisplay.from_predictions(y_test,logreg_preds2, cmap='Greens',ax=ax[0],display_labels=labels)\n",
        "cm_disp.ax_.set_title('Confusion matrix (unnormalized)')\n",
        "# Plot the normalized confusion matrix\n",
        "cm_disp = ConfusionMatrixDisplay.from_predictions(y_test,logreg_preds2, cmap='Greens',ax=ax[1], normalize='true',display_labels=labels)\n",
        "cm_disp.ax_.set_title('Confusion matrix (normalized)')\n",
        "for axis in ax:\n",
        "    axis.grid(False)"
      ]
    },
    {
      "cell_type": "markdown",
      "metadata": {
        "id": "NqcbGSnMjKuW"
      },
      "source": [
        "\n",
        "**Observations from the Logistic Regression model with L2 Regularisation**\n",
        "***\n",
        "```\n",
        "Accuracy Scores\n",
        "```\n",
        "The R2 Score is the accuracy score of the model on the training data, which is the proportion of correctly classified instances out of all instances in the data set.\n",
        "\n",
        "Train Score: is the accuracy score which Means that the model correctly classified 84.8% of the instances in the training set.\n",
        "\n",
        "Test Score:  is the accuracy score of the model on the test data which means that the model correctly classified 85.18% of the instances in the test set.\n",
        "\n",
        "The scores on the training and test sets are relatively close to each other, However this indicates that the model is \n",
        "\n",
        "```\n",
        "Classification Report \n",
        "```\n",
        "*Precision:*\n",
        "\n",
        "Measures the accuracy of positive predictions.\n",
        "\n",
        "Out of all the instances predicted as class 0, 87.9% were correctly predicted. \n",
        "\n",
        "Out of all the instances predicted as class 1, 74.14% were correctly predicted. \n",
        "\n",
        "*Recall:* \n",
        "\n",
        "Measures the sensitivity of the model to detect positive instances in a class.\n",
        "\n",
        "Out of all the actual instances that belong to class 0, the model correctly identified 93.3% of them.\n",
        "\n",
        "Out of all the actual instances that belong to class 1, the model correctly identified 59.9% of them.\n",
        "\n",
        "*F1-score:*\n",
        "\n",
        "Measures the harmonic mean of precision and recall, and it provides a balanced measure of the model's performance.\n",
        "\n",
        "In this report, the F1-score for class 0 is 90.5% and only 66.3%  for Class 1\n",
        "\n",
        "```\n",
        "Confusion Matrix\n",
        "```\n",
        "*True Positives* : 60%\n",
        "\n",
        "Out of all the persons Above_50K_Dollars, only 60% were truely predicted.\n",
        "\n",
        "*False Positives* : 6.7%\n",
        "\n",
        "Out of all the persons predicted as Above_50K_Dollars, 6.7% were Below_50K Dollars.\n",
        "\n",
        "*True Negatives* : 93%\n",
        "\n",
        "Out of all the persons Below_50K_Dollars, only 93% were truely predicted.\n",
        "\n",
        "*False Negatives* : 4%\n",
        "\n",
        "Out of all the persons predicted as Below_50K_Dollars, 4% were Above_50K Dollars.\n",
        "\n",
        "```\n",
        "Summary\n",
        "```\n",
        "In terms of samples identified, the Logistic Regression model with L1 Regularisation performed similar to the Logistic Regression model with L1 Regularisation. basing on the metrics used."
      ]
    },
    {
      "cell_type": "markdown",
      "metadata": {
        "id": "aRcUD4qpsF7P"
      },
      "source": [
        "**Evaluating the Performance of the Random Forest Model using the ROC Curve**\n",
        "\n",
        "The Receiver Operating Characteristic (ROC) Curve is a way to visualize the performance of a classification model at varying thresholds.\\\n",
        " \n",
        "The ROC curve is a plot of the true positive rate (TPR) vs. the false positive rate (FPR). \n",
        "\n",
        "The TPR is the percentage of true positives out of all actual positives while the FPR is the percentage of false positives out of all actual negatives."
      ]
    },
    {
      "cell_type": "code",
      "execution_count": null,
      "metadata": {
        "id": "FlFXIGmutBfn"
      },
      "outputs": [],
      "source": [
        "#Make predictions\n",
        "rf_pipe_preds_train = rf_pipeline.predict_proba(X_train)\n",
        "rf_pipe_preds_test = rf_pipeline.predict_proba(X_test)"
      ]
    }
  ],
  "metadata": {
    "colab": {
      "provenance": [],
      "mount_file_id": "1GaE_4_2STp2_Wqcf41ogkM9q7U5sYXk-",
      "authorship_tag": "ABX9TyOX4zBR3bUB/T6Rwvz5hRIG",
      "include_colab_link": true
    },
    "kernelspec": {
      "display_name": "Python 3",
      "name": "python3"
    },
    "language_info": {
      "name": "python"
    }
  },
  "nbformat": 4,
  "nbformat_minor": 0
}